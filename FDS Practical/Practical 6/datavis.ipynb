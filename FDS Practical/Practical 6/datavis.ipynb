{
  "nbformat": 4,
  "nbformat_minor": 0,
  "metadata": {
    "colab": {
      "name": "datavis.ipynb",
      "provenance": [],
      "collapsed_sections": [],
      "authorship_tag": "ABX9TyMzzF8rRs0xfe8FRXgspSbS",
      "include_colab_link": true
    },
    "kernelspec": {
      "name": "python3",
      "display_name": "Python 3"
    }
  },
  "cells": [
    {
      "cell_type": "markdown",
      "metadata": {
        "id": "view-in-github",
        "colab_type": "text"
      },
      "source": [
        "<a href=\"https://colab.research.google.com/github/simrran-sharma/MSC-IT-PART1-SEM1/blob/main/FDS/datavis.ipynb\" target=\"_parent\"><img src=\"https://colab.research.google.com/assets/colab-badge.svg\" alt=\"Open In Colab\"/></a>"
      ]
    },
    {
      "cell_type": "markdown",
      "metadata": {
        "id": "JuZYrdYaM19b"
      },
      "source": [
        "##**Data Visualization**"
      ]
    },
    {
      "cell_type": "code",
      "metadata": {
        "id": "1lNwirE3Myzy"
      },
      "source": [
        "import pandas as pd\r\n",
        "import matplotlib.pyplot as plt\r\n",
        "import numpy as np\r\n"
      ],
      "execution_count": null,
      "outputs": []
    },
    {
      "cell_type": "code",
      "metadata": {
        "colab": {
          "base_uri": "https://localhost:8080/"
        },
        "id": "UIuPcYI_NGls",
        "outputId": "5fb246e1-c1e7-402b-a6fd-9dfb5cf797ff"
      },
      "source": [
        "from google.colab import drive\r\n",
        "drive.mount(\"/content/gdrive\")"
      ],
      "execution_count": null,
      "outputs": [
        {
          "output_type": "stream",
          "text": [
            "Drive already mounted at /content/gdrive; to attempt to forcibly remount, call drive.mount(\"/content/gdrive\", force_remount=True).\n"
          ],
          "name": "stdout"
        }
      ]
    },
    {
      "cell_type": "code",
      "metadata": {
        "colab": {
          "base_uri": "https://localhost:8080/",
          "height": 195
        },
        "id": "2llyInUPNTeV",
        "outputId": "7eccda6a-34a9-44de-cb8a-35df9a0341a8"
      },
      "source": [
        "tit=pd.read_csv(\"/content/gdrive/MyDrive/Dataset/Titanic.csv\")\r\n",
        "tit.head()"
      ],
      "execution_count": null,
      "outputs": [
        {
          "output_type": "execute_result",
          "data": {
            "text/html": [
              "<div>\n",
              "<style scoped>\n",
              "    .dataframe tbody tr th:only-of-type {\n",
              "        vertical-align: middle;\n",
              "    }\n",
              "\n",
              "    .dataframe tbody tr th {\n",
              "        vertical-align: top;\n",
              "    }\n",
              "\n",
              "    .dataframe thead th {\n",
              "        text-align: right;\n",
              "    }\n",
              "</style>\n",
              "<table border=\"1\" class=\"dataframe\">\n",
              "  <thead>\n",
              "    <tr style=\"text-align: right;\">\n",
              "      <th></th>\n",
              "      <th>PassengerId</th>\n",
              "      <th>Survived</th>\n",
              "      <th>Pclass</th>\n",
              "      <th>Name</th>\n",
              "      <th>Sex</th>\n",
              "      <th>Age</th>\n",
              "      <th>SibSp</th>\n",
              "      <th>Parch</th>\n",
              "      <th>Ticket</th>\n",
              "      <th>Fare</th>\n",
              "      <th>Cabin</th>\n",
              "      <th>Embarked</th>\n",
              "    </tr>\n",
              "  </thead>\n",
              "  <tbody>\n",
              "    <tr>\n",
              "      <th>0</th>\n",
              "      <td>1</td>\n",
              "      <td>0</td>\n",
              "      <td>3</td>\n",
              "      <td>Braund, Mr. Owen Harris</td>\n",
              "      <td>male</td>\n",
              "      <td>22.0</td>\n",
              "      <td>1</td>\n",
              "      <td>0</td>\n",
              "      <td>A/5 21171</td>\n",
              "      <td>7.2500</td>\n",
              "      <td>NaN</td>\n",
              "      <td>S</td>\n",
              "    </tr>\n",
              "    <tr>\n",
              "      <th>1</th>\n",
              "      <td>2</td>\n",
              "      <td>1</td>\n",
              "      <td>1</td>\n",
              "      <td>Cumings, Mrs. John Bradley (Florence Briggs Th...</td>\n",
              "      <td>female</td>\n",
              "      <td>38.0</td>\n",
              "      <td>1</td>\n",
              "      <td>0</td>\n",
              "      <td>PC 17599</td>\n",
              "      <td>71.2833</td>\n",
              "      <td>C85</td>\n",
              "      <td>C</td>\n",
              "    </tr>\n",
              "    <tr>\n",
              "      <th>2</th>\n",
              "      <td>3</td>\n",
              "      <td>1</td>\n",
              "      <td>3</td>\n",
              "      <td>Heikkinen, Miss. Laina</td>\n",
              "      <td>female</td>\n",
              "      <td>26.0</td>\n",
              "      <td>0</td>\n",
              "      <td>0</td>\n",
              "      <td>STON/O2. 3101282</td>\n",
              "      <td>7.9250</td>\n",
              "      <td>NaN</td>\n",
              "      <td>S</td>\n",
              "    </tr>\n",
              "    <tr>\n",
              "      <th>3</th>\n",
              "      <td>4</td>\n",
              "      <td>1</td>\n",
              "      <td>1</td>\n",
              "      <td>Futrelle, Mrs. Jacques Heath (Lily May Peel)</td>\n",
              "      <td>female</td>\n",
              "      <td>35.0</td>\n",
              "      <td>1</td>\n",
              "      <td>0</td>\n",
              "      <td>113803</td>\n",
              "      <td>53.1000</td>\n",
              "      <td>C123</td>\n",
              "      <td>S</td>\n",
              "    </tr>\n",
              "    <tr>\n",
              "      <th>4</th>\n",
              "      <td>5</td>\n",
              "      <td>0</td>\n",
              "      <td>3</td>\n",
              "      <td>Allen, Mr. William Henry</td>\n",
              "      <td>male</td>\n",
              "      <td>35.0</td>\n",
              "      <td>0</td>\n",
              "      <td>0</td>\n",
              "      <td>373450</td>\n",
              "      <td>8.0500</td>\n",
              "      <td>NaN</td>\n",
              "      <td>S</td>\n",
              "    </tr>\n",
              "  </tbody>\n",
              "</table>\n",
              "</div>"
            ],
            "text/plain": [
              "   PassengerId  Survived  Pclass  ...     Fare Cabin  Embarked\n",
              "0            1         0       3  ...   7.2500   NaN         S\n",
              "1            2         1       1  ...  71.2833   C85         C\n",
              "2            3         1       3  ...   7.9250   NaN         S\n",
              "3            4         1       1  ...  53.1000  C123         S\n",
              "4            5         0       3  ...   8.0500   NaN         S\n",
              "\n",
              "[5 rows x 12 columns]"
            ]
          },
          "metadata": {
            "tags": []
          },
          "execution_count": 7
        }
      ]
    },
    {
      "cell_type": "markdown",
      "metadata": {
        "id": "iWA_XQBYPlb1"
      },
      "source": [
        "##**Frequency table**\r\n",
        "A frequency table is a table that displays the frequencies of different categories. This type of table is particularly useful for understanding the distribution of values in a dataset."
      ]
    },
    {
      "cell_type": "code",
      "metadata": {
        "id": "-RIAXviTONBF"
      },
      "source": [
        "df=pd.DataFrame(tit)\r\n"
      ],
      "execution_count": null,
      "outputs": []
    },
    {
      "cell_type": "code",
      "metadata": {
        "colab": {
          "base_uri": "https://localhost:8080/"
        },
        "id": "hWi_5CS2OtPc",
        "outputId": "67ee916a-d092-46a1-9cbf-5eec6bf2be49"
      },
      "source": [
        "print(pd.crosstab(index=df['Sex'],columns=tit['Age']))\r\n",
        "print(pd.crosstab(index=df['Sex'],columns='count'))"
      ],
      "execution_count": null,
      "outputs": [
        {
          "output_type": "stream",
          "text": [
            "Age     0.42   0.67   0.75   0.83   0.92   ...  70.00  70.50  71.00  74.00  80.00\n",
            "Sex                                        ...                                   \n",
            "female      0      0      2      0      0  ...      0      0      0      0      0\n",
            "male        1      1      0      2      1  ...      2      1      2      1      1\n",
            "\n",
            "[2 rows x 88 columns]\n",
            "col_0   count\n",
            "Sex          \n",
            "female    314\n",
            "male      577\n"
          ],
          "name": "stdout"
        }
      ]
    },
    {
      "cell_type": "markdown",
      "metadata": {
        "id": "DmJn0nMXVAsC"
      },
      "source": [
        "##**Scatter plots**\r\n",
        "Scatter plots are used to observe relationship between variables and uses dots to represent the relationship between them. The scatter() method in the matplotlib library is used to draw a scatter plot. Scatter plots are widely used to represent relation among variables and how change in one affects the other."
      ]
    },
    {
      "cell_type": "code",
      "metadata": {
        "id": "YksIc5NWVFkD"
      },
      "source": [
        "import pandas as pd\r\n",
        "hours_tv_watched = [0, 0, 0, 1, 1.3, 1.4, 2, 2.1, 2.6, 3.2, 4.1, 4.4,\r\n",
        "4.4, 5]"
      ],
      "execution_count": null,
      "outputs": []
    },
    {
      "cell_type": "code",
      "metadata": {
        "id": "NN_Nzt0GViLD"
      },
      "source": [
        "work_performance = [87, 89, 92, 90, 82, 80, 77, 80, 76, 85, 80, 75,\r\n",
        "73, 72]"
      ],
      "execution_count": null,
      "outputs": []
    },
    {
      "cell_type": "code",
      "metadata": {
        "id": "FAbWETIhYdCT"
      },
      "source": [
        "df = pd.DataFrame({'hours_tv_watched':hours_tv_watched, 'work_performance':work_performance})"
      ],
      "execution_count": null,
      "outputs": []
    },
    {
      "cell_type": "markdown",
      "metadata": {
        "id": "MUS7njupYrVm"
      },
      "source": [
        ""
      ]
    },
    {
      "cell_type": "code",
      "metadata": {
        "colab": {
          "base_uri": "https://localhost:8080/",
          "height": 297
        },
        "id": "0KW2rt0yYnSx",
        "outputId": "61d78870-ac32-4a7b-d378-6f6956a3c730"
      },
      "source": [
        "df.plot(x='hours_tv_watched', y='work_performance', kind='scatter')"
      ],
      "execution_count": null,
      "outputs": [
        {
          "output_type": "execute_result",
          "data": {
            "text/plain": [
              "<matplotlib.axes._subplots.AxesSubplot at 0x7fbe9f130bd0>"
            ]
          },
          "metadata": {
            "tags": []
          },
          "execution_count": 48
        },
        {
          "output_type": "display_data",
          "data": {
            "image/png": "[encoded data removed]",
            "text/plain": [
              "<Figure size 432x288 with 1 Axes>"
            ]
          },
          "metadata": {
            "tags": [],
            "needs_background": "light"
          }
        }
      ]
    },
    {
      "cell_type": "code",
      "metadata": {
        "colab": {
          "base_uri": "https://localhost:8080/",
          "height": 282
        },
        "id": "RBgnTnBcSIh6",
        "outputId": "78e96ba1-3a90-4121-caa2-e5867e033110"
      },
      "source": [
        "x=pd.Series(df['Age'])\r\n",
        "y=pd.Series(df['Fare'])\r\n",
        "plt.scatter(x,y)"
      ],
      "execution_count": null,
      "outputs": [
        {
          "output_type": "execute_result",
          "data": {
            "text/plain": [
              "<matplotlib.collections.PathCollection at 0x7f555dc20bd0>"
            ]
          },
          "metadata": {
            "tags": []
          },
          "execution_count": 15
        },
        {
          "output_type": "display_data",
          "data": {
            "image/png": "[encoded data removed]",
            "text/plain": [
              "<Figure size 432x288 with 1 Axes>"
            ]
          },
          "metadata": {
            "tags": [],
            "needs_background": "light"
          }
        }
      ]
    },
    {
      "cell_type": "code",
      "metadata": {
        "colab": {
          "base_uri": "https://localhost:8080/",
          "height": 295
        },
        "id": "hHM-6hCXY1xZ",
        "outputId": "00c17ab4-4b8f-4262-c8d3-91597a5cd80d"
      },
      "source": [
        "N = 500\r\n",
        "x = np.random.rand(N)\r\n",
        "y = np.random.rand(N)\r\n",
        "\r\n",
        "area = np.pi*3\r\n",
        "\r\n",
        "# Plot\r\n",
        "plt.scatter(x, y, s=area, c='red', alpha=0.5)\r\n",
        "plt.title('Scatter plot')\r\n",
        "plt.xlabel('x')\r\n",
        "plt.ylabel('y')\r\n",
        "plt.show()"
      ],
      "execution_count": null,
      "outputs": [
        {
          "output_type": "display_data",
          "data": {
            "image/png": "[encoded data removed]",
            "text/plain": [
              "<Figure size 432x288 with 1 Axes>"
            ]
          },
          "metadata": {
            "tags": [],
            "needs_background": "light"
          }
        }
      ]
    },
    {
      "cell_type": "code",
      "metadata": {
        "colab": {
          "base_uri": "https://localhost:8080/",
          "height": 279
        },
        "id": "t7iv92eOtcAl",
        "outputId": "50a59ebf-e8e0-4188-e41f-c1515a5fb617"
      },
      "source": [
        "data={'a':np.arange(50),\r\n",
        "      'c':np.random.randint(0,50,50),\r\n",
        "      'd':np.random.randn(50)}\r\n",
        "data['b']=data['a']+10*np.random.randn(50)\r\n",
        "data['d']=np.abs(data['d'])*100\r\n",
        "plt.scatter('a','b',c='c',s='d',data=data) #c=color and s=size\r\n",
        "plt.xlabel('entry a')\r\n",
        "plt.ylabel('entry b')\r\n",
        "plt.show()"
      ],
      "execution_count": null,
      "outputs": [
        {
          "output_type": "display_data",
          "data": {
            "image/png": "[encoded data removed]",
            "text/plain": [
              "<Figure size 432x288 with 1 Axes>"
            ]
          },
          "metadata": {
            "tags": [],
            "needs_background": "light"
          }
        }
      ]
    },
    {
      "cell_type": "markdown",
      "metadata": {
        "id": "8Mt-GKg9ZOIV"
      },
      "source": [
        "##**Line graphs**\r\n",
        "Line graphs are, perhaps, one of the most widely used graphs in data communication.\r\n",
        "A line graph simply uses lines to connect data points and usually represents time on\r\n",
        "the x axis. Line graphs are a popular way to show changes in variables over time. The\r\n",
        "line graph, like the scatter plot, is used to plot quantitative variables."
      ]
    },
    {
      "cell_type": "code",
      "metadata": {
        "colab": {
          "base_uri": "https://localhost:8080/",
          "height": 295
        },
        "id": "1VnkVoYYZRBK",
        "outputId": "aea4bebc-3f08-4230-8ac9-b2adf8501edc"
      },
      "source": [
        "Year = [1920,1930,1940,1950,1960,1970,1980,1990,2000,2010]\r\n",
        "Unemployment_Rate = [9.8,12,8,7.2,6.9,7,6.5,6.2,5.5,6.3]\r\n",
        "plt.plot(Year, Unemployment_Rate)\r\n",
        "plt.title('Unemployment Rate Vs Year')\r\n",
        "plt.xlabel('Year')\r\n",
        "plt.ylabel('Unemployment Rate')\r\n",
        "plt.grid(True)\r\n",
        "plt.show()"
      ],
      "execution_count": null,
      "outputs": [
        {
          "output_type": "display_data",
          "data": {
            "image/png": "[encoded data removed]",
            "text/plain": [
              "<Figure size 432x288 with 1 Axes>"
            ]
          },
          "metadata": {
            "tags": [],
            "needs_background": "light"
          }
        }
      ]
    },
    {
      "cell_type": "code",
      "metadata": {
        "colab": {
          "base_uri": "https://localhost:8080/",
          "height": 416
        },
        "id": "5tiCDg2tZ4rl",
        "outputId": "ac984d80-3d45-497c-f719-f731acad7f1a"
      },
      "source": [
        "x = np.linspace(-1, 1, 50)\r\n",
        "print(x)\r\n",
        "y = 2*x + 1\r\n",
        "\r\n",
        "plt.plot(x, y)\r\n",
        "plt.show()"
      ],
      "execution_count": null,
      "outputs": [
        {
          "output_type": "stream",
          "text": [
            "[-1.         -0.95918367 -0.91836735 -0.87755102 -0.83673469 -0.79591837\n",
            " -0.75510204 -0.71428571 -0.67346939 -0.63265306 -0.59183673 -0.55102041\n",
            " -0.51020408 -0.46938776 -0.42857143 -0.3877551  -0.34693878 -0.30612245\n",
            " -0.26530612 -0.2244898  -0.18367347 -0.14285714 -0.10204082 -0.06122449\n",
            " -0.02040816  0.02040816  0.06122449  0.10204082  0.14285714  0.18367347\n",
            "  0.2244898   0.26530612  0.30612245  0.34693878  0.3877551   0.42857143\n",
            "  0.46938776  0.51020408  0.55102041  0.59183673  0.63265306  0.67346939\n",
            "  0.71428571  0.75510204  0.79591837  0.83673469  0.87755102  0.91836735\n",
            "  0.95918367  1.        ]\n"
          ],
          "name": "stdout"
        },
        {
          "output_type": "display_data",
          "data": {
            "image/png": "[encoded data removed]",
            "text/plain": [
              "<Figure size 432x288 with 1 Axes>"
            ]
          },
          "metadata": {
            "tags": [],
            "needs_background": "light"
          }
        }
      ]
    },
    {
      "cell_type": "code",
      "metadata": {
        "colab": {
          "base_uri": "https://localhost:8080/",
          "height": 282
        },
        "id": "8b0k7MJKthR6",
        "outputId": "0ce2facb-1fd8-4ab0-9657-3057920a4594"
      },
      "source": [
        "x1=[5,8,10]\r\n",
        "y1=[12,16,6]\r\n",
        "x2=[6,9,11]\r\n",
        "y2=[6,15,7]\r\n",
        "\r\n",
        "plt.figure()\r\n",
        "plt.plot(x1,y1,label='series 1')\r\n",
        "plt.plot(x2,y2,label='series 2')\r\n",
        "plt.legend()"
      ],
      "execution_count": null,
      "outputs": [
        {
          "output_type": "execute_result",
          "data": {
            "text/plain": [
              "<matplotlib.legend.Legend at 0x7fbe9c4819d0>"
            ]
          },
          "metadata": {
            "tags": []
          },
          "execution_count": 101
        },
        {
          "output_type": "display_data",
          "data": {
            "image/png": "[encoded data removed]",
            "text/plain": [
              "<Figure size 432x288 with 1 Axes>"
            ]
          },
          "metadata": {
            "tags": [],
            "needs_background": "light"
          }
        }
      ]
    },
    {
      "cell_type": "markdown",
      "metadata": {
        "id": "iDOF492XZ-aZ"
      },
      "source": [
        "##**Bar charts**\r\n",
        "We generally turn to bar charts when trying to compare variables across different\r\n",
        "groups. For example, we can plot the number of countries per continent using a\r\n",
        "bar chart. Note how the x axis does not represent a quantitative variable, in fact,\r\n",
        "when using a bar chart, the x axis is generally a categorical variable, while the y axis\r\n",
        "is quantitative."
      ]
    },
    {
      "cell_type": "code",
      "metadata": {
        "colab": {
          "base_uri": "https://localhost:8080/",
          "height": 195
        },
        "id": "pfx6px6BaP4v",
        "outputId": "7acf8cd6-324d-43da-8721-351ac56c8ae7"
      },
      "source": [
        "state=pd.read_csv(\"/content/gdrive/MyDrive/Dataset/state.csv\")\r\n",
        "state.head()"
      ],
      "execution_count": null,
      "outputs": [
        {
          "output_type": "execute_result",
          "data": {
            "text/html": [
              "<div>\n",
              "<style scoped>\n",
              "    .dataframe tbody tr th:only-of-type {\n",
              "        vertical-align: middle;\n",
              "    }\n",
              "\n",
              "    .dataframe tbody tr th {\n",
              "        vertical-align: top;\n",
              "    }\n",
              "\n",
              "    .dataframe thead th {\n",
              "        text-align: right;\n",
              "    }\n",
              "</style>\n",
              "<table border=\"1\" class=\"dataframe\">\n",
              "  <thead>\n",
              "    <tr style=\"text-align: right;\">\n",
              "      <th></th>\n",
              "      <th>State</th>\n",
              "      <th>Population</th>\n",
              "      <th>Murder.Rate</th>\n",
              "      <th>Abbreviation</th>\n",
              "    </tr>\n",
              "  </thead>\n",
              "  <tbody>\n",
              "    <tr>\n",
              "      <th>0</th>\n",
              "      <td>Alabama</td>\n",
              "      <td>4779736</td>\n",
              "      <td>5.7</td>\n",
              "      <td>AL</td>\n",
              "    </tr>\n",
              "    <tr>\n",
              "      <th>1</th>\n",
              "      <td>Alaska</td>\n",
              "      <td>710231</td>\n",
              "      <td>5.6</td>\n",
              "      <td>AK</td>\n",
              "    </tr>\n",
              "    <tr>\n",
              "      <th>2</th>\n",
              "      <td>Arizona</td>\n",
              "      <td>6392017</td>\n",
              "      <td>4.7</td>\n",
              "      <td>AZ</td>\n",
              "    </tr>\n",
              "    <tr>\n",
              "      <th>3</th>\n",
              "      <td>Arkansas</td>\n",
              "      <td>2915918</td>\n",
              "      <td>5.6</td>\n",
              "      <td>AR</td>\n",
              "    </tr>\n",
              "    <tr>\n",
              "      <th>4</th>\n",
              "      <td>California</td>\n",
              "      <td>37253956</td>\n",
              "      <td>4.4</td>\n",
              "      <td>CA</td>\n",
              "    </tr>\n",
              "  </tbody>\n",
              "</table>\n",
              "</div>"
            ],
            "text/plain": [
              "        State  Population  Murder.Rate Abbreviation\n",
              "0     Alabama     4779736          5.7           AL\n",
              "1      Alaska      710231          5.6           AK\n",
              "2     Arizona     6392017          4.7           AZ\n",
              "3    Arkansas     2915918          5.6           AR\n",
              "4  California    37253956          4.4           CA"
            ]
          },
          "metadata": {
            "tags": []
          },
          "execution_count": 88
        }
      ]
    },
    {
      "cell_type": "code",
      "metadata": {
        "colab": {
          "base_uri": "https://localhost:8080/",
          "height": 307
        },
        "id": "q6dXDPdHafwT",
        "outputId": "61de2e50-03f0-4fa9-8f55-825df88e46b9"
      },
      "source": [
        "\r\n",
        "x1=state['Murder.Rate'][:15]\r\n",
        "y1=state['Population'][:15]\r\n",
        "plt.bar(x1,y1)\r\n",
        "plt.xlabel(\"Murder Rate\")\r\n",
        "plt.ylabel(\"Population\")"
      ],
      "execution_count": null,
      "outputs": [
        {
          "output_type": "execute_result",
          "data": {
            "text/plain": [
              "Text(0, 0.5, 'Population')"
            ]
          },
          "metadata": {
            "tags": []
          },
          "execution_count": 89
        },
        {
          "output_type": "display_data",
          "data": {
            "image/png": "[encoded data removed]",
            "text/plain": [
              "<Figure size 432x288 with 1 Axes>"
            ]
          },
          "metadata": {
            "tags": [],
            "needs_background": "light"
          }
        }
      ]
    },
    {
      "cell_type": "code",
      "metadata": {
        "colab": {
          "base_uri": "https://localhost:8080/",
          "height": 295
        },
        "id": "lIswpvBEtn8i",
        "outputId": "1bee8b3a-ba50-473c-9167-a27001a14bac"
      },
      "source": [
        "x1=[5,8,10]\r\n",
        "y1=[12,16,6]\r\n",
        "x2=[5,9,11]\r\n",
        "y2=[6,15,7]\r\n",
        "plt.figure()\r\n",
        "plt.bar(x1,y1,color='c',label='series 1')\r\n",
        "plt.bar(x2,y2,color='g',label='series 2') #c=cyan g=green r=red b=blue\r\n",
        "plt.title('graph title')\r\n",
        "plt.xlabel('x axis')\r\n",
        "plt.ylabel('y axis')\r\n",
        "plt.legend()\r\n",
        "plt.show()"
      ],
      "execution_count": null,
      "outputs": [
        {
          "output_type": "display_data",
          "data": {
            "image/png": "[encoded data removed]",
            "text/plain": [
              "<Figure size 432x288 with 1 Axes>"
            ]
          },
          "metadata": {
            "tags": [],
            "needs_background": "light"
          }
        }
      ]
    },
    {
      "cell_type": "markdown",
      "metadata": {
        "id": "61YzyuEprbpK"
      },
      "source": [
        "##**histogram**\r\n",
        "A histogram is basically used to represent data provided in a form of some groups.It is accurate method for the graphical representation of numerical data distribution.It is a type of bar plot where X-axis represents the bin ranges while Y-axis gives information about frequency."
      ]
    },
    {
      "cell_type": "code",
      "metadata": {
        "colab": {
          "base_uri": "https://localhost:8080/",
          "height": 346
        },
        "id": "T6Jp8y-SrJBy",
        "outputId": "125e6f57-59e8-4775-b90f-96c243467faf"
      },
      "source": [
        "plt.hist(state['Population'],8,color=\"pink\")"
      ],
      "execution_count": null,
      "outputs": [
        {
          "output_type": "execute_result",
          "data": {
            "text/plain": [
              "(array([29., 13.,  4.,  1.,  1.,  1.,  0.,  1.]),\n",
              " array([  563626.  ,  5149917.25,  9736208.5 , 14322499.75, 18908791.  ,\n",
              "        23495082.25, 28081373.5 , 32667664.75, 37253956.  ]),\n",
              " <a list of 8 Patch objects>)"
            ]
          },
          "metadata": {
            "tags": []
          },
          "execution_count": 99
        },
        {
          "output_type": "display_data",
          "data": {
            "image/png": "[encoded data removed]",
            "text/plain": [
              "<Figure size 432x288 with 1 Axes>"
            ]
          },
          "metadata": {
            "tags": [],
            "needs_background": "light"
          }
        }
      ]
    },
    {
      "cell_type": "code",
      "metadata": {
        "colab": {
          "base_uri": "https://localhost:8080/",
          "height": 312
        },
        "id": "UWLPYFH0sYQx",
        "outputId": "91e69226-1a57-475e-ff5f-b52ffcb9fd25"
      },
      "source": [
        "# prepare data\r\n",
        "ages = [22,55,62,15,21,22,34,42,42,4,99,102,110,120,121,122,130,111,115,112,80,75,65,54,44,43,42,48]\r\n",
        "bins = [0,10,20,30,40,50,60,70,80,90,100,110,120,130]\r\n",
        "# prepare plot\r\n",
        "plt.figure()\r\n",
        "plt.hist(ages, bins, histtype='step', color='b', rwidth=2)\r\n",
        "# annotations\r\n",
        "plt.title('Graph Title')\r\n",
        "plt.ylabel('Y axis')\r\n",
        "plt.xlabel('X axis')\r\n",
        "plt.legend()\r\n",
        "plt.show()\r\n"
      ],
      "execution_count": null,
      "outputs": [
        {
          "output_type": "stream",
          "text": [
            "No handles with labels found to put in legend.\n"
          ],
          "name": "stderr"
        },
        {
          "output_type": "display_data",
          "data": {
            "image/png": "[encoded data removed]",
            "text/plain": [
              "<Figure size 432x288 with 1 Axes>"
            ]
          },
          "metadata": {
            "tags": [],
            "needs_background": "light"
          }
        }
      ]
    },
    {
      "cell_type": "code",
      "metadata": {
        "colab": {
          "base_uri": "https://localhost:8080/",
          "height": 295
        },
        "id": "FJxMKth-ttFV",
        "outputId": "71491f48-26d4-4456-b259-517d8cb90f5b"
      },
      "source": [
        "# barchart with date in x-axis\r\n",
        "# import the necessary packages and modules\r\n",
        "import datetime\r\n",
        "x1 = [datetime.datetime(2017, 1, 1),\r\n",
        "    datetime.datetime(2017, 1, 2),\r\n",
        "    datetime.datetime(2017, 1, 3)]\r\n",
        "#x1 = [datetime.datetime(2017, 1, 1),\r\n",
        "#    datetime.datetime(2017, 2, 1),\r\n",
        "#    datetime.datetime(2017, 3, 1)]\r\n",
        "y1 = [4, 9, 2]\r\n",
        "# prepare plot\r\n",
        "plt.figure()\r\n",
        "plt.bar(x1, y1)\r\n",
        "# annotations\r\n",
        "plt.title('Graph Title')\r\n",
        "plt.xlabel('X axis')\r\n",
        "# show plot\r\n",
        "plt.show()\r\n"
      ],
      "execution_count": null,
      "outputs": [
        {
          "output_type": "display_data",
          "data": {
            "image/png": "[encoded data removed]",
            "text/plain": [
              "<Figure size 432x288 with 1 Axes>"
            ]
          },
          "metadata": {
            "tags": [],
            "needs_background": "light"
          }
        }
      ]
    },
    {
      "cell_type": "markdown",
      "metadata": {
        "id": "ANeKgJzYss3s"
      },
      "source": [
        "##**Density curve**\r\n",
        "A density curve is a curve on a graph that represents the distribution of values in a dataset."
      ]
    },
    {
      "cell_type": "code",
      "metadata": {
        "colab": {
          "base_uri": "https://localhost:8080/",
          "height": 361
        },
        "id": "hv13q0mUsxnX",
        "outputId": "5b686b78-b9d6-4cb7-d077-66a959fed123"
      },
      "source": [
        "import seaborn as sns\r\n",
        "x=state['Population']\r\n",
        "sns.distplot(x,kde=True)"
      ],
      "execution_count": null,
      "outputs": [
        {
          "output_type": "stream",
          "text": [
            "/usr/local/lib/python3.7/dist-packages/seaborn/distributions.py:2557: FutureWarning: `distplot` is a deprecated function and will be removed in a future version. Please adapt your code to use either `displot` (a figure-level function with similar flexibility) or `histplot` (an axes-level function for histograms).\n",
            "  warnings.warn(msg, FutureWarning)\n"
          ],
          "name": "stderr"
        },
        {
          "output_type": "execute_result",
          "data": {
            "text/plain": [
              "<matplotlib.axes._subplots.AxesSubplot at 0x7fbe9ecfc610>"
            ]
          },
          "metadata": {
            "tags": []
          },
          "execution_count": 98
        },
        {
          "output_type": "display_data",
          "data": {
            "image/png": "[encoded data removed]",
            "text/plain": [
              "<Figure size 432x288 with 1 Axes>"
            ]
          },
          "metadata": {
            "tags": [],
            "needs_background": "light"
          }
        }
      ]
    }
  ]
}
