{
  "nbformat": 4,
  "nbformat_minor": 0,
  "metadata": {
    "colab": {
      "name": " Practical4.ipynb",
      "provenance": [],
      "collapsed_sections": [],
      "include_colab_link": true
    },
    "kernelspec": {
      "name": "python3",
      "display_name": "Python 3"
    }
  },
  "cells": [
    {
      "cell_type": "markdown",
      "metadata": {
        "id": "view-in-github",
        "colab_type": "text"
      },
      "source": [
        "<a href=\"https://colab.research.google.com/github/simrran-sharma/MSC-IT-PART1-SEM1/blob/main/FDS/Practical4.ipynb\" target=\"_parent\"><img src=\"https://colab.research.google.com/assets/colab-badge.svg\" alt=\"Open In Colab\"/></a>"
      ]
    },
    {
      "cell_type": "markdown",
      "metadata": {
        "id": "_Efm3NdeWKiN"
      },
      "source": [
        "**Standard Deviation:** It is a number that describes how spread out the values are."
      ]
    },
    {
      "cell_type": "code",
      "metadata": {
        "colab": {
          "base_uri": "https://localhost:8080/"
        },
        "id": "BKWDNtofWTkk",
        "outputId": "a73d0811-797e-4d88-ed5b-c317b84814d8"
      },
      "source": [
        "import numpy as np  #Example 1\r\n",
        "import pandas as pd\r\n",
        "from google.colab import drive\r\n",
        "drive.mount('/content/gdrive')\r\n",
        "df = pd.read_csv('/content/gdrive/MyDrive/dataset_sherlon/Titanic.csv',usecols = [\"Age\"]) #by usecols we set an entire column in df\r\n",
        "x = np.std(df)  #np.std() function is used for this it accept 1 parameter\r\n",
        "print(x)"
      ],
      "execution_count": null,
      "outputs": [
        {
          "output_type": "stream",
          "text": [
            "Mounted at /content/gdrive\n",
            "Age    14.516321\n",
            "dtype: float64\n"
          ],
          "name": "stdout"
        }
      ]
    },
    {
      "cell_type": "code",
      "metadata": {
        "colab": {
          "base_uri": "https://localhost:8080/"
        },
        "id": "dNHafxyoX3sE",
        "outputId": "c7952472-873f-42ee-e421-5c7e2f2e5f93"
      },
      "source": [
        "df = pd.read_csv('/content/gdrive/MyDrive/dataset_sherlon/products.csv',usecols = [\"CostPrice\"]) #Example 2\r\n",
        "x = np.std(df)\r\n",
        "print(x)"
      ],
      "execution_count": null,
      "outputs": [
        {
          "output_type": "stream",
          "text": [
            "CostPrice    37.31434\n",
            "dtype: float64\n"
          ],
          "name": "stdout"
        }
      ]
    },
    {
      "cell_type": "markdown",
      "metadata": {
        "id": "0lgM6kzkYMKd"
      },
      "source": [
        "**Variance:**It is another number that indicates how spread out the values are.If you take the square root of the variance, you get the standard deviation!"
      ]
    },
    {
      "cell_type": "code",
      "metadata": {
        "colab": {
          "base_uri": "https://localhost:8080/"
        },
        "id": "ah-fKzeUYPzr",
        "outputId": "71b22dfd-869a-466f-a466-459fa646b53a"
      },
      "source": [
        "import numpy as np  #Example 1\r\n",
        "import pandas as pd\r\n",
        "df = pd.read_csv('/content/gdrive/MyDrive/dataset_sherlon/Titanic.csv',usecols = [\"Age\"])\r\n",
        "x = np.var(df)  #np.var() function is used for this it accept 1 parameter\r\n",
        "print(x)"
      ],
      "execution_count": null,
      "outputs": [
        {
          "output_type": "stream",
          "text": [
            "Age    210.72358\n",
            "dtype: float64\n"
          ],
          "name": "stdout"
        }
      ]
    },
    {
      "cell_type": "code",
      "metadata": {
        "colab": {
          "base_uri": "https://localhost:8080/"
        },
        "id": "cD1gmO0yYXeS",
        "outputId": "40a0cb44-4f36-4277-9700-9ab0ca519744"
      },
      "source": [
        "df = pd.read_csv('/content/gdrive/MyDrive/dataset_sherlon/products.csv',usecols = [\"CostPrice\"]) #Example 2\r\n",
        "x = np.var(df)\r\n",
        "print(x)"
      ],
      "execution_count": null,
      "outputs": [
        {
          "output_type": "stream",
          "text": [
            "CostPrice    1392.36\n",
            "dtype: float64\n"
          ],
          "name": "stdout"
        }
      ]
    },
    {
      "cell_type": "markdown",
      "metadata": {
        "id": "BFAYinveYbR8"
      },
      "source": [
        "**Min:**It is used to get the minimum value from a data."
      ]
    },
    {
      "cell_type": "code",
      "metadata": {
        "colab": {
          "base_uri": "https://localhost:8080/"
        },
        "id": "ZVBmgui5YfSa",
        "outputId": "5d4dae3c-157f-468b-e454-dea92e199903"
      },
      "source": [
        "import numpy as np  #Example 1\r\n",
        "import pandas as pd\r\n",
        "df = pd.read_csv('/content/gdrive/MyDrive/dataset_sherlon/products.csv',usecols = [\"CostPrice\"])\r\n",
        "x = np.min(df) #np.min() function is used for this it accept 1 parameter\r\n",
        "print(x)"
      ],
      "execution_count": null,
      "outputs": [
        {
          "output_type": "stream",
          "text": [
            "CostPrice    43\n",
            "dtype: int64\n"
          ],
          "name": "stdout"
        }
      ]
    },
    {
      "cell_type": "code",
      "metadata": {
        "colab": {
          "base_uri": "https://localhost:8080/"
        },
        "id": "D6UTVshrYvWx",
        "outputId": "2f20476b-a6d9-4bd0-89ac-9bfce2a963fa"
      },
      "source": [
        "df = pd.read_csv('/content/gdrive/MyDrive/dataset_sherlon/state.csv',usecols = [\"Population\"]) #Example 2\r\n",
        "x = np.min(df)\r\n",
        "print(x)"
      ],
      "execution_count": null,
      "outputs": [
        {
          "output_type": "stream",
          "text": [
            "Population    563626\n",
            "dtype: int64\n"
          ],
          "name": "stdout"
        }
      ]
    },
    {
      "cell_type": "markdown",
      "metadata": {
        "id": "VOPYBoV9Y5v7"
      },
      "source": [
        "**Max:**It is used to get the maximum value from a data."
      ]
    },
    {
      "cell_type": "code",
      "metadata": {
        "colab": {
          "base_uri": "https://localhost:8080/"
        },
        "id": "i_r-LNCmY73q",
        "outputId": "a257b4ef-84ad-4cf2-d5be-55187c742f58"
      },
      "source": [
        "import numpy as np  #Example 1\r\n",
        "import pandas as pd\r\n",
        "df = pd.read_csv('/content/gdrive/MyDrive/dataset_sherlon/products.csv',usecols = [\"CostPrice\"])\r\n",
        "x = np.max(df)  #np.max() function is used for this it accept 1 parameter\r\n",
        "print(x)"
      ],
      "execution_count": null,
      "outputs": [
        {
          "output_type": "stream",
          "text": [
            "CostPrice    150\n",
            "dtype: int64\n"
          ],
          "name": "stdout"
        }
      ]
    },
    {
      "cell_type": "code",
      "metadata": {
        "colab": {
          "base_uri": "https://localhost:8080/"
        },
        "id": "-UJtmCp6ZKBq",
        "outputId": "aabcc581-8871-4eda-d956-10170e902f8b"
      },
      "source": [
        "df = pd.read_csv('/content/gdrive/MyDrive/dataset_sherlon/state.csv',usecols = [\"Population\"]) #Example 2\r\n",
        "x = np.max(df)\r\n",
        "print(x)"
      ],
      "execution_count": null,
      "outputs": [
        {
          "output_type": "stream",
          "text": [
            "Population    37253956\n",
            "dtype: int64\n"
          ],
          "name": "stdout"
        }
      ]
    },
    {
      "cell_type": "markdown",
      "metadata": {
        "id": "9vBJWPiPZMfJ"
      },
      "source": [
        "**Skewness**"
      ]
    },
    {
      "cell_type": "code",
      "metadata": {
        "colab": {
          "base_uri": "https://localhost:8080/"
        },
        "id": "-nyILxCTZjcq",
        "outputId": "4377a161-dc54-4706-8ead-6262cfd1edad"
      },
      "source": [
        "import numpy as np  #Example 1\r\n",
        "import pandas as pd\r\n",
        "df = pd.read_csv('/content/gdrive/MyDrive/dataset_sherlon/products.csv',usecols = [\"CostPrice\"])\r\n",
        "x = pd.Series.skew(df)  #np.Series.skew() function is used for this it accept 1 parameter\r\n",
        "print(x)"
      ],
      "execution_count": null,
      "outputs": [
        {
          "output_type": "stream",
          "text": [
            "CostPrice    0.053793\n",
            "dtype: float64\n"
          ],
          "name": "stdout"
        }
      ]
    },
    {
      "cell_type": "code",
      "metadata": {
        "colab": {
          "base_uri": "https://localhost:8080/"
        },
        "id": "8b9uu_OpZ3rj",
        "outputId": "cd71e6b1-04e4-431e-814d-d46572f80ec7"
      },
      "source": [
        "df = pd.read_csv('/content/gdrive/MyDrive/dataset_sherlon/Titanic.csv',usecols = [\"Age\"]) #Example 2\r\n",
        "x = pd.Series.skew(df)\r\n",
        "print(x)"
      ],
      "execution_count": null,
      "outputs": [
        {
          "output_type": "stream",
          "text": [
            "Age    0.389108\n",
            "dtype: float64\n"
          ],
          "name": "stdout"
        }
      ]
    },
    {
      "cell_type": "markdown",
      "metadata": {
        "id": "MxxNhNZxaDcb"
      },
      "source": [
        "**Kurtosis**"
      ]
    },
    {
      "cell_type": "code",
      "metadata": {
        "colab": {
          "base_uri": "https://localhost:8080/"
        },
        "id": "7cisqgS3aFXK",
        "outputId": "4b0f2b58-093f-4ce1-e036-b1f0e13fbcbc"
      },
      "source": [
        "import numpy as np  #Example 1\r\n",
        "import pandas as pd\r\n",
        "df = pd.read_csv('/content/gdrive/MyDrive/dataset_sherlon/products.csv',usecols = [\"CostPrice\"])\r\n",
        "x = pd.Series.kurtosis(df)  #np.Series.kurtosis() function is used for this it accept 1 parameter\r\n",
        "print(x)"
      ],
      "execution_count": null,
      "outputs": [
        {
          "output_type": "stream",
          "text": [
            "CostPrice   -1.81681\n",
            "dtype: float64\n"
          ],
          "name": "stdout"
        }
      ]
    },
    {
      "cell_type": "code",
      "metadata": {
        "colab": {
          "base_uri": "https://localhost:8080/"
        },
        "id": "-fDcQnJraNF1",
        "outputId": "62801ab1-f0ec-406d-b0d4-d0cb588928f7"
      },
      "source": [
        "df = pd.read_csv('/content/gdrive/MyDrive/dataset_sherlon/Titanic.csv',usecols = [\"Age\"]) #Example 2\r\n",
        "x = pd.Series.skew(df)\r\n",
        "print(x)"
      ],
      "execution_count": null,
      "outputs": [
        {
          "output_type": "stream",
          "text": [
            "Age    0.389108\n",
            "dtype: float64\n"
          ],
          "name": "stdout"
        }
      ]
    },
    {
      "cell_type": "markdown",
      "metadata": {
        "id": "xfqk0X3NaPWi"
      },
      "source": [
        "**Range:**It is used to get difference between maximum and minimum value in an array."
      ]
    },
    {
      "cell_type": "code",
      "metadata": {
        "id": "DQj8AZ2XaY1V",
        "colab": {
          "base_uri": "https://localhost:8080/"
        },
        "outputId": "3c585d99-5590-40bd-c64a-f46fb3eac34c"
      },
      "source": [
        "import pandas as pd   #Example 1\r\n",
        "import numpy as np\r\n",
        "df = pd.read_csv('/content/gdrive/MyDrive/dataset_sherlon/state.csv',usecols = ['Population'])\r\n",
        "minimum = np.min(df)\r\n",
        "maximum = np.max(df)\r\n",
        "print('Range',maximum - minimum)  #To get range we need to use np.max() and np.min() then have to minus maximum no to minimum no"
      ],
      "execution_count": null,
      "outputs": [
        {
          "output_type": "stream",
          "text": [
            "Range Population    36690330\n",
            "dtype: int64\n"
          ],
          "name": "stdout"
        }
      ]
    },
    {
      "cell_type": "code",
      "metadata": {
        "id": "KMbQyISzaWZq",
        "colab": {
          "base_uri": "https://localhost:8080/"
        },
        "outputId": "1bd7b311-19b9-42be-ca55-ee7224b777cf"
      },
      "source": [
        "import pandas as pd   #Example 2\r\n",
        "import numpy as np\r\n",
        "df = pd.read_csv('/content/gdrive/MyDrive/dataset_sherlon/products.csv',usecols = ['CostPrice'])\r\n",
        "minimum = np.min(df)\r\n",
        "maximum = np.max(df)\r\n",
        "print('Range',maximum - minimum)"
      ],
      "execution_count": null,
      "outputs": [
        {
          "output_type": "stream",
          "text": [
            "Range CostPrice    107\n",
            "dtype: int64\n"
          ],
          "name": "stdout"
        }
      ]
    },
    {
      "cell_type": "markdown",
      "metadata": {
        "id": "rsEphdsOacCl"
      },
      "source": [
        "**Percentile:**It is used in statistics to give you a number that describes the value that a given percent of the values are lower than."
      ]
    },
    {
      "cell_type": "code",
      "metadata": {
        "colab": {
          "base_uri": "https://localhost:8080/"
        },
        "id": "bo3IktbbafTb",
        "outputId": "d8fb1774-aeae-4b2d-b53b-e9cfcd84fd43"
      },
      "source": [
        "import numpy as np  #Example 1\r\n",
        "import pandas as pd\r\n",
        "df = pd.read_csv('/content/gdrive/MyDrive/dataset_sherlon/products.csv',usecols = [\"CostPrice\"])\r\n",
        "print(np.sort(df))\r\n",
        "x = np.percentile(df,25)  #np.percentile(,) it accept 2 parameter first is the data we need to change and another the percentile value ie.25th percentile\r\n",
        "print(\"25th Percentile: \",x)"
      ],
      "execution_count": null,
      "outputs": [
        {
          "output_type": "stream",
          "text": [
            "[[ 60]\n",
            " [ 43]\n",
            " [ 78]\n",
            " [ 65]\n",
            " [ 50]\n",
            " [150]\n",
            " [132]\n",
            " [134]\n",
            " [109]\n",
            " [121]]\n",
            "25th Percentile:  61.25\n"
          ],
          "name": "stdout"
        }
      ]
    },
    {
      "cell_type": "code",
      "metadata": {
        "colab": {
          "base_uri": "https://localhost:8080/"
        },
        "id": "HtpQ0An1b7lr",
        "outputId": "fb7415de-dfda-4ad3-e27b-91244a1c4077"
      },
      "source": [
        "df = pd.read_csv('/content/gdrive/MyDrive/dataset_sherlon/state.csv',usecols = [\"Population\"]) #Example 2\r\n",
        "x = np.percentile(df,75)\r\n",
        "print(\"75th Percentile: \",x)"
      ],
      "execution_count": null,
      "outputs": [
        {
          "output_type": "stream",
          "text": [
            "75th Percentile:  6680312.25\n"
          ],
          "name": "stdout"
        }
      ]
    },
    {
      "cell_type": "markdown",
      "metadata": {
        "id": "g26SZitEcW16"
      },
      "source": [
        "**Box plots:**In the boxplot below, the box extends from the lower to upper quartile values of the data, with a line at the median."
      ]
    },
    {
      "cell_type": "code",
      "metadata": {
        "id": "gMyfstytcZXC",
        "colab": {
          "base_uri": "https://localhost:8080/",
          "height": 282
        },
        "outputId": "1fce2764-8c2f-41ae-8304-11d69626cf67"
      },
      "source": [
        "import numpy as np  #Example 1\r\n",
        "import pandas as pd\r\n",
        "dp = pd.read_csv('/content/gdrive/MyDrive/dataset_sherlon/products.csv')\r\n",
        "dp.boxplot() #dp.boxplot() it accept 0/1 parameter here its showing box representation of products.csv(dataset)"
      ],
      "execution_count": null,
      "outputs": [
        {
          "output_type": "execute_result",
          "data": {
            "text/plain": [
              "<matplotlib.axes._subplots.AxesSubplot at 0x7f9b3ab10150>"
            ]
          },
          "metadata": {
            "tags": []
          },
          "execution_count": 4
        },
        {
          "output_type": "display_data",
          "data": {
            "image/png": "[encoded data removed]",
            "text/plain": [
              "<Figure size 432x288 with 1 Axes>"
            ]
          },
          "metadata": {
            "tags": [],
            "needs_background": "light"
          }
        }
      ]
    },
    {
      "cell_type": "code",
      "metadata": {
        "id": "5j5sH6vkdFCu",
        "colab": {
          "base_uri": "https://localhost:8080/",
          "height": 282
        },
        "outputId": "5598feac-c7c2-4a35-98df-212cd0caba8c"
      },
      "source": [
        "import numpy as np  #Example 2\r\n",
        "import pandas as pd\r\n",
        "df = pd.read_csv('/content/gdrive/MyDrive/dataset_sherlon/state.csv')\r\n",
        "df.boxplot(column=\"Murder.Rate\") #df.boxplot() here it took 1 parameter to only show box data of specified column "
      ],
      "execution_count": null,
      "outputs": [
        {
          "output_type": "execute_result",
          "data": {
            "text/plain": [
              "<matplotlib.axes._subplots.AxesSubplot at 0x7f9b3a535b90>"
            ]
          },
          "metadata": {
            "tags": []
          },
          "execution_count": 7
        },
        {
          "output_type": "display_data",
          "data": {
            "image/png": "[encoded data removed]",
            "text/plain": [
              "<Figure size 432x288 with 1 Axes>"
            ]
          },
          "metadata": {
            "tags": [],
            "needs_background": "light"
          }
        }
      ]
    }
  ]
}
