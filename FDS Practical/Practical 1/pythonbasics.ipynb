{
  "nbformat": 4,
  "nbformat_minor": 0,
  "metadata": {
    "colab": {
      "name": "pythonbasics.ipynb",
      "provenance": [],
      "collapsed_sections": [],
      "authorship_tag": "ABX9TyP23CJ4iDpsI1mABnJ2bY/F",
      "include_colab_link": true
    },
    "kernelspec": {
      "name": "python3",
      "display_name": "Python 3"
    }
  },
  "cells": [
    {
      "cell_type": "markdown",
      "metadata": {
        "id": "view-in-github",
        "colab_type": "text"
      },
      "source": [
        "<a href=\"https://colab.research.google.com/github/simrran-sharma/MSC-IT-PART1-SEM1/blob/main/FDS/pythonbasics.ipynb\" target=\"_parent\"><img src=\"https://colab.research.google.com/assets/colab-badge.svg\" alt=\"Open In Colab\"/></a>"
      ]
    },
    {
      "cell_type": "markdown",
      "metadata": {
        "id": "2q8ePeTXP8xv"
      },
      "source": [
        "##**What is Python?**\r\n",
        "Python is a popular programming language. It was created by Guido van Rossum, and released in 1991.\r\n",
        "\r\n",
        "It is used for:\r\n",
        "\r\n",
        "web development (server-side),\r\n",
        "software development,\r\n",
        "mathematics,\r\n",
        "system scripting."
      ]
    },
    {
      "cell_type": "markdown",
      "metadata": {
        "id": "0-G6SlGiQG-L"
      },
      "source": [
        "##**Creating Variables**\r\n",
        "Python has no command for declaring a variable.\r\n",
        "\r\n",
        "A variable is created the moment you first assign a value to it."
      ]
    },
    {
      "cell_type": "code",
      "metadata": {
        "colab": {
          "base_uri": "https://localhost:8080/"
        },
        "id": "W97haaeTPrjU",
        "outputId": "4f4d399f-55fe-482c-a3d6-57bf0186a772"
      },
      "source": [
        "x = 5\r\n",
        "y = \"John\"\r\n",
        "print(x)\r\n",
        "print(y)\r\n"
      ],
      "execution_count": null,
      "outputs": [
        {
          "output_type": "stream",
          "text": [
            "5\n",
            "John\n"
          ],
          "name": "stdout"
        }
      ]
    },
    {
      "cell_type": "markdown",
      "metadata": {
        "id": "qep9RS8mQS8i"
      },
      "source": [
        "##**Casting**\r\n",
        "If you want to specify the data type of a variable, this can be done with casting."
      ]
    },
    {
      "cell_type": "code",
      "metadata": {
        "colab": {
          "base_uri": "https://localhost:8080/"
        },
        "id": "9FQvUrExQYDx",
        "outputId": "aead916e-af20-4997-9170-c561d732df5b"
      },
      "source": [
        "x = str(3)    # x will be '3'\r\n",
        "y = int(3)    # y will be 3\r\n",
        "z = float(3)  # z will be 3.0\r\n",
        "print(x,y,z)"
      ],
      "execution_count": null,
      "outputs": [
        {
          "output_type": "stream",
          "text": [
            "3 3 3.0\n"
          ],
          "name": "stdout"
        }
      ]
    },
    {
      "cell_type": "markdown",
      "metadata": {
        "id": "SFne4sxiQeA2"
      },
      "source": [
        "##**Get the Type**\r\n",
        "You can get the data type of a variable with the type() function."
      ]
    },
    {
      "cell_type": "code",
      "metadata": {
        "colab": {
          "base_uri": "https://localhost:8080/"
        },
        "id": "I6qWrpiwQdpk",
        "outputId": "9410ef52-9497-4a45-f36e-c03f2964420d"
      },
      "source": [
        "x = 5\r\n",
        "y = \"John\"\r\n",
        "print(type(x))\r\n",
        "print(type(y))"
      ],
      "execution_count": null,
      "outputs": [
        {
          "output_type": "stream",
          "text": [
            "<class 'int'>\n",
            "<class 'str'>\n"
          ],
          "name": "stdout"
        }
      ]
    },
    {
      "cell_type": "markdown",
      "metadata": {
        "id": "B2bEsb9DQvck"
      },
      "source": [
        "##**Global Variables**\r\n",
        "Variables that are created outside of a function (as in all of the examples above) are known as global variables.\r\n",
        "\r\n",
        "Global variables can be used by everyone, both inside of functions and outside."
      ]
    },
    {
      "cell_type": "code",
      "metadata": {
        "colab": {
          "base_uri": "https://localhost:8080/"
        },
        "id": "_dHQrNf0Q3XD",
        "outputId": "8124eebd-b3fa-4a59-8115-95b6cd6a5fc5"
      },
      "source": [
        "x = \"awesome\"\r\n",
        "\r\n",
        "def myfunc():\r\n",
        "  x = \"fantastic\"\r\n",
        "  print(\"Python is \" + x)\r\n",
        "\r\n",
        "myfunc()\r\n",
        "\r\n",
        "print(\"Python is \" + x)"
      ],
      "execution_count": null,
      "outputs": [
        {
          "output_type": "stream",
          "text": [
            "Python is fantastic\n",
            "Python is awesome\n"
          ],
          "name": "stdout"
        }
      ]
    },
    {
      "cell_type": "markdown",
      "metadata": {
        "id": "LClbCDnxQ-XA"
      },
      "source": [
        "##**The global Keyword**\r\n",
        "Normally, when you create a variable inside a function, that variable is local, and can only be used inside that function.\r\n",
        "\r\n",
        "To create a global variable inside a function, you can use the global keyword."
      ]
    },
    {
      "cell_type": "code",
      "metadata": {
        "colab": {
          "base_uri": "https://localhost:8080/"
        },
        "id": "NlEC_ksmRB0c",
        "outputId": "1b01ce14-5a8f-44c6-f1ce-ff09fe593577"
      },
      "source": [
        "x = \"awesome\"\r\n",
        "\r\n",
        "def myfunc():\r\n",
        "  global x\r\n",
        "  x = \"fantastic\"\r\n",
        "\r\n",
        "myfunc()\r\n",
        "\r\n",
        "print(\"Python is \" + x)"
      ],
      "execution_count": null,
      "outputs": [
        {
          "output_type": "stream",
          "text": [
            "Python is fantastic\n"
          ],
          "name": "stdout"
        }
      ]
    },
    {
      "cell_type": "markdown",
      "metadata": {
        "id": "ieu33_1qRUqA"
      },
      "source": [
        "##**Strings**\r\n",
        "Strings in python are surrounded by either single quotation marks, or double quotation marks."
      ]
    },
    {
      "cell_type": "code",
      "metadata": {
        "colab": {
          "base_uri": "https://localhost:8080/"
        },
        "id": "P-Ih252JRX33",
        "outputId": "c86b4bc0-74e3-4c26-818a-afeb1a650301"
      },
      "source": [
        "a = \"Hello\"\r\n",
        "print(a)"
      ],
      "execution_count": null,
      "outputs": [
        {
          "output_type": "stream",
          "text": [
            "Hello\n"
          ],
          "name": "stdout"
        }
      ]
    },
    {
      "cell_type": "markdown",
      "metadata": {
        "id": "ZRKG2MEdRhxp"
      },
      "source": [
        "##**Looping Through a String**\r\n",
        "Since strings are arrays, we can loop through the characters in a string, with a for loop."
      ]
    },
    {
      "cell_type": "code",
      "metadata": {
        "colab": {
          "base_uri": "https://localhost:8080/"
        },
        "id": "26c1t6PSRkoT",
        "outputId": "f7f6f559-feb2-4535-e89e-958a0ae7b46f"
      },
      "source": [
        "for x in \"banana\":\r\n",
        "  print(x)"
      ],
      "execution_count": null,
      "outputs": [
        {
          "output_type": "stream",
          "text": [
            "b\n",
            "a\n",
            "n\n",
            "a\n",
            "n\n",
            "a\n"
          ],
          "name": "stdout"
        }
      ]
    },
    {
      "cell_type": "markdown",
      "metadata": {
        "id": "mngwlxjkSrKt"
      },
      "source": [
        "##**String Length**\r\n",
        "To get the length of a string, use the len() function."
      ]
    },
    {
      "cell_type": "code",
      "metadata": {
        "colab": {
          "base_uri": "https://localhost:8080/"
        },
        "id": "26jpfGc0SvBu",
        "outputId": "eb4c64e9-c69f-478e-93e7-3a950b186f89"
      },
      "source": [
        "a = \"Hello, World!\"\r\n",
        "print(len(a))"
      ],
      "execution_count": null,
      "outputs": [
        {
          "output_type": "stream",
          "text": [
            "13\n"
          ],
          "name": "stdout"
        }
      ]
    },
    {
      "cell_type": "markdown",
      "metadata": {
        "id": "9FABS8GhSz5v"
      },
      "source": [
        "##**Boolean Values**\r\n",
        "In programming you often need to know if an expression is True or False.\r\n",
        "\r\n",
        "You can evaluate any expression in Python, and get one of two answers, True or False."
      ]
    },
    {
      "cell_type": "code",
      "metadata": {
        "colab": {
          "base_uri": "https://localhost:8080/"
        },
        "id": "kSd_4vkVS6WS",
        "outputId": "abc92f78-be07-4c5b-e9e0-0171c3988d0a"
      },
      "source": [
        "a = 200\r\n",
        "b = 33\r\n",
        "\r\n",
        "if b > a:\r\n",
        "  print(\"b is greater than a\")\r\n",
        "else:\r\n",
        "  print(\"b is not greater than a\")"
      ],
      "execution_count": null,
      "outputs": [
        {
          "output_type": "stream",
          "text": [
            "b is not greater than a\n"
          ],
          "name": "stdout"
        }
      ]
    },
    {
      "cell_type": "markdown",
      "metadata": {
        "id": "N0sIIYIOTIAa"
      },
      "source": [
        "##**List**\r\n",
        "Lists are used to store multiple items in a single variable.\r\n",
        "\r\n",
        "Lists are one of 4 built-in data types in Python used to store collections of data, the other 3 are Tuple, Set, and Dictionary, all with different qualities and usage."
      ]
    },
    {
      "cell_type": "code",
      "metadata": {
        "colab": {
          "base_uri": "https://localhost:8080/"
        },
        "id": "nntLgGc4TKgt",
        "outputId": "cc3887ba-b912-4b75-fbff-690421c8fe4e"
      },
      "source": [
        "thislist = [\"apple\", \"banana\", \"cherry\"]\r\n",
        "print(thislist)"
      ],
      "execution_count": null,
      "outputs": [
        {
          "output_type": "stream",
          "text": [
            "['apple', 'banana', 'cherry']\n"
          ],
          "name": "stdout"
        }
      ]
    },
    {
      "cell_type": "markdown",
      "metadata": {
        "id": "-OsKeup8TRbY"
      },
      "source": [
        "##**List Length**\r\n",
        "To determine how many items a list has, use the len() function:"
      ]
    },
    {
      "cell_type": "code",
      "metadata": {
        "colab": {
          "base_uri": "https://localhost:8080/"
        },
        "id": "HS5L82-VTdOa",
        "outputId": "533cc239-b538-4883-947e-e751f692381c"
      },
      "source": [
        "thislist = [\"apple\", \"banana\", \"cherry\"]\r\n",
        "print(len(thislist))"
      ],
      "execution_count": null,
      "outputs": [
        {
          "output_type": "stream",
          "text": [
            "3\n"
          ],
          "name": "stdout"
        }
      ]
    },
    {
      "cell_type": "markdown",
      "metadata": {
        "id": "fxd_wFz7Tn28"
      },
      "source": [
        "##**Access Items**\r\n",
        "List items are indexed and you can access them by referring to the index number:"
      ]
    },
    {
      "cell_type": "code",
      "metadata": {
        "colab": {
          "base_uri": "https://localhost:8080/"
        },
        "id": "lszKmMcRTqnf",
        "outputId": "4ca593bc-b0eb-45ee-cf20-f56ac080a783"
      },
      "source": [
        "thislist = [\"apple\", \"banana\", \"cherry\"]\r\n",
        "print(thislist[1])\r\n",
        "print(thislist[-1])\r\n",
        "print(thislist[:2])"
      ],
      "execution_count": null,
      "outputs": [
        {
          "output_type": "stream",
          "text": [
            "banana\n",
            "cherry\n",
            "['apple', 'banana']\n"
          ],
          "name": "stdout"
        }
      ]
    },
    {
      "cell_type": "markdown",
      "metadata": {
        "id": "pRbyeJ4ST6sA"
      },
      "source": [
        "##**Change Item Value**\r\n",
        "To change the value of a specific item, refer to the index number:"
      ]
    },
    {
      "cell_type": "code",
      "metadata": {
        "colab": {
          "base_uri": "https://localhost:8080/"
        },
        "id": "jxVT8YGVUBCG",
        "outputId": "7bf1ef31-39d9-4950-fe2f-9ccea20332da"
      },
      "source": [
        "thislist = [\"apple\", \"banana\", \"cherry\"]\r\n",
        "thislist[1] = \"blackcurrant\"\r\n",
        "print(thislist)"
      ],
      "execution_count": null,
      "outputs": [
        {
          "output_type": "stream",
          "text": [
            "['apple', 'blackcurrant', 'cherry']\n"
          ],
          "name": "stdout"
        }
      ]
    },
    {
      "cell_type": "markdown",
      "metadata": {
        "id": "X6rn3LYEUE5X"
      },
      "source": [
        "##**Insert Items**\r\n",
        "To insert a new list item, without replacing any of the existing values, we can use the insert() method.\r\n",
        "\r\n",
        "The insert() method inserts an item at the specified index:"
      ]
    },
    {
      "cell_type": "code",
      "metadata": {
        "colab": {
          "base_uri": "https://localhost:8080/"
        },
        "id": "E7h2-REcUKj7",
        "outputId": "b63424ed-2cfe-431e-eabe-483cd779af23"
      },
      "source": [
        "thislist = [\"apple\", \"banana\", \"cherry\"]\r\n",
        "thislist.insert(2, \"watermelon\")\r\n",
        "print(thislist)"
      ],
      "execution_count": null,
      "outputs": [
        {
          "output_type": "stream",
          "text": [
            "['apple', 'banana', 'watermelon', 'cherry']\n"
          ],
          "name": "stdout"
        }
      ]
    },
    {
      "cell_type": "markdown",
      "metadata": {
        "id": "2ljwyoyaUSQX"
      },
      "source": [
        "##**Append Items**\r\n",
        "To add an item to the end of the list, use the append() method:"
      ]
    },
    {
      "cell_type": "code",
      "metadata": {
        "colab": {
          "base_uri": "https://localhost:8080/"
        },
        "id": "DTevvwEhUVK3",
        "outputId": "39d25e9b-058b-4b49-847b-308ab60dbf37"
      },
      "source": [
        "thislist = [\"apple\", \"banana\", \"cherry\"]\r\n",
        "thislist.append(\"orange\")\r\n",
        "print(thislist)"
      ],
      "execution_count": null,
      "outputs": [
        {
          "output_type": "stream",
          "text": [
            "['apple', 'banana', 'cherry', 'orange']\n"
          ],
          "name": "stdout"
        }
      ]
    },
    {
      "cell_type": "markdown",
      "metadata": {
        "id": "2nP67-R8Uagd"
      },
      "source": [
        "##**Extend List**\r\n",
        "To append elements from another list to the current list, use the extend() method."
      ]
    },
    {
      "cell_type": "code",
      "metadata": {
        "colab": {
          "base_uri": "https://localhost:8080/"
        },
        "id": "_KzBzRUwUctf",
        "outputId": "6f3034c3-6bf7-4811-957e-57aab68bc809"
      },
      "source": [
        "thislist = [\"apple\", \"banana\", \"cherry\"]\r\n",
        "tropical = [\"mango\", \"pineapple\", \"papaya\"]\r\n",
        "thislist.extend(tropical)\r\n",
        "print(thislist)"
      ],
      "execution_count": null,
      "outputs": [
        {
          "output_type": "stream",
          "text": [
            "['apple', 'banana', 'cherry', 'mango', 'pineapple', 'papaya']\n"
          ],
          "name": "stdout"
        }
      ]
    },
    {
      "cell_type": "markdown",
      "metadata": {
        "id": "dpDvaymLUlLR"
      },
      "source": [
        "##**Remove Specified Item**\r\n",
        "The remove() method removes the specified item."
      ]
    },
    {
      "cell_type": "code",
      "metadata": {
        "colab": {
          "base_uri": "https://localhost:8080/"
        },
        "id": "gj865hanUoQt",
        "outputId": "bdec30d8-581c-4f8e-b044-9144267dd08f"
      },
      "source": [
        "thislist = [\"apple\", \"banana\", \"cherry\"]\r\n",
        "thislist.remove(\"banana\")\r\n",
        "print(thislist)"
      ],
      "execution_count": null,
      "outputs": [
        {
          "output_type": "stream",
          "text": [
            "['apple', 'cherry']\n"
          ],
          "name": "stdout"
        }
      ]
    },
    {
      "cell_type": "markdown",
      "metadata": {
        "id": "u5yqeSJTUt_B"
      },
      "source": [
        "##**Remove Specified Index**\r\n",
        "The pop() method removes the specified index.\r\n",
        "\r\n",
        "Example"
      ]
    },
    {
      "cell_type": "code",
      "metadata": {
        "colab": {
          "base_uri": "https://localhost:8080/"
        },
        "id": "t5zt3HTvUxCP",
        "outputId": "ecab304b-48fc-477d-dfd3-ac15fe1b93ae"
      },
      "source": [
        "thislist = [\"apple\", \"banana\", \"cherry\"]\r\n",
        "thislist.pop(1)\r\n",
        "print(thislist)"
      ],
      "execution_count": null,
      "outputs": [
        {
          "output_type": "stream",
          "text": [
            "['apple', 'cherry']\n"
          ],
          "name": "stdout"
        }
      ]
    },
    {
      "cell_type": "markdown",
      "metadata": {
        "id": "9Zm4jkFIwDlM"
      },
      "source": [
        "##**List Comprehension**\r\n",
        "List comprehension offers a shorter syntax when you want to create a new list based on the values of an existing list."
      ]
    },
    {
      "cell_type": "code",
      "metadata": {
        "colab": {
          "base_uri": "https://localhost:8080/"
        },
        "id": "fbwd_M-jwHCL",
        "outputId": "d1079797-ed5c-4c64-a298-e56fde558e84"
      },
      "source": [
        "fruits = [\"apple\", \"banana\", \"cherry\", \"kiwi\", \"mango\"]\r\n",
        "\r\n",
        "newlist = [x for x in fruits if \"a\" in x]\r\n",
        "\r\n",
        "print(newlist)\r\n"
      ],
      "execution_count": null,
      "outputs": [
        {
          "output_type": "stream",
          "text": [
            "['apple', 'banana', 'mango']\n"
          ],
          "name": "stdout"
        }
      ]
    },
    {
      "cell_type": "markdown",
      "metadata": {
        "id": "jjibdnYTwQS2"
      },
      "source": [
        "##**Sort List Alphanumerically**\r\n",
        "List objects have a sort() method that will sort the list alphanumerically, ascending, by default:"
      ]
    },
    {
      "cell_type": "code",
      "metadata": {
        "colab": {
          "base_uri": "https://localhost:8080/"
        },
        "id": "7Bi-U_6ywTZW",
        "outputId": "f8706d3c-015a-4b1f-9312-083a73fb57bd"
      },
      "source": [
        "thislist = [100, 50, 65, 82, 23]\r\n",
        "thislist.sort()\r\n",
        "print(thislist)\r\n",
        "thislist.sort(reverse = True)\r\n",
        "print(thislist)"
      ],
      "execution_count": null,
      "outputs": [
        {
          "output_type": "stream",
          "text": [
            "[23, 50, 65, 82, 100]\n",
            "[100, 82, 65, 50, 23]\n"
          ],
          "name": "stdout"
        }
      ]
    },
    {
      "cell_type": "markdown",
      "metadata": {
        "id": "5OkY7yOPwfb5"
      },
      "source": [
        "##**Copy a List**\r\n",
        "You cannot copy a list simply by typing list2 = list1, because: list2 will only be a reference to list1, and changes made in list1 will automatically also be made in list2."
      ]
    },
    {
      "cell_type": "code",
      "metadata": {
        "colab": {
          "base_uri": "https://localhost:8080/"
        },
        "id": "dQefK9kRwiEZ",
        "outputId": "4d0e4a8f-a2eb-4324-94f1-90cba8509d0c"
      },
      "source": [
        "thislist = [\"apple\", \"banana\", \"cherry\"]\r\n",
        "mylist = thislist.copy()\r\n",
        "print(mylist)"
      ],
      "execution_count": null,
      "outputs": [
        {
          "output_type": "stream",
          "text": [
            "['apple', 'banana', 'cherry']\n"
          ],
          "name": "stdout"
        }
      ]
    },
    {
      "cell_type": "markdown",
      "metadata": {
        "id": "fAe93WIfwq-v"
      },
      "source": [
        "##**Tuple**\r\n",
        "Tuples are used to store multiple items in a single variable.\r\n",
        "\r\n",
        "Tuple is one of 4 built-in data types in Python used to store collections of data, the other 3 are List, Set, and Dictionary, all with different qualities and usage.\r\n",
        "\r\n",
        "A tuple is a collection which is ordered and unchangeable.\r\n",
        "\r\n",
        "Tuples are written with round brackets."
      ]
    },
    {
      "cell_type": "code",
      "metadata": {
        "colab": {
          "base_uri": "https://localhost:8080/"
        },
        "id": "xmae-7i8wxhU",
        "outputId": "c7b847f0-f0c5-4e52-d71f-8afcf76dbb59"
      },
      "source": [
        "thistuple = (\"apple\", \"banana\", \"cherry\")\r\n",
        "print(thistuple)"
      ],
      "execution_count": null,
      "outputs": [
        {
          "output_type": "stream",
          "text": [
            "('apple', 'banana', 'cherry')\n"
          ],
          "name": "stdout"
        }
      ]
    },
    {
      "cell_type": "markdown",
      "metadata": {
        "id": "tDdjC35Bw39i"
      },
      "source": [
        "##**Access Tuple Items**\r\n",
        "You can access tuple items by referring to the index number, inside square brackets:"
      ]
    },
    {
      "cell_type": "code",
      "metadata": {
        "colab": {
          "base_uri": "https://localhost:8080/"
        },
        "id": "giDHGWpdw6_S",
        "outputId": "5e96362b-1e15-4f6d-f947-9f7ef36fe466"
      },
      "source": [
        "thistuple = (\"apple\", \"banana\", \"cherry\")\r\n",
        "print(thistuple[1])\r\n",
        "print(thistuple[-1])\r\n",
        "print(thistuple[1:3])"
      ],
      "execution_count": null,
      "outputs": [
        {
          "output_type": "stream",
          "text": [
            "banana\n",
            "cherry\n",
            "('banana', 'cherry')\n"
          ],
          "name": "stdout"
        }
      ]
    },
    {
      "cell_type": "markdown",
      "metadata": {
        "id": "cvQYX8mfxLJx"
      },
      "source": [
        "##**Loop Through a Tuple**\r\n",
        "You can loop through the tuple items by using a for loop."
      ]
    },
    {
      "cell_type": "code",
      "metadata": {
        "colab": {
          "base_uri": "https://localhost:8080/"
        },
        "id": "LEcg7hFExPc7",
        "outputId": "33fbf977-2da0-4d53-d879-b50853d09c06"
      },
      "source": [
        "thistuple = (\"apple\", \"banana\", \"cherry\")\r\n",
        "for x in thistuple:\r\n",
        "  print(x)\r\n",
        "for i in range(len(thistuple)):\r\n",
        "  print(thistuple[i])"
      ],
      "execution_count": null,
      "outputs": [
        {
          "output_type": "stream",
          "text": [
            "apple\n",
            "banana\n",
            "cherry\n",
            "apple\n",
            "banana\n",
            "cherry\n"
          ],
          "name": "stdout"
        }
      ]
    },
    {
      "cell_type": "markdown",
      "metadata": {
        "id": "QVfyR2iLydnu"
      },
      "source": [
        "##**Join Two Tuples**\r\n",
        "To join two or more tuples you can use the + operator:"
      ]
    },
    {
      "cell_type": "code",
      "metadata": {
        "colab": {
          "base_uri": "https://localhost:8080/"
        },
        "id": "iM1_4gQQygX-",
        "outputId": "cc1289f0-0072-4f0f-e4ea-899ac73f8d81"
      },
      "source": [
        "tuple1 = (\"a\", \"b\" , \"c\")\r\n",
        "tuple2 = (1, 2, 3)\r\n",
        "\r\n",
        "tuple3 = tuple1 + tuple2\r\n",
        "print(tuple3)\r\n",
        "fruits = (\"apple\", \"banana\", \"cherry\")\r\n",
        "mytuple = fruits * 2\r\n",
        "\r\n",
        "print(mytuple)"
      ],
      "execution_count": null,
      "outputs": [
        {
          "output_type": "stream",
          "text": [
            "('a', 'b', 'c', 1, 2, 3)\n",
            "('apple', 'banana', 'cherry', 'apple', 'banana', 'cherry')\n"
          ],
          "name": "stdout"
        }
      ]
    },
    {
      "cell_type": "markdown",
      "metadata": {
        "id": "8Wvi5URyyvJN"
      },
      "source": [
        "##**Set**\r\n",
        "Sets are used to store multiple items in a single variable.\r\n",
        "\r\n",
        "Set is one of 4 built-in data types in Python used to store collections of data, the other 3 are List, Tuple, and Dictionary, all with different qualities and usage.\r\n",
        "\r\n",
        "A set is a collection which is both unordered and unindexed.\r\n",
        "\r\n",
        "Sets are written with curly brackets."
      ]
    },
    {
      "cell_type": "code",
      "metadata": {
        "colab": {
          "base_uri": "https://localhost:8080/"
        },
        "id": "bGpLR-DOy5FD",
        "outputId": "b8cfb9ab-a315-4839-a6fd-c022a734c64f"
      },
      "source": [
        "thisset = {\"apple\", \"banana\", \"cherry\"}\r\n",
        "print(thisset)"
      ],
      "execution_count": null,
      "outputs": [
        {
          "output_type": "stream",
          "text": [
            "{'cherry', 'banana', 'apple'}\n"
          ],
          "name": "stdout"
        }
      ]
    },
    {
      "cell_type": "markdown",
      "metadata": {
        "id": "TgBQAxklzBYp"
      },
      "source": [
        "##**Access Items**\r\n",
        "You cannot access items in a set by referring to an index or a key.\r\n",
        "\r\n",
        "But you can loop through the set items using a for loop, or ask if a specified value is present in a set, by using the in keyword."
      ]
    },
    {
      "cell_type": "code",
      "metadata": {
        "colab": {
          "base_uri": "https://localhost:8080/"
        },
        "id": "GwwZC7_TzF9x",
        "outputId": "83fc1721-1f4e-42fb-dd70-d2e7841cc0c1"
      },
      "source": [
        "thisset = {\"apple\", \"banana\", \"cherry\"}\r\n",
        "\r\n",
        "for x in thisset:\r\n",
        "  print(x)"
      ],
      "execution_count": null,
      "outputs": [
        {
          "output_type": "stream",
          "text": [
            "cherry\n",
            "banana\n",
            "apple\n"
          ],
          "name": "stdout"
        }
      ]
    },
    {
      "cell_type": "markdown",
      "metadata": {
        "id": "px_sP9kbzSoY"
      },
      "source": [
        "##**Add Items**\r\n",
        "Once a set is created, you cannot change its items, but you can add new items."
      ]
    },
    {
      "cell_type": "code",
      "metadata": {
        "colab": {
          "base_uri": "https://localhost:8080/"
        },
        "id": "I8i7nB2RzZaG",
        "outputId": "77b5df75-fd5d-4aaf-e8cd-79372abfc2e9"
      },
      "source": [
        "thisset = {\"apple\", \"banana\", \"cherry\"}\r\n",
        "\r\n",
        "thisset.add(\"orange\")\r\n",
        "\r\n",
        "print(thisset)"
      ],
      "execution_count": null,
      "outputs": [
        {
          "output_type": "stream",
          "text": [
            "{'cherry', 'banana', 'apple', 'orange'}\n"
          ],
          "name": "stdout"
        }
      ]
    },
    {
      "cell_type": "markdown",
      "metadata": {
        "id": "0rMAlfPuzd69"
      },
      "source": [
        "##**Join Two Sets**\r\n",
        "There are several ways to join two or more sets in Python.\r\n",
        "\r\n",
        "You can use the union() method that returns a new set containing all items from both sets, or the update() method that inserts all the items from one set into another:"
      ]
    },
    {
      "cell_type": "code",
      "metadata": {
        "colab": {
          "base_uri": "https://localhost:8080/"
        },
        "id": "yPSD3SRBzixn",
        "outputId": "ec47d62a-64e4-4239-8b7b-eaaad8b47ece"
      },
      "source": [
        "set1 = {\"a\", \"b\" , \"c\"}\r\n",
        "set2 = {1, 2, 3}\r\n",
        "\r\n",
        "set3 = set1.union(set2)\r\n",
        "print(set3)"
      ],
      "execution_count": null,
      "outputs": [
        {
          "output_type": "stream",
          "text": [
            "{1, 2, 3, 'b', 'a', 'c'}\n"
          ],
          "name": "stdout"
        }
      ]
    },
    {
      "cell_type": "markdown",
      "metadata": {
        "id": "ogjA2Z3RzqQg"
      },
      "source": [
        "##**Python Conditions and If statements**"
      ]
    },
    {
      "cell_type": "code",
      "metadata": {
        "colab": {
          "base_uri": "https://localhost:8080/"
        },
        "id": "kp7d8oN4zwQ0",
        "outputId": "ca62de0c-3302-4992-bda6-4b8476b79c93"
      },
      "source": [
        "a = 33\r\n",
        "b = 33\r\n",
        "if b > a:\r\n",
        "  print(\"b is greater than a\")\r\n",
        "elif a == b:\r\n",
        "  print(\"a and b are equal\")"
      ],
      "execution_count": null,
      "outputs": [
        {
          "output_type": "stream",
          "text": [
            "a and b are equal\n"
          ],
          "name": "stdout"
        }
      ]
    },
    {
      "cell_type": "markdown",
      "metadata": {
        "id": "pXXcgLHFzxot"
      },
      "source": [
        "#**Loops**"
      ]
    },
    {
      "cell_type": "code",
      "metadata": {
        "colab": {
          "base_uri": "https://localhost:8080/"
        },
        "id": "IDdKtMFsz0w-",
        "outputId": "f3771a16-6eae-4fc8-8975-69712733a206"
      },
      "source": [
        "i = 1\r\n",
        "while i < 6:\r\n",
        "  print(i)\r\n",
        "  i += 1"
      ],
      "execution_count": null,
      "outputs": [
        {
          "output_type": "stream",
          "text": [
            "1\n",
            "2\n",
            "3\n",
            "4\n",
            "5\n"
          ],
          "name": "stdout"
        }
      ]
    },
    {
      "cell_type": "code",
      "metadata": {
        "colab": {
          "base_uri": "https://localhost:8080/"
        },
        "id": "WuP5shD2z4f9",
        "outputId": "2a917d72-ecf1-43bc-c1ce-954ba56a46ae"
      },
      "source": [
        "fruits = [\"apple\", \"banana\", \"cherry\"]\r\n",
        "for x in fruits:\r\n",
        "  if x == \"banana\":\r\n",
        "    break\r\n",
        "  print(x)"
      ],
      "execution_count": null,
      "outputs": [
        {
          "output_type": "stream",
          "text": [
            "apple\n"
          ],
          "name": "stdout"
        }
      ]
    },
    {
      "cell_type": "markdown",
      "metadata": {
        "id": "IU4n7Kkrz-Np"
      },
      "source": [
        "##**Python Functions**"
      ]
    },
    {
      "cell_type": "code",
      "metadata": {
        "id": "_RBMcL3N0Kt9",
        "colab": {
          "base_uri": "https://localhost:8080/"
        },
        "outputId": "fb2ff807-3667-4810-f4ab-c236fa9d93d3"
      },
      "source": [
        "def my_function(fname):\r\n",
        "  print(fname + \" Refsnes\")\r\n",
        "\r\n",
        "my_function(\"Emil\")\r\n",
        "my_function(\"Tobias\")\r\n",
        "my_function(\"Linus\")"
      ],
      "execution_count": null,
      "outputs": [
        {
          "output_type": "stream",
          "text": [
            "Emil Refsnes\n",
            "Tobias Refsnes\n",
            "Linus Refsnes\n"
          ],
          "name": "stdout"
        }
      ]
    }
  ]
}
