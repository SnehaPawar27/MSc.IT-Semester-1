{
  "nbformat": 4,
  "nbformat_minor": 0,
  "metadata": {
    "colab": {
      "name": "Pandas.ipynb",
      "provenance": [],
      "collapsed_sections": [
        "V97CR7qv-Wxt",
        "H2p_kSpFB-EC",
        "fQZulc7aDZQK",
        "PCt3n-i8L3p6",
        "KlN4622fPbRG",
        "uUcLxgY2P1xp"
      ],
      "include_colab_link": true
    },
    "kernelspec": {
      "name": "python3",
      "display_name": "Python 3"
    }
  },
  "cells": [
    {
      "cell_type": "markdown",
      "metadata": {
        "id": "view-in-github",
        "colab_type": "text"
      },
      "source": [
        "<a href=\"https://colab.research.google.com/github/simrran-sharma/MSC-IT-PART1-SEM1/blob/main/FDS/Pandas.ipynb\" target=\"_parent\"><img src=\"https://colab.research.google.com/assets/colab-badge.svg\" alt=\"Open In Colab\"/></a>"
      ]
    },
    {
      "cell_type": "markdown",
      "metadata": {
        "id": "ZU2wlvKOwFPy"
      },
      "source": [
        "#Practical No 1-4\r\n",
        "\r\n",
        "##Pandas\r\n",
        "\r\n",
        "Pandas is a Python Library. It is used for working with dataset.\r\n",
        "\r\n",
        "It has functions for analyzing, cleaning, exploring and manipulating data."
      ]
    },
    {
      "cell_type": "markdown",
      "metadata": {
        "id": "j3b3uuSi5LJV"
      },
      "source": [
        "##Why do we use Pandas?\r\n",
        "\r\n",
        "Pandas allows us to use big data and make conclusions based on sattistical theory. It can clean messy dataset and make them readable and relevent. "
      ]
    },
    {
      "cell_type": "markdown",
      "metadata": {
        "id": "SMlq4BPm5pG9"
      },
      "source": [
        "##What can Pandas do?\r\n",
        "\r\n",
        "it gives the following answers:\r\n",
        "\r\n",
        "is there a corelation between two or more coluns?\r\n",
        "\r\n",
        "What are average value, maximum value and minimum value?"
      ]
    },
    {
      "cell_type": "code",
      "metadata": {
        "id": "rI1CGl2c0uOc",
        "colab": {
          "base_uri": "https://localhost:8080/"
        },
        "outputId": "3127f9bf-1510-4629-b5f5-deeeb3eadcd3"
      },
      "source": [
        "#Loading a csv file into pandas dataframe\r\n",
        "import pandas as pd\r\n",
        "from google.colab import drive\r\n",
        "drive.mount(\"/content/drive\")"
      ],
      "execution_count": null,
      "outputs": [
        {
          "output_type": "stream",
          "text": [
            "Drive already mounted at /content/drive; to attempt to forcibly remount, call drive.mount(\"/content/drive\", force_remount=True).\n"
          ],
          "name": "stdout"
        }
      ]
    },
    {
      "cell_type": "code",
      "metadata": {
        "id": "L_nNFhGu2GYV"
      },
      "source": [
        "Location=\"drive/My Drive/Dataset\""
      ],
      "execution_count": null,
      "outputs": []
    },
    {
      "cell_type": "code",
      "metadata": {
        "id": "ph1pyg7k2PUF"
      },
      "source": [
        "import pandas as pd\r\n"
      ],
      "execution_count": null,
      "outputs": []
    },
    {
      "cell_type": "code",
      "metadata": {
        "id": "YxiXDTdP2YUZ"
      },
      "source": [
        "df=pd.read_csv(Location+ \"/Titanic.csv\")"
      ],
      "execution_count": null,
      "outputs": []
    },
    {
      "cell_type": "code",
      "metadata": {
        "colab": {
          "base_uri": "https://localhost:8080/",
          "height": 204
        },
        "id": "VNRC601t2_5V",
        "outputId": "6aac5b20-0335-4649-9b7a-eba73fb0ab10"
      },
      "source": [
        "df.head()"
      ],
      "execution_count": null,
      "outputs": [
        {
          "output_type": "execute_result",
          "data": {
            "text/html": [
              "<div>\n",
              "<style scoped>\n",
              "    .dataframe tbody tr th:only-of-type {\n",
              "        vertical-align: middle;\n",
              "    }\n",
              "\n",
              "    .dataframe tbody tr th {\n",
              "        vertical-align: top;\n",
              "    }\n",
              "\n",
              "    .dataframe thead th {\n",
              "        text-align: right;\n",
              "    }\n",
              "</style>\n",
              "<table border=\"1\" class=\"dataframe\">\n",
              "  <thead>\n",
              "    <tr style=\"text-align: right;\">\n",
              "      <th></th>\n",
              "      <th>PassengerId</th>\n",
              "      <th>Survived</th>\n",
              "      <th>Pclass</th>\n",
              "      <th>Name</th>\n",
              "      <th>Sex</th>\n",
              "      <th>Age</th>\n",
              "      <th>SibSp</th>\n",
              "      <th>Parch</th>\n",
              "      <th>Ticket</th>\n",
              "      <th>Fare</th>\n",
              "      <th>Cabin</th>\n",
              "      <th>Embarked</th>\n",
              "    </tr>\n",
              "  </thead>\n",
              "  <tbody>\n",
              "    <tr>\n",
              "      <th>0</th>\n",
              "      <td>1</td>\n",
              "      <td>0</td>\n",
              "      <td>3</td>\n",
              "      <td>Braund, Mr. Owen Harris</td>\n",
              "      <td>male</td>\n",
              "      <td>22.0</td>\n",
              "      <td>1</td>\n",
              "      <td>0</td>\n",
              "      <td>A/5 21171</td>\n",
              "      <td>7.2500</td>\n",
              "      <td>NaN</td>\n",
              "      <td>S</td>\n",
              "    </tr>\n",
              "    <tr>\n",
              "      <th>1</th>\n",
              "      <td>2</td>\n",
              "      <td>1</td>\n",
              "      <td>1</td>\n",
              "      <td>Cumings, Mrs. John Bradley (Florence Briggs Th...</td>\n",
              "      <td>female</td>\n",
              "      <td>38.0</td>\n",
              "      <td>1</td>\n",
              "      <td>0</td>\n",
              "      <td>PC 17599</td>\n",
              "      <td>71.2833</td>\n",
              "      <td>C85</td>\n",
              "      <td>C</td>\n",
              "    </tr>\n",
              "    <tr>\n",
              "      <th>2</th>\n",
              "      <td>3</td>\n",
              "      <td>1</td>\n",
              "      <td>3</td>\n",
              "      <td>Heikkinen, Miss. Laina</td>\n",
              "      <td>female</td>\n",
              "      <td>26.0</td>\n",
              "      <td>0</td>\n",
              "      <td>0</td>\n",
              "      <td>STON/O2. 3101282</td>\n",
              "      <td>7.9250</td>\n",
              "      <td>NaN</td>\n",
              "      <td>S</td>\n",
              "    </tr>\n",
              "    <tr>\n",
              "      <th>3</th>\n",
              "      <td>4</td>\n",
              "      <td>1</td>\n",
              "      <td>1</td>\n",
              "      <td>Futrelle, Mrs. Jacques Heath (Lily May Peel)</td>\n",
              "      <td>female</td>\n",
              "      <td>35.0</td>\n",
              "      <td>1</td>\n",
              "      <td>0</td>\n",
              "      <td>113803</td>\n",
              "      <td>53.1000</td>\n",
              "      <td>C123</td>\n",
              "      <td>S</td>\n",
              "    </tr>\n",
              "    <tr>\n",
              "      <th>4</th>\n",
              "      <td>5</td>\n",
              "      <td>0</td>\n",
              "      <td>3</td>\n",
              "      <td>Allen, Mr. William Henry</td>\n",
              "      <td>male</td>\n",
              "      <td>35.0</td>\n",
              "      <td>0</td>\n",
              "      <td>0</td>\n",
              "      <td>373450</td>\n",
              "      <td>8.0500</td>\n",
              "      <td>NaN</td>\n",
              "      <td>S</td>\n",
              "    </tr>\n",
              "  </tbody>\n",
              "</table>\n",
              "</div>"
            ],
            "text/plain": [
              "   PassengerId  Survived  Pclass  ...     Fare Cabin  Embarked\n",
              "0            1         0       3  ...   7.2500   NaN         S\n",
              "1            2         1       1  ...  71.2833   C85         C\n",
              "2            3         1       3  ...   7.9250   NaN         S\n",
              "3            4         1       1  ...  53.1000  C123         S\n",
              "4            5         0       3  ...   8.0500   NaN         S\n",
              "\n",
              "[5 rows x 12 columns]"
            ]
          },
          "metadata": {
            "tags": []
          },
          "execution_count": 22
        }
      ]
    },
    {
      "cell_type": "markdown",
      "metadata": {
        "id": "wuBMNxFw62ji"
      },
      "source": [
        "##Pandas Series\r\n",
        "\r\n",
        "Pandas Series is like a column in Table.It is 1_D array holding data of any type.\r\n"
      ]
    },
    {
      "cell_type": "code",
      "metadata": {
        "colab": {
          "base_uri": "https://localhost:8080/"
        },
        "id": "vMP6BMe46x1y",
        "outputId": "d42f9d3c-5f64-4b77-a19f-3898c2c22f0d"
      },
      "source": [
        "#create a simple pandas series from the list\r\n",
        "import pandas as pd\r\n",
        "a=[1, 2, 3, 4, 5, 6, 7, 8, 9, 10]\r\n",
        "myvar=pd.Series(a)\r\n",
        "print(myvar)"
      ],
      "execution_count": null,
      "outputs": [
        {
          "output_type": "stream",
          "text": [
            "0     1\n",
            "1     2\n",
            "2     3\n",
            "3     4\n",
            "4     5\n",
            "5     6\n",
            "6     7\n",
            "7     8\n",
            "8     9\n",
            "9    10\n",
            "dtype: int64\n"
          ],
          "name": "stdout"
        }
      ]
    },
    {
      "cell_type": "code",
      "metadata": {
        "colab": {
          "base_uri": "https://localhost:8080/"
        },
        "id": "YEcQl3Bq7kWq",
        "outputId": "54c421de-4618-4a6a-f1b5-866bdc1b08ee"
      },
      "source": [
        "#Labels\r\n",
        "#Labels are used to access specific values\r\n",
        "print(myvar[5], myvar[7])"
      ],
      "execution_count": null,
      "outputs": [
        {
          "output_type": "stream",
          "text": [
            "6 8\n"
          ],
          "name": "stdout"
        }
      ]
    },
    {
      "cell_type": "code",
      "metadata": {
        "colab": {
          "base_uri": "https://localhost:8080/"
        },
        "id": "srHyzhHZ8CR-",
        "outputId": "1e3a5704-6ffa-4f14-e7d3-990e1455c523"
      },
      "source": [
        "#creating labels with index arguments. We can give our own labels\r\n",
        "import pandas as pd\r\n",
        "a=[1, 2, 3, 4, 5, 6, 7, 8, 9, 10]\r\n",
        "myvar=pd.Series(a, index=[\"a\", \"b\", \"c\", \"d\", \"e\", \"f\", \"g\", \"h\", \"i\", \"j\"])\r\n",
        "print(myvar)"
      ],
      "execution_count": null,
      "outputs": [
        {
          "output_type": "stream",
          "text": [
            "a     1\n",
            "b     2\n",
            "c     3\n",
            "d     4\n",
            "e     5\n",
            "f     6\n",
            "g     7\n",
            "h     8\n",
            "i     9\n",
            "j    10\n",
            "dtype: int64\n"
          ],
          "name": "stdout"
        }
      ]
    },
    {
      "cell_type": "markdown",
      "metadata": {
        "id": "xGI9seSf87EN"
      },
      "source": [
        "##Key/Value Object as Series\r\n",
        "\r\n",
        "We can use Key/Values Object, like a dictonary when creating a series"
      ]
    },
    {
      "cell_type": "code",
      "metadata": {
        "colab": {
          "base_uri": "https://localhost:8080/"
        },
        "id": "5eGK3Hjo8rLL",
        "outputId": "52927c81-4503-4284-95f2-fe354687fff0"
      },
      "source": [
        "#creating simple Pandas Series from dictionary\r\n",
        "import pandas as pd\r\n",
        "\r\n",
        "calories = {\"day1\": 420, \"day2\": 380, \"day3\": 390}\r\n",
        "\r\n",
        "myvar = pd.Series(calories)\r\n",
        "\r\n",
        "print(myvar)"
      ],
      "execution_count": null,
      "outputs": [
        {
          "output_type": "stream",
          "text": [
            "day1    420\n",
            "day2    380\n",
            "day3    390\n",
            "dtype: int64\n"
          ],
          "name": "stdout"
        }
      ]
    },
    {
      "cell_type": "code",
      "metadata": {
        "colab": {
          "base_uri": "https://localhost:8080/"
        },
        "id": "GOmju-W39vnV",
        "outputId": "d7004355-6f9d-4f09-8b7c-27050f122455"
      },
      "source": [
        "#Create series only data from day1 and day2\r\n",
        "import pandas as pd\r\n",
        "\r\n",
        "calories = {\"day1\": 420, \"day2\": 380, \"day3\": 390}\r\n",
        "\r\n",
        "myvar = pd.Series(calories, index = [\"day1\", \"day2\"])\r\n",
        "\r\n",
        "print(myvar)"
      ],
      "execution_count": null,
      "outputs": [
        {
          "output_type": "stream",
          "text": [
            "day1    420\n",
            "day2    380\n",
            "dtype: int64\n"
          ],
          "name": "stdout"
        }
      ]
    },
    {
      "cell_type": "markdown",
      "metadata": {
        "id": "V97CR7qv-Wxt"
      },
      "source": [
        "##Dataframe \r\n",
        "\r\n",
        "Data sets in Pandas are usually multi-dimensional tables, called DataFrames.\r\n",
        "\r\n",
        "Series is like a column, a DataFrame is the whole table."
      ]
    },
    {
      "cell_type": "code",
      "metadata": {
        "colab": {
          "base_uri": "https://localhost:8080/"
        },
        "id": "XO67dpyJ-QmW",
        "outputId": "684473fe-3b34-4bf0-f49a-34a454bbf114"
      },
      "source": [
        "#Create a Dataframe from 3 Series\r\n",
        "import pandas as pd\r\n",
        "data = {\r\n",
        "  \"roll no\": [1, 2, 3, 4, 5],\r\n",
        "  \"name\": [\"Ajay\", \"Vijay\", \"Suresh\", \"Peter\", \"Joseph\"],\r\n",
        "  \"marks\":[25, 28, 36, 45, 49]\r\n",
        "    }\r\n",
        "a=pd.DataFrame(data)\r\n",
        "\r\n",
        "print(a)"
      ],
      "execution_count": null,
      "outputs": [
        {
          "output_type": "stream",
          "text": [
            "   roll no    name  marks\n",
            "0        1    Ajay     25\n",
            "1        2   Vijay     28\n",
            "2        3  Suresh     36\n",
            "3        4   Peter     45\n",
            "4        5  Joseph     49\n"
          ],
          "name": "stdout"
        }
      ]
    },
    {
      "cell_type": "code",
      "metadata": {
        "colab": {
          "base_uri": "https://localhost:8080/"
        },
        "id": "EG670JmvAPiS",
        "outputId": "4ba146a4-f452-451d-9f15-29990e8230b6"
      },
      "source": [
        "#locate row\r\n",
        "a.loc[1]"
      ],
      "execution_count": null,
      "outputs": [
        {
          "output_type": "execute_result",
          "data": {
            "text/plain": [
              "roll no        2\n",
              "name       Vijay\n",
              "marks         28\n",
              "Name: 1, dtype: object"
            ]
          },
          "metadata": {
            "tags": []
          },
          "execution_count": 37
        }
      ]
    },
    {
      "cell_type": "markdown",
      "metadata": {
        "id": "H2p_kSpFB-EC"
      },
      "source": [
        "##Named indexes\r\n",
        "\r\n",
        "With index argument, we can name our own indexes"
      ]
    },
    {
      "cell_type": "code",
      "metadata": {
        "colab": {
          "base_uri": "https://localhost:8080/"
        },
        "id": "Fxx8nVFyBhzP",
        "outputId": "25b5442d-1143-494b-a981-366382b5c492"
      },
      "source": [
        "import pandas as pd\r\n",
        "data = {\r\n",
        "  \"roll no\": [1, 2, 3, 4, 5],\r\n",
        "  \"name\": [\"Ajay\", \"Vijay\", \"Suresh\", \"Peter\", \"Joseph\"],\r\n",
        "  \"marks\":[25, 28, 36, 45, 49]\r\n",
        "    }\r\n",
        "a=pd.DataFrame(data, index=[\"zero\", 'one', \"two\", \"three\", \"four\"])\r\n",
        "print(a)"
      ],
      "execution_count": null,
      "outputs": [
        {
          "output_type": "stream",
          "text": [
            "       roll no    name  marks\n",
            "zero         1    Ajay     25\n",
            "one          2   Vijay     28\n",
            "two          3  Suresh     36\n",
            "three        4   Peter     45\n",
            "four         5  Joseph     49\n"
          ],
          "name": "stdout"
        }
      ]
    },
    {
      "cell_type": "code",
      "metadata": {
        "colab": {
          "base_uri": "https://localhost:8080/"
        },
        "id": "C4uU3domDDFv",
        "outputId": "2e8736fb-baff-4445-dda8-aa4d3577c74d"
      },
      "source": [
        "print(a.loc[\"four\"])"
      ],
      "execution_count": null,
      "outputs": [
        {
          "output_type": "stream",
          "text": [
            "roll no         5\n",
            "name       Joseph\n",
            "marks          49\n",
            "Name: four, dtype: object\n"
          ],
          "name": "stdout"
        }
      ]
    },
    {
      "cell_type": "markdown",
      "metadata": {
        "id": "fQZulc7aDZQK"
      },
      "source": [
        "##Load file into a Dataframe"
      ]
    },
    {
      "cell_type": "code",
      "metadata": {
        "id": "nbiQ5-3XDTU6"
      },
      "source": [
        "import pandas as pd\r\n",
        "df=pd.read_csv(Location+ \"/Titanic.csv\")"
      ],
      "execution_count": null,
      "outputs": []
    },
    {
      "cell_type": "code",
      "metadata": {
        "colab": {
          "base_uri": "https://localhost:8080/"
        },
        "id": "Kp7qmFSoDnNo",
        "outputId": "0d73c114-d76f-40fd-e716-6b0eaba226d0"
      },
      "source": [
        "print(df)"
      ],
      "execution_count": null,
      "outputs": [
        {
          "output_type": "stream",
          "text": [
            "     PassengerId  Survived  Pclass  ...     Fare Cabin  Embarked\n",
            "0              1         0       3  ...   7.2500   NaN         S\n",
            "1              2         1       1  ...  71.2833   C85         C\n",
            "2              3         1       3  ...   7.9250   NaN         S\n",
            "3              4         1       1  ...  53.1000  C123         S\n",
            "4              5         0       3  ...   8.0500   NaN         S\n",
            "..           ...       ...     ...  ...      ...   ...       ...\n",
            "886          887         0       2  ...  13.0000   NaN         S\n",
            "887          888         1       1  ...  30.0000   B42         S\n",
            "888          889         0       3  ...  23.4500   NaN         S\n",
            "889          890         1       1  ...  30.0000  C148         C\n",
            "890          891         0       3  ...   7.7500   NaN       NaN\n",
            "\n",
            "[891 rows x 12 columns]\n"
          ],
          "name": "stdout"
        }
      ]
    },
    {
      "cell_type": "code",
      "metadata": {
        "colab": {
          "base_uri": "https://localhost:8080/",
          "height": 359
        },
        "id": "LpXESM9cDztL",
        "outputId": "5ee3080d-84a0-4440-e42b-0a9639ac420a"
      },
      "source": [
        "#printing the first 10 rows of dataset\r\n",
        "df.head(10)"
      ],
      "execution_count": null,
      "outputs": [
        {
          "output_type": "execute_result",
          "data": {
            "text/html": [
              "<div>\n",
              "<style scoped>\n",
              "    .dataframe tbody tr th:only-of-type {\n",
              "        vertical-align: middle;\n",
              "    }\n",
              "\n",
              "    .dataframe tbody tr th {\n",
              "        vertical-align: top;\n",
              "    }\n",
              "\n",
              "    .dataframe thead th {\n",
              "        text-align: right;\n",
              "    }\n",
              "</style>\n",
              "<table border=\"1\" class=\"dataframe\">\n",
              "  <thead>\n",
              "    <tr style=\"text-align: right;\">\n",
              "      <th></th>\n",
              "      <th>PassengerId</th>\n",
              "      <th>Survived</th>\n",
              "      <th>Pclass</th>\n",
              "      <th>Name</th>\n",
              "      <th>Sex</th>\n",
              "      <th>Age</th>\n",
              "      <th>SibSp</th>\n",
              "      <th>Parch</th>\n",
              "      <th>Ticket</th>\n",
              "      <th>Fare</th>\n",
              "      <th>Cabin</th>\n",
              "      <th>Embarked</th>\n",
              "    </tr>\n",
              "  </thead>\n",
              "  <tbody>\n",
              "    <tr>\n",
              "      <th>0</th>\n",
              "      <td>1</td>\n",
              "      <td>0</td>\n",
              "      <td>3</td>\n",
              "      <td>Braund, Mr. Owen Harris</td>\n",
              "      <td>male</td>\n",
              "      <td>22.0</td>\n",
              "      <td>1</td>\n",
              "      <td>0</td>\n",
              "      <td>A/5 21171</td>\n",
              "      <td>7.2500</td>\n",
              "      <td>NaN</td>\n",
              "      <td>S</td>\n",
              "    </tr>\n",
              "    <tr>\n",
              "      <th>1</th>\n",
              "      <td>2</td>\n",
              "      <td>1</td>\n",
              "      <td>1</td>\n",
              "      <td>Cumings, Mrs. John Bradley (Florence Briggs Th...</td>\n",
              "      <td>female</td>\n",
              "      <td>38.0</td>\n",
              "      <td>1</td>\n",
              "      <td>0</td>\n",
              "      <td>PC 17599</td>\n",
              "      <td>71.2833</td>\n",
              "      <td>C85</td>\n",
              "      <td>C</td>\n",
              "    </tr>\n",
              "    <tr>\n",
              "      <th>2</th>\n",
              "      <td>3</td>\n",
              "      <td>1</td>\n",
              "      <td>3</td>\n",
              "      <td>Heikkinen, Miss. Laina</td>\n",
              "      <td>female</td>\n",
              "      <td>26.0</td>\n",
              "      <td>0</td>\n",
              "      <td>0</td>\n",
              "      <td>STON/O2. 3101282</td>\n",
              "      <td>7.9250</td>\n",
              "      <td>NaN</td>\n",
              "      <td>S</td>\n",
              "    </tr>\n",
              "    <tr>\n",
              "      <th>3</th>\n",
              "      <td>4</td>\n",
              "      <td>1</td>\n",
              "      <td>1</td>\n",
              "      <td>Futrelle, Mrs. Jacques Heath (Lily May Peel)</td>\n",
              "      <td>female</td>\n",
              "      <td>35.0</td>\n",
              "      <td>1</td>\n",
              "      <td>0</td>\n",
              "      <td>113803</td>\n",
              "      <td>53.1000</td>\n",
              "      <td>C123</td>\n",
              "      <td>S</td>\n",
              "    </tr>\n",
              "    <tr>\n",
              "      <th>4</th>\n",
              "      <td>5</td>\n",
              "      <td>0</td>\n",
              "      <td>3</td>\n",
              "      <td>Allen, Mr. William Henry</td>\n",
              "      <td>male</td>\n",
              "      <td>35.0</td>\n",
              "      <td>0</td>\n",
              "      <td>0</td>\n",
              "      <td>373450</td>\n",
              "      <td>8.0500</td>\n",
              "      <td>NaN</td>\n",
              "      <td>S</td>\n",
              "    </tr>\n",
              "    <tr>\n",
              "      <th>5</th>\n",
              "      <td>6</td>\n",
              "      <td>0</td>\n",
              "      <td>3</td>\n",
              "      <td>Moran, Mr. James</td>\n",
              "      <td>male</td>\n",
              "      <td>NaN</td>\n",
              "      <td>0</td>\n",
              "      <td>0</td>\n",
              "      <td>330877</td>\n",
              "      <td>8.4583</td>\n",
              "      <td>NaN</td>\n",
              "      <td>Q</td>\n",
              "    </tr>\n",
              "    <tr>\n",
              "      <th>6</th>\n",
              "      <td>7</td>\n",
              "      <td>0</td>\n",
              "      <td>1</td>\n",
              "      <td>McCarthy, Mr. Timothy J</td>\n",
              "      <td>male</td>\n",
              "      <td>54.0</td>\n",
              "      <td>0</td>\n",
              "      <td>0</td>\n",
              "      <td>17463</td>\n",
              "      <td>51.8625</td>\n",
              "      <td>E46</td>\n",
              "      <td>S</td>\n",
              "    </tr>\n",
              "    <tr>\n",
              "      <th>7</th>\n",
              "      <td>8</td>\n",
              "      <td>0</td>\n",
              "      <td>3</td>\n",
              "      <td>Palsson, Master. Gosta Leonard</td>\n",
              "      <td>male</td>\n",
              "      <td>2.0</td>\n",
              "      <td>3</td>\n",
              "      <td>1</td>\n",
              "      <td>349909</td>\n",
              "      <td>21.0750</td>\n",
              "      <td>NaN</td>\n",
              "      <td>S</td>\n",
              "    </tr>\n",
              "    <tr>\n",
              "      <th>8</th>\n",
              "      <td>9</td>\n",
              "      <td>1</td>\n",
              "      <td>3</td>\n",
              "      <td>Johnson, Mrs. Oscar W (Elisabeth Vilhelmina Berg)</td>\n",
              "      <td>female</td>\n",
              "      <td>27.0</td>\n",
              "      <td>0</td>\n",
              "      <td>2</td>\n",
              "      <td>347742</td>\n",
              "      <td>11.1333</td>\n",
              "      <td>NaN</td>\n",
              "      <td>S</td>\n",
              "    </tr>\n",
              "    <tr>\n",
              "      <th>9</th>\n",
              "      <td>10</td>\n",
              "      <td>1</td>\n",
              "      <td>2</td>\n",
              "      <td>Nasser, Mrs. Nicholas (Adele Achem)</td>\n",
              "      <td>female</td>\n",
              "      <td>14.0</td>\n",
              "      <td>1</td>\n",
              "      <td>0</td>\n",
              "      <td>237736</td>\n",
              "      <td>30.0708</td>\n",
              "      <td>NaN</td>\n",
              "      <td>C</td>\n",
              "    </tr>\n",
              "  </tbody>\n",
              "</table>\n",
              "</div>"
            ],
            "text/plain": [
              "   PassengerId  Survived  Pclass  ...     Fare Cabin  Embarked\n",
              "0            1         0       3  ...   7.2500   NaN         S\n",
              "1            2         1       1  ...  71.2833   C85         C\n",
              "2            3         1       3  ...   7.9250   NaN         S\n",
              "3            4         1       1  ...  53.1000  C123         S\n",
              "4            5         0       3  ...   8.0500   NaN         S\n",
              "5            6         0       3  ...   8.4583   NaN         Q\n",
              "6            7         0       1  ...  51.8625   E46         S\n",
              "7            8         0       3  ...  21.0750   NaN         S\n",
              "8            9         1       3  ...  11.1333   NaN         S\n",
              "9           10         1       2  ...  30.0708   NaN         C\n",
              "\n",
              "[10 rows x 12 columns]"
            ]
          },
          "metadata": {
            "tags": []
          },
          "execution_count": 49
        }
      ]
    },
    {
      "cell_type": "code",
      "metadata": {
        "colab": {
          "base_uri": "https://localhost:8080/",
          "height": 359
        },
        "id": "ROzfSz6YLCTJ",
        "outputId": "ae6a2391-7521-4310-d65c-55c75ac969af"
      },
      "source": [
        "#printing the last 10 values of csv file\r\n",
        "df.tail(10)"
      ],
      "execution_count": null,
      "outputs": [
        {
          "output_type": "execute_result",
          "data": {
            "text/html": [
              "<div>\n",
              "<style scoped>\n",
              "    .dataframe tbody tr th:only-of-type {\n",
              "        vertical-align: middle;\n",
              "    }\n",
              "\n",
              "    .dataframe tbody tr th {\n",
              "        vertical-align: top;\n",
              "    }\n",
              "\n",
              "    .dataframe thead th {\n",
              "        text-align: right;\n",
              "    }\n",
              "</style>\n",
              "<table border=\"1\" class=\"dataframe\">\n",
              "  <thead>\n",
              "    <tr style=\"text-align: right;\">\n",
              "      <th></th>\n",
              "      <th>PassengerId</th>\n",
              "      <th>Survived</th>\n",
              "      <th>Pclass</th>\n",
              "      <th>Name</th>\n",
              "      <th>Sex</th>\n",
              "      <th>Age</th>\n",
              "      <th>SibSp</th>\n",
              "      <th>Parch</th>\n",
              "      <th>Ticket</th>\n",
              "      <th>Fare</th>\n",
              "      <th>Cabin</th>\n",
              "      <th>Embarked</th>\n",
              "    </tr>\n",
              "  </thead>\n",
              "  <tbody>\n",
              "    <tr>\n",
              "      <th>881</th>\n",
              "      <td>882</td>\n",
              "      <td>0</td>\n",
              "      <td>3</td>\n",
              "      <td>Markun, Mr. Johann</td>\n",
              "      <td>male</td>\n",
              "      <td>33.0</td>\n",
              "      <td>0</td>\n",
              "      <td>0</td>\n",
              "      <td>349257</td>\n",
              "      <td>7.8958</td>\n",
              "      <td>NaN</td>\n",
              "      <td>S</td>\n",
              "    </tr>\n",
              "    <tr>\n",
              "      <th>882</th>\n",
              "      <td>883</td>\n",
              "      <td>0</td>\n",
              "      <td>3</td>\n",
              "      <td>Dahlberg, Miss. Gerda Ulrika</td>\n",
              "      <td>female</td>\n",
              "      <td>22.0</td>\n",
              "      <td>0</td>\n",
              "      <td>0</td>\n",
              "      <td>7552</td>\n",
              "      <td>10.5167</td>\n",
              "      <td>NaN</td>\n",
              "      <td>S</td>\n",
              "    </tr>\n",
              "    <tr>\n",
              "      <th>883</th>\n",
              "      <td>884</td>\n",
              "      <td>0</td>\n",
              "      <td>2</td>\n",
              "      <td>Banfield, Mr. Frederick James</td>\n",
              "      <td>male</td>\n",
              "      <td>28.0</td>\n",
              "      <td>0</td>\n",
              "      <td>0</td>\n",
              "      <td>C.A./SOTON 34068</td>\n",
              "      <td>10.5000</td>\n",
              "      <td>NaN</td>\n",
              "      <td>S</td>\n",
              "    </tr>\n",
              "    <tr>\n",
              "      <th>884</th>\n",
              "      <td>885</td>\n",
              "      <td>0</td>\n",
              "      <td>3</td>\n",
              "      <td>Sutehall, Mr. Henry Jr</td>\n",
              "      <td>male</td>\n",
              "      <td>25.0</td>\n",
              "      <td>0</td>\n",
              "      <td>0</td>\n",
              "      <td>SOTON/OQ 392076</td>\n",
              "      <td>7.0500</td>\n",
              "      <td>NaN</td>\n",
              "      <td>S</td>\n",
              "    </tr>\n",
              "    <tr>\n",
              "      <th>885</th>\n",
              "      <td>886</td>\n",
              "      <td>0</td>\n",
              "      <td>3</td>\n",
              "      <td>Rice, Mrs. William (Margaret Norton)</td>\n",
              "      <td>female</td>\n",
              "      <td>39.0</td>\n",
              "      <td>0</td>\n",
              "      <td>5</td>\n",
              "      <td>382652</td>\n",
              "      <td>29.1250</td>\n",
              "      <td>NaN</td>\n",
              "      <td>Q</td>\n",
              "    </tr>\n",
              "    <tr>\n",
              "      <th>886</th>\n",
              "      <td>887</td>\n",
              "      <td>0</td>\n",
              "      <td>2</td>\n",
              "      <td>Montvila, Rev. Juozas</td>\n",
              "      <td>male</td>\n",
              "      <td>27.0</td>\n",
              "      <td>0</td>\n",
              "      <td>0</td>\n",
              "      <td>211536</td>\n",
              "      <td>13.0000</td>\n",
              "      <td>NaN</td>\n",
              "      <td>S</td>\n",
              "    </tr>\n",
              "    <tr>\n",
              "      <th>887</th>\n",
              "      <td>888</td>\n",
              "      <td>1</td>\n",
              "      <td>1</td>\n",
              "      <td>Graham, Miss. Margaret Edith</td>\n",
              "      <td>female</td>\n",
              "      <td>19.0</td>\n",
              "      <td>0</td>\n",
              "      <td>0</td>\n",
              "      <td>112053</td>\n",
              "      <td>30.0000</td>\n",
              "      <td>B42</td>\n",
              "      <td>S</td>\n",
              "    </tr>\n",
              "    <tr>\n",
              "      <th>888</th>\n",
              "      <td>889</td>\n",
              "      <td>0</td>\n",
              "      <td>3</td>\n",
              "      <td>Johnston, Miss. Catherine Helen \"Carrie\"</td>\n",
              "      <td>female</td>\n",
              "      <td>NaN</td>\n",
              "      <td>1</td>\n",
              "      <td>2</td>\n",
              "      <td>W./C. 6607</td>\n",
              "      <td>23.4500</td>\n",
              "      <td>NaN</td>\n",
              "      <td>S</td>\n",
              "    </tr>\n",
              "    <tr>\n",
              "      <th>889</th>\n",
              "      <td>890</td>\n",
              "      <td>1</td>\n",
              "      <td>1</td>\n",
              "      <td>Behr, Mr. Karl Howell</td>\n",
              "      <td>male</td>\n",
              "      <td>26.0</td>\n",
              "      <td>0</td>\n",
              "      <td>0</td>\n",
              "      <td>111369</td>\n",
              "      <td>30.0000</td>\n",
              "      <td>C148</td>\n",
              "      <td>C</td>\n",
              "    </tr>\n",
              "    <tr>\n",
              "      <th>890</th>\n",
              "      <td>891</td>\n",
              "      <td>0</td>\n",
              "      <td>3</td>\n",
              "      <td>Dooley, Mr. Patrick</td>\n",
              "      <td>male</td>\n",
              "      <td>32.0</td>\n",
              "      <td>0</td>\n",
              "      <td>0</td>\n",
              "      <td>370376</td>\n",
              "      <td>7.7500</td>\n",
              "      <td>NaN</td>\n",
              "      <td>NaN</td>\n",
              "    </tr>\n",
              "  </tbody>\n",
              "</table>\n",
              "</div>"
            ],
            "text/plain": [
              "     PassengerId  Survived  Pclass  ...     Fare Cabin  Embarked\n",
              "881          882         0       3  ...   7.8958   NaN         S\n",
              "882          883         0       3  ...  10.5167   NaN         S\n",
              "883          884         0       2  ...  10.5000   NaN         S\n",
              "884          885         0       3  ...   7.0500   NaN         S\n",
              "885          886         0       3  ...  29.1250   NaN         Q\n",
              "886          887         0       2  ...  13.0000   NaN         S\n",
              "887          888         1       1  ...  30.0000   B42         S\n",
              "888          889         0       3  ...  23.4500   NaN         S\n",
              "889          890         1       1  ...  30.0000  C148         C\n",
              "890          891         0       3  ...   7.7500   NaN       NaN\n",
              "\n",
              "[10 rows x 12 columns]"
            ]
          },
          "metadata": {
            "tags": []
          },
          "execution_count": 50
        }
      ]
    },
    {
      "cell_type": "code",
      "metadata": {
        "colab": {
          "base_uri": "https://localhost:8080/"
        },
        "id": "esZdgPJSLIXY",
        "outputId": "05fd49cb-9eca-4ee2-bf34-b0ca595732f7"
      },
      "source": [
        "#information about data\r\n",
        "#info() is used to print the information about the data\r\n",
        "df.info()"
      ],
      "execution_count": null,
      "outputs": [
        {
          "output_type": "stream",
          "text": [
            "<class 'pandas.core.frame.DataFrame'>\n",
            "RangeIndex: 891 entries, 0 to 890\n",
            "Data columns (total 12 columns):\n",
            " #   Column       Non-Null Count  Dtype  \n",
            "---  ------       --------------  -----  \n",
            " 0   PassengerId  891 non-null    int64  \n",
            " 1   Survived     891 non-null    int64  \n",
            " 2   Pclass       891 non-null    int64  \n",
            " 3   Name         891 non-null    object \n",
            " 4   Sex          891 non-null    object \n",
            " 5   Age          714 non-null    float64\n",
            " 6   SibSp        891 non-null    int64  \n",
            " 7   Parch        891 non-null    int64  \n",
            " 8   Ticket       891 non-null    object \n",
            " 9   Fare         891 non-null    float64\n",
            " 10  Cabin        204 non-null    object \n",
            " 11  Embarked     888 non-null    object \n",
            "dtypes: float64(2), int64(5), object(5)\n",
            "memory usage: 83.7+ KB\n"
          ],
          "name": "stdout"
        }
      ]
    },
    {
      "cell_type": "markdown",
      "metadata": {
        "id": "PCt3n-i8L3p6"
      },
      "source": [
        "##Empty cell\r\n",
        "\r\n",
        "Empty cells can potentially give you a wrong result when you analyze data.\r\n",
        "\r\n",
        "One way to deal with empty cell is to remove rows that contain empty cell.\r\n"
      ]
    },
    {
      "cell_type": "code",
      "metadata": {
        "colab": {
          "base_uri": "https://localhost:8080/"
        },
        "id": "2NZchXhlLVtp",
        "outputId": "667eddbd-3a0b-4b6b-d84f-7653d1da61fb"
      },
      "source": [
        "import pandas as pd\r\n",
        "df=pd.read_csv(Location+ \"/Titanic.csv\")\r\n",
        "new_df=df.dropna()\r\n",
        "print(new_df.to_string())"
      ],
      "execution_count": null,
      "outputs": [
        {
          "output_type": "stream",
          "text": [
            "     PassengerId  Survived  Pclass                                                                                Name     Sex    Age  SibSp  Parch             Ticket      Fare            Cabin Embarked\n",
            "1              2         1       1                                 Cumings, Mrs. John Bradley (Florence Briggs Thayer)  female  38.00      1      0           PC 17599   71.2833              C85        C\n",
            "3              4         1       1                                        Futrelle, Mrs. Jacques Heath (Lily May Peel)  female  35.00      1      0             113803   53.1000             C123        S\n",
            "6              7         0       1                                                             McCarthy, Mr. Timothy J    male  54.00      0      0              17463   51.8625              E46        S\n",
            "10            11         1       3                                                     Sandstrom, Miss. Marguerite Rut  female   4.00      1      1            PP 9549   16.7000               G6        S\n",
            "11            12         1       1                                                            Bonnell, Miss. Elizabeth  female  58.00      0      0             113783   26.5500             C103        S\n",
            "21            22         1       2                                                               Beesley, Mr. Lawrence    male  34.00      0      0             248698   13.0000              D56        S\n",
            "23            24         1       1                                                        Sloper, Mr. William Thompson    male  28.00      0      0             113788   35.5000               A6        S\n",
            "27            28         0       1                                                      Fortune, Mr. Charles Alexander    male  19.00      3      2              19950  263.0000      C23 C25 C27        S\n",
            "52            53         1       1                                            Harper, Mrs. Henry Sleeper (Myna Haxtun)  female  49.00      1      0           PC 17572   76.7292              D33        C\n",
            "54            55         0       1                                                      Ostby, Mr. Engelhart Cornelius    male  65.00      0      1             113509   61.9792              B30        C\n",
            "62            63         0       1                                                         Harris, Mr. Henry Birkhardt    male  45.00      1      0              36973   83.4750              C83        S\n",
            "66            67         1       2                                                        Nye, Mrs. (Elizabeth Ramell)  female  29.00      0      0         C.A. 29395   10.5000              F33        S\n",
            "75            76         0       3                                                             Moen, Mr. Sigurd Hansen    male  25.00      0      0             348123    7.6500            F G73        S\n",
            "88            89         1       1                                                          Fortune, Miss. Mabel Helen  female  23.00      3      2              19950  263.0000      C23 C25 C27        S\n",
            "92            93         0       1                                                         Chaffee, Mr. Herbert Fuller    male  46.00      1      0        W.E.P. 5734   61.1750              E31        S\n",
            "96            97         0       1                                                           Goldschmidt, Mr. George B    male  71.00      0      0           PC 17754   34.6542               A5        C\n",
            "97            98         1       1                                                     Greenfield, Mr. William Bertram    male  23.00      0      1           PC 17759   63.3583          D10 D12        C\n",
            "102          103         0       1                                                           White, Mr. Richard Frasar    male  21.00      0      1              35281   77.2875              D26        S\n",
            "110          111         0       1                                                      Porter, Mr. Walter Chamberlain    male  47.00      0      0             110465   52.0000             C110        S\n",
            "118          119         0       1                                                            Baxter, Mr. Quigg Edmond    male  24.00      0      1           PC 17558  247.5208          B58 B60        C\n",
            "123          124         1       2                                                                 Webber, Miss. Susan  female  32.50      0      0              27267   13.0000             E101        S\n",
            "124          125         0       1                                                         White, Mr. Percival Wayland    male  54.00      0      1              35281   77.2875              D26        S\n",
            "136          137         1       1                                                        Newsom, Miss. Helen Monypeny  female  19.00      0      2              11752   26.2833              D47        S\n",
            "137          138         0       1                                                         Futrelle, Mr. Jacques Heath    male  37.00      1      0             113803   53.1000             C123        S\n",
            "139          140         0       1                                                                  Giglio, Mr. Victor    male  24.00      0      0           PC 17593   79.2000              B86        C\n",
            "148          149         0       2                                            Navratil, Mr. Michel (\"Louis M Hoffman\")    male  36.50      0      2             230080   26.0000               F2        S\n",
            "151          152         1       1                                                   Pears, Mrs. Thomas (Edith Wearne)  female  22.00      1      0             113776   66.6000               C2        S\n",
            "170          171         0       1                                                           Van der hoef, Mr. Wyckoff    male  61.00      0      0             111240   33.5000              B19        S\n",
            "174          175         0       1                                                             Smith, Mr. James Clinch    male  56.00      0      0              17764   30.6958               A7        C\n",
            "177          178         0       1                                                          Isham, Miss. Ann Elizabeth  female  50.00      0      0           PC 17595   28.7125              C49        C\n",
            "183          184         1       2                                                           Becker, Master. Richard F    male   1.00      2      1             230136   39.0000               F4        S\n",
            "193          194         1       2                                                          Navratil, Master. Michel M    male   3.00      1      1             230080   26.0000               F2        S\n",
            "194          195         1       1                                           Brown, Mrs. James Joseph (Margaret Tobin)  female  44.00      0      0           PC 17610   27.7208               B4        C\n",
            "195          196         1       1                                                                Lurette, Miss. Elise  female  58.00      0      0           PC 17569  146.5208              B80        C\n",
            "205          206         0       3                                                          Strom, Miss. Telma Matilda  female   2.00      0      1             347054   10.4625               G6        S\n",
            "209          210         1       1                                                                    Blank, Mr. Henry    male  40.00      0      0             112277   31.0000              A31        C\n",
            "215          216         1       1                                                             Newell, Miss. Madeleine  female  31.00      1      0              35273  113.2750              D36        C\n",
            "218          219         1       1                                                               Bazzani, Miss. Albina  female  32.00      0      0              11813   76.2917              D15        C\n",
            "224          225         1       1                                                        Hoyt, Mr. Frederick Maxfield    male  38.00      1      0              19943   90.0000              C93        S\n",
            "230          231         1       1                                        Harris, Mrs. Henry Birkhardt (Irene Wallach)  female  35.00      1      0              36973   83.4750              C83        S\n",
            "245          246         0       1                                                         Minahan, Dr. William Edward    male  44.00      2      0              19928   90.0000              C78        Q\n",
            "248          249         1       1                                                       Beckwith, Mr. Richard Leonard    male  37.00      1      1              11751   52.5542              D35        S\n",
            "251          252         0       3                                          Strom, Mrs. Wilhelm (Elna Matilda Persson)  female  29.00      1      1             347054   10.4625               G6        S\n",
            "252          253         0       1                                                           Stead, Mr. William Thomas    male  62.00      0      0             113514   26.5500              C87        S\n",
            "257          258         1       1                                                                Cherry, Miss. Gladys  female  30.00      0      0             110152   86.5000              B77        S\n",
            "262          263         0       1                                                                   Taussig, Mr. Emil    male  52.00      1      1             110413   79.6500              E67        S\n",
            "263          264         0       1                                                               Harrison, Mr. William    male  40.00      0      0             112059    0.0000              B94        S\n",
            "268          269         1       1                                       Graham, Mrs. William Thompson (Edith Junkins)  female  58.00      0      1           PC 17582  153.4625             C125        S\n",
            "269          270         1       1                                                              Bissette, Miss. Amelia  female  35.00      0      0           PC 17760  135.6333              C99        S\n",
            "273          274         0       1                                                               Natsch, Mr. Charles H    male  37.00      0      1           PC 17596   29.7000             C118        C\n",
            "275          276         1       1                                                   Andrews, Miss. Kornelia Theodosia  female  63.00      1      0              13502   77.9583               D7        S\n",
            "291          292         1       1                                             Bishop, Mrs. Dickinson H (Helen Walton)  female  19.00      1      0              11967   91.0792              B49        C\n",
            "292          293         0       2                                                              Levy, Mr. Rene Jacques    male  36.00      0      0      SC/Paris 2163   12.8750                D        C\n",
            "297          298         0       1                                                        Allison, Miss. Helen Loraine  female   2.00      1      2             113781  151.5500          C22 C26        S\n",
            "299          300         1       1                                     Baxter, Mrs. James (Helene DeLaudeniere Chaput)  female  50.00      0      1           PC 17558  247.5208          B58 B60        C\n",
            "305          306         1       1                                                      Allison, Master. Hudson Trevor    male   0.92      1      2             113781  151.5500          C22 C26        S\n",
            "307          308         1       1  Penasco y Castellana, Mrs. Victor de Satode (Maria Josefa Perez de Soto y Vallejo)  female  17.00      1      0           PC 17758  108.9000              C65        C\n",
            "309          310         1       1                                                      Francatelli, Miss. Laura Mabel  female  30.00      0      0           PC 17485   56.9292              E36        C\n",
            "310          311         1       1                                                      Hays, Miss. Margaret Bechstein  female  24.00      0      0              11767   83.1583              C54        C\n",
            "311          312         1       1                                                          Ryerson, Miss. Emily Borie  female  18.00      2      2           PC 17608  262.3750  B57 B59 B63 B66        C\n",
            "318          319         1       1                                                            Wick, Miss. Mary Natalie  female  31.00      0      2              36928  164.8667               C7        S\n",
            "319          320         1       1                            Spedden, Mrs. Frederic Oakley (Margaretta Corning Stone)  female  40.00      1      1              16966  134.5000              E34        C\n",
            "325          326         1       1                                                            Young, Miss. Marie Grice  female  36.00      0      0           PC 17760  135.6333              C32        C\n",
            "327          328         1       2                                                             Ball, Mrs. (Ada E Hall)  female  36.00      0      0              28551   13.0000                D        S\n",
            "329          330         1       1                                                        Hippach, Miss. Jean Gertrude  female  16.00      0      1             111361   57.9792              B18        C\n",
            "331          332         0       1                                                                 Partner, Mr. Austen    male  45.50      0      0             113043   28.5000             C124        S\n",
            "332          333         0       1                                                           Graham, Mr. George Edward    male  38.00      0      1           PC 17582  153.4625              C91        S\n",
            "336          337         0       1                                                           Pears, Mr. Thomas Clinton    male  29.00      1      0             113776   66.6000               C2        S\n",
            "337          338         1       1                                                     Burns, Miss. Elizabeth Margaret  female  41.00      0      0              16966  134.5000              E40        C\n",
            "339          340         0       1                                                        Blackwell, Mr. Stephen Weart    male  45.00      0      0             113784   35.5000                T        S\n",
            "340          341         1       2                                                      Navratil, Master. Edmond Roger    male   2.00      1      1             230080   26.0000               F2        S\n",
            "341          342         1       1                                                      Fortune, Miss. Alice Elizabeth  female  24.00      3      2              19950  263.0000      C23 C25 C27        S\n",
            "345          346         1       2                                                       Brown, Miss. Amelia \"Mildred\"  female  24.00      0      0             248733   13.0000              F33        S\n",
            "356          357         1       1                                                         Bowerman, Miss. Elsie Edith  female  22.00      0      1             113505   55.0000              E33        S\n",
            "366          367         1       1                                    Warren, Mrs. Frank Manley (Anna Sophia Atkinson)  female  60.00      1      0             110813   75.2500              D37        C\n",
            "369          370         1       1                                                       Aubart, Mme. Leontine Pauline  female  24.00      0      0           PC 17477   69.3000              B35        C\n",
            "370          371         1       1                                                         Harder, Mr. George Achilles    male  25.00      1      0              11765   55.4417              E50        C\n",
            "377          378         0       1                                                           Widener, Mr. Harry Elkins    male  27.00      0      2             113503  211.5000              C82        C\n",
            "390          391         1       1                                                          Carter, Mr. William Ernest    male  36.00      1      2             113760  120.0000          B96 B98        S\n",
            "393          394         1       1                                                              Newell, Miss. Marjorie  female  23.00      1      0              35273  113.2750              D36        C\n",
            "394          395         1       3                                 Sandstrom, Mrs. Hjalmar (Agnes Charlotta Bengtsson)  female  24.00      0      2            PP 9549   16.7000               G6        S\n",
            "412          413         1       1                                                              Minahan, Miss. Daisy E  female  33.00      1      0              19928   90.0000              C78        Q\n",
            "429          430         1       3                                                  Pickard, Mr. Berk (Berk Trembisky)    male  32.00      0      0  SOTON/O.Q. 392078    8.0500              E10        S\n",
            "430          431         1       1                                           Bjornstrom-Steffansson, Mr. Mauritz Hakan    male  28.00      0      0             110564   26.5500              C52        S\n",
            "434          435         0       1                                                           Silvey, Mr. William Baird    male  50.00      1      0              13507   55.9000              E44        S\n",
            "435          436         1       1                                                           Carter, Miss. Lucile Polk  female  14.00      1      2             113760  120.0000          B96 B98        S\n",
            "438          439         0       1                                                                   Fortune, Mr. Mark    male  64.00      1      4              19950  263.0000      C23 C25 C27        S\n",
            "445          446         1       1                                                           Dodge, Master. Washington    male   4.00      0      2              33638   81.8583              A34        S\n",
            "449          450         1       1                                                      Peuchen, Major. Arthur Godfrey    male  52.00      0      0             113786   30.5000             C104        S\n",
            "452          453         0       1                                                     Foreman, Mr. Benjamin Laventall    male  30.00      0      0             113051   27.7500             C111        C\n",
            "453          454         1       1                                                            Goldenberg, Mr. Samuel L    male  49.00      1      0              17453   89.1042              C92        C\n",
            "456          457         0       1                                                           Millet, Mr. Francis Davis    male  65.00      0      0              13509   26.5500              E38        S\n",
            "460          461         1       1                                                                 Anderson, Mr. Harry    male  48.00      0      0              19952   26.5500              E12        S\n",
            "462          463         0       1                                                                   Gee, Mr. Arthur H    male  47.00      0      0             111320   38.5000              E63        S\n",
            "473          474         1       2                                        Jerwan, Mrs. Amin S (Marie Marthe Thuillard)  female  23.00      0      0    SC/AH Basle 541   13.7917                D        C\n",
            "484          485         1       1                                                             Bishop, Mr. Dickinson H    male  25.00      1      0              11967   91.0792              B49        C\n",
            "486          487         1       1                                     Hoyt, Mrs. Frederick Maxfield (Jane Anne Forby)  female  35.00      1      0              19943   90.0000              C93        S\n",
            "487          488         0       1                                                             Kent, Mr. Edward Austin    male  58.00      0      0              11771   29.7000              B37        C\n",
            "492          493         0       1                                                          Molson, Mr. Harry Markland    male  55.00      0      0             113787   30.5000              C30        S\n",
            "496          497         1       1                                                      Eustis, Miss. Elizabeth Mussey  female  54.00      1      0              36947   78.2667              D20        C\n",
            "498          499         0       1                                     Allison, Mrs. Hudson J C (Bessie Waldo Daniels)  female  25.00      1      2             113781  151.5500          C22 C26        S\n",
            "504          505         1       1                                                               Maioni, Miss. Roberta  female  16.00      0      0             110152   86.5000              B79        S\n",
            "505          506         0       1                                          Penasco y Castellana, Mr. Victor de Satode    male  18.00      1      0           PC 17758  108.9000              C65        C\n",
            "512          513         1       1                                                           McGough, Mr. James Robert    male  36.00      0      0           PC 17473   26.2875              E25        S\n",
            "515          516         0       1                                                        Walker, Mr. William Anderson    male  47.00      0      0              36967   34.0208              D46        S\n",
            "516          517         1       2                                                        Lemore, Mrs. (Amelia Milley)  female  34.00      0      0         C.A. 34260   10.5000              F33        S\n",
            "520          521         1       1                                                               Perreault, Miss. Anne  female  30.00      0      0              12749   93.5000              B73        S\n",
            "523          524         1       1                                     Hippach, Mrs. Louis Albert (Ida Sophia Fischer)  female  44.00      0      1             111361   57.9792              B18        C\n",
            "536          537         0       1                                                   Butt, Major. Archibald Willingham    male  45.00      0      0             113050   26.5500              B38        S\n",
            "539          540         1       1                                                  Frolicher, Miss. Hedwig Margaritha  female  22.00      0      2              13568   49.5000              B39        C\n",
            "540          541         1       1                                                             Crosby, Miss. Harriet R  female  36.00      0      2          WE/P 5735   71.0000              B22        S\n",
            "544          545         0       1                                                          Douglas, Mr. Walter Donald    male  50.00      1      0           PC 17761  106.4250              C86        C\n",
            "550          551         1       1                                                         Thayer, Mr. John Borland Jr    male  17.00      0      2              17421  110.8833              C70        C\n",
            "556          557         1       1                   Duff Gordon, Lady. (Lucille Christiana Sutherland) (\"Mrs Morgan\")  female  48.00      1      0              11755   39.6000              A16        C\n",
            "558          559         1       1                                              Taussig, Mrs. Emil (Tillie Mandelbaum)  female  39.00      1      1             110413   79.6500              E67        S\n",
            "571          572         1       1                                       Appleton, Mrs. Edward Dale (Charlotte Lamson)  female  53.00      2      0              11769   51.4792             C101        S\n",
            "572          573         1       1                                                    Flynn, Mr. John Irwin (\"Irving\")    male  36.00      0      0           PC 17474   26.3875              E25        S\n",
            "577          578         1       1                                           Silvey, Mrs. William Baird (Alice Munger)  female  39.00      1      0              13507   55.9000              E44        S\n",
            "581          582         1       1                                Thayer, Mrs. John Borland (Marian Longstreth Morris)  female  39.00      1      1              17421  110.8833              C68        C\n",
            "583          584         0       1                                                                 Ross, Mr. John Hugo    male  36.00      0      0              13049   40.1250              A10        C\n",
            "585          586         1       1                                                                 Taussig, Miss. Ruth  female  18.00      0      2             110413   79.6500              E68        S\n",
            "587          588         1       1                                                    Frolicher-Stehli, Mr. Maxmillian    male  60.00      1      1              13567   79.2000              B41        C\n",
            "591          592         1       1                                     Stephenson, Mrs. Walter Bertram (Martha Eustis)  female  52.00      1      0              36947   78.2667              D20        C\n",
            "599          600         1       1                                        Duff Gordon, Sir. Cosmo Edmund (\"Mr Morgan\")    male  49.00      1      0           PC 17485   56.9292              A20        C\n",
            "609          610         1       1                                                           Shutes, Miss. Elizabeth W  female  40.00      0      0           PC 17582  153.4625             C125        S\n",
            "618          619         1       2                                                         Becker, Miss. Marion Louise  female   4.00      2      1             230136   39.0000               F4        S\n",
            "621          622         1       1                                                        Kimball, Mr. Edwin Nelson Jr    male  42.00      1      0              11753   52.5542              D19        S\n",
            "625          626         0       1                                                               Sutton, Mr. Frederick    male  61.00      0      0              36963   32.3208              D50        S\n",
            "627          628         1       1                                                       Longley, Miss. Gretchen Fiske  female  21.00      0      0              13502   77.9583               D9        S\n",
            "630          631         1       1                                                Barkworth, Mr. Algernon Henry Wilson    male  80.00      0      0              27042   30.0000              A23        S\n",
            "632          633         1       1                                                           Stahelin-Maeglin, Dr. Max    male  32.00      0      0              13214   30.5000              B50        C\n",
            "641          642         1       1                                                                Sagesser, Mlle. Emma  female  24.00      0      0           PC 17477   69.3000              B35        C\n",
            "645          646         1       1                                                           Harper, Mr. Henry Sleeper    male  48.00      1      0           PC 17572   76.7292              D33        C\n",
            "647          648         1       1                                                 Simonius-Blumer, Col. Oberst Alfons    male  56.00      0      0              13213   35.5000              A26        C\n",
            "659          660         0       1                                                          Newell, Mr. Arthur Webster    male  58.00      0      2              35273  113.2750              D48        C\n",
            "662          663         0       1                                                          Colley, Mr. Edward Pomeroy    male  47.00      0      0               5727   25.5875              E58        S\n",
            "671          672         0       1                                                              Davidson, Mr. Thornton    male  31.00      1      0         F.C. 12750   52.0000              B71        S\n",
            "679          680         1       1                                                  Cardeza, Mr. Thomas Drake Martinez    male  36.00      0      1           PC 17755  512.3292      B51 B53 B55        C\n",
            "681          682         1       1                                                                  Hassab, Mr. Hammad    male  27.00      0      0           PC 17572   76.7292              D49        C\n",
            "689          690         1       1                                                   Madill, Miss. Georgette Alexandra  female  15.00      0      1              24160  211.3375               B5        S\n",
            "690          691         1       1                                                             Dick, Mr. Albert Adrian    male  31.00      1      0              17474   57.0000              B20        S\n",
            "698          699         0       1                                                            Thayer, Mr. John Borland    male  49.00      1      1              17421  110.8833              C68        C\n",
            "699          700         0       3                                            Humblen, Mr. Adolf Mathias Nicolai Olsen    male  42.00      0      0             348121    7.6500            F G63        S\n",
            "700          701         1       1                                   Astor, Mrs. John Jacob (Madeleine Talmadge Force)  female  18.00      1      0           PC 17757  227.5250          C62 C64        C\n",
            "701          702         1       1                                                    Silverthorne, Mr. Spencer Victor    male  35.00      0      0           PC 17475   26.2875              E24        S\n",
            "707          708         1       1                                                   Calderhead, Mr. Edward Pennington    male  42.00      0      0           PC 17476   26.2875              E24        S\n",
            "710          711         1       1                                    Mayne, Mlle. Berthe Antonine (\"Mrs de Villiers\")  female  24.00      0      0           PC 17482   49.5042              C90        C\n",
            "712          713         1       1                                                            Taylor, Mr. Elmer Zebley    male  48.00      1      0              19996   52.0000             C126        S\n",
            "715          716         0       3                                          Soholt, Mr. Peter Andreas Lauritz Andersen    male  19.00      0      0             348124    7.6500            F G73        S\n",
            "716          717         1       1                                                       Endres, Miss. Caroline Louise  female  38.00      0      0           PC 17757  227.5250              C45        C\n",
            "717          718         1       2                                                 Troutt, Miss. Edwina Celia \"Winnie\"  female  27.00      0      0              34218   10.5000             E101        S\n",
            "724          725         1       1                                                       Chambers, Mr. Norman Campbell    male  27.00      1      0             113806   53.1000               E8        S\n",
            "730          731         1       1                                                       Allen, Miss. Elisabeth Walton  female  29.00      0      0              24160  211.3375               B5        S\n",
            "737          738         1       1                                                              Lesurer, Mr. Gustave J    male  35.00      0      0           PC 17755  512.3292             B101        C\n",
            "741          742         0       1                                                       Cavendish, Mr. Tyrell William    male  36.00      1      0              19877   78.8500              C46        S\n",
            "742          743         1       1                                               Ryerson, Miss. Susan Parker \"Suzette\"  female  21.00      2      2           PC 17608  262.3750  B57 B59 B63 B66        C\n",
            "745          746         0       1                                                        Crosby, Capt. Edward Gifford    male  70.00      1      1          WE/P 5735   71.0000              B22        S\n",
            "748          749         0       1                                                           Marvin, Mr. Daniel Warner    male  19.00      1      0             113773   53.1000              D30        S\n",
            "751          752         1       3                                                                 Moor, Master. Meier    male   6.00      0      1             392096   12.4750             E121        S\n",
            "759          760         1       1                            Rothes, the Countess. of (Lucy Noel Martha Dyer-Edwards)  female  33.00      0      0             110152   86.5000              B77        S\n",
            "763          764         1       1                                           Carter, Mrs. William Ernest (Lucile Polk)  female  36.00      1      2             113760  120.0000          B96 B98        S\n",
            "765          766         1       1                                                Hogeboom, Mrs. John C (Anna Andrews)  female  51.00      1      0              13502   77.9583              D11        S\n",
            "772          773         0       2                                                                   Mack, Mrs. (Mary)  female  57.00      0      0        S.O./P.P. 3   10.5000              E77        S\n",
            "779          780         1       1                               Robert, Mrs. Edward Scott (Elisabeth Walton McMillan)  female  43.00      0      1              24160  211.3375               B3        S\n",
            "781          782         1       1                                           Dick, Mrs. Albert Adrian (Vera Gillespie)  female  17.00      1      0              17474   57.0000              B20        S\n",
            "782          783         0       1                                                              Long, Mr. Milton Clyde    male  29.00      0      0             113501   30.0000               D6        S\n",
            "789          790         0       1                                                            Guggenheim, Mr. Benjamin    male  46.00      0      0           PC 17593   79.2000          B82 B84        C\n",
            "796          797         1       1                                                         Leader, Dr. Alice (Farnham)  female  49.00      0      0              17465   25.9292              D17        S\n",
            "802          803         1       1                                                 Carter, Master. William Thornton II    male  11.00      1      2             113760  120.0000          B96 B98        S\n",
            "806          807         0       1                                                              Andrews, Mr. Thomas Jr    male  39.00      0      0             112050    0.0000              A36        S\n",
            "809          810         1       1                                      Chambers, Mrs. Norman Campbell (Bertha Griggs)  female  33.00      1      0             113806   53.1000               E8        S\n",
            "820          821         1       1                                  Hays, Mrs. Charles Melville (Clara Jennings Gregg)  female  52.00      1      1              12749   93.5000              B69        S\n",
            "823          824         1       3                                                                  Moor, Mrs. (Beila)  female  27.00      0      1             392096   12.4750             E121        S\n",
            "835          836         1       1                                                         Compton, Miss. Sara Rebecca  female  39.00      1      1           PC 17756   83.1583              E49        C\n",
            "853          854         1       1                                                           Lines, Miss. Mary Conover  female  16.00      0      1           PC 17592   39.4000              D28        S\n",
            "857          858         1       1                                                               Daly, Mr. Peter Denis    male  51.00      0      0             113055   26.5500              E17        S\n",
            "862          863         1       1                                 Swift, Mrs. Frederick Joel (Margaret Welles Barron)  female  48.00      0      0              17466   25.9292              D17        S\n",
            "867          868         0       1                                                Roebling, Mr. Washington Augustus II    male  31.00      0      0           PC 17590   50.4958              A24        S\n",
            "871          872         1       1                                    Beckwith, Mrs. Richard Leonard (Sallie Monypeny)  female  47.00      1      1              11751   52.5542              D35        S\n",
            "872          873         0       1                                                            Carlsson, Mr. Frans Olof    male  33.00      0      0                695    5.0000      B51 B53 B55        S\n",
            "879          880         1       1                                       Potter, Mrs. Thomas Jr (Lily Alexenia Wilson)  female  56.00      0      1              11767   83.1583              C50        C\n",
            "887          888         1       1                                                        Graham, Miss. Margaret Edith  female  19.00      0      0             112053   30.0000              B42        S\n",
            "889          890         1       1                                                               Behr, Mr. Karl Howell    male  26.00      0      0             111369   30.0000             C148        C\n"
          ],
          "name": "stdout"
        }
      ]
    },
    {
      "cell_type": "code",
      "metadata": {
        "colab": {
          "base_uri": "https://localhost:8080/"
        },
        "id": "Cp4ijHmuMqFp",
        "outputId": "4c47108f-6a7c-4b20-b088-576b221340ea"
      },
      "source": [
        "df.dropna(inplace = True)\r\n",
        "\r\n",
        "print(df.to_string())"
      ],
      "execution_count": null,
      "outputs": [
        {
          "output_type": "stream",
          "text": [
            "     PassengerId  Survived  Pclass                                                                                Name     Sex    Age  SibSp  Parch             Ticket      Fare            Cabin Embarked\n",
            "1              2         1       1                                 Cumings, Mrs. John Bradley (Florence Briggs Thayer)  female  38.00      1      0           PC 17599   71.2833              C85        C\n",
            "3              4         1       1                                        Futrelle, Mrs. Jacques Heath (Lily May Peel)  female  35.00      1      0             113803   53.1000             C123        S\n",
            "6              7         0       1                                                             McCarthy, Mr. Timothy J    male  54.00      0      0              17463   51.8625              E46        S\n",
            "10            11         1       3                                                     Sandstrom, Miss. Marguerite Rut  female   4.00      1      1            PP 9549   16.7000               G6        S\n",
            "11            12         1       1                                                            Bonnell, Miss. Elizabeth  female  58.00      0      0             113783   26.5500             C103        S\n",
            "21            22         1       2                                                               Beesley, Mr. Lawrence    male  34.00      0      0             248698   13.0000              D56        S\n",
            "23            24         1       1                                                        Sloper, Mr. William Thompson    male  28.00      0      0             113788   35.5000               A6        S\n",
            "27            28         0       1                                                      Fortune, Mr. Charles Alexander    male  19.00      3      2              19950  263.0000      C23 C25 C27        S\n",
            "52            53         1       1                                            Harper, Mrs. Henry Sleeper (Myna Haxtun)  female  49.00      1      0           PC 17572   76.7292              D33        C\n",
            "54            55         0       1                                                      Ostby, Mr. Engelhart Cornelius    male  65.00      0      1             113509   61.9792              B30        C\n",
            "62            63         0       1                                                         Harris, Mr. Henry Birkhardt    male  45.00      1      0              36973   83.4750              C83        S\n",
            "66            67         1       2                                                        Nye, Mrs. (Elizabeth Ramell)  female  29.00      0      0         C.A. 29395   10.5000              F33        S\n",
            "75            76         0       3                                                             Moen, Mr. Sigurd Hansen    male  25.00      0      0             348123    7.6500            F G73        S\n",
            "88            89         1       1                                                          Fortune, Miss. Mabel Helen  female  23.00      3      2              19950  263.0000      C23 C25 C27        S\n",
            "92            93         0       1                                                         Chaffee, Mr. Herbert Fuller    male  46.00      1      0        W.E.P. 5734   61.1750              E31        S\n",
            "96            97         0       1                                                           Goldschmidt, Mr. George B    male  71.00      0      0           PC 17754   34.6542               A5        C\n",
            "97            98         1       1                                                     Greenfield, Mr. William Bertram    male  23.00      0      1           PC 17759   63.3583          D10 D12        C\n",
            "102          103         0       1                                                           White, Mr. Richard Frasar    male  21.00      0      1              35281   77.2875              D26        S\n",
            "110          111         0       1                                                      Porter, Mr. Walter Chamberlain    male  47.00      0      0             110465   52.0000             C110        S\n",
            "118          119         0       1                                                            Baxter, Mr. Quigg Edmond    male  24.00      0      1           PC 17558  247.5208          B58 B60        C\n",
            "123          124         1       2                                                                 Webber, Miss. Susan  female  32.50      0      0              27267   13.0000             E101        S\n",
            "124          125         0       1                                                         White, Mr. Percival Wayland    male  54.00      0      1              35281   77.2875              D26        S\n",
            "136          137         1       1                                                        Newsom, Miss. Helen Monypeny  female  19.00      0      2              11752   26.2833              D47        S\n",
            "137          138         0       1                                                         Futrelle, Mr. Jacques Heath    male  37.00      1      0             113803   53.1000             C123        S\n",
            "139          140         0       1                                                                  Giglio, Mr. Victor    male  24.00      0      0           PC 17593   79.2000              B86        C\n",
            "148          149         0       2                                            Navratil, Mr. Michel (\"Louis M Hoffman\")    male  36.50      0      2             230080   26.0000               F2        S\n",
            "151          152         1       1                                                   Pears, Mrs. Thomas (Edith Wearne)  female  22.00      1      0             113776   66.6000               C2        S\n",
            "170          171         0       1                                                           Van der hoef, Mr. Wyckoff    male  61.00      0      0             111240   33.5000              B19        S\n",
            "174          175         0       1                                                             Smith, Mr. James Clinch    male  56.00      0      0              17764   30.6958               A7        C\n",
            "177          178         0       1                                                          Isham, Miss. Ann Elizabeth  female  50.00      0      0           PC 17595   28.7125              C49        C\n",
            "183          184         1       2                                                           Becker, Master. Richard F    male   1.00      2      1             230136   39.0000               F4        S\n",
            "193          194         1       2                                                          Navratil, Master. Michel M    male   3.00      1      1             230080   26.0000               F2        S\n",
            "194          195         1       1                                           Brown, Mrs. James Joseph (Margaret Tobin)  female  44.00      0      0           PC 17610   27.7208               B4        C\n",
            "195          196         1       1                                                                Lurette, Miss. Elise  female  58.00      0      0           PC 17569  146.5208              B80        C\n",
            "205          206         0       3                                                          Strom, Miss. Telma Matilda  female   2.00      0      1             347054   10.4625               G6        S\n",
            "209          210         1       1                                                                    Blank, Mr. Henry    male  40.00      0      0             112277   31.0000              A31        C\n",
            "215          216         1       1                                                             Newell, Miss. Madeleine  female  31.00      1      0              35273  113.2750              D36        C\n",
            "218          219         1       1                                                               Bazzani, Miss. Albina  female  32.00      0      0              11813   76.2917              D15        C\n",
            "224          225         1       1                                                        Hoyt, Mr. Frederick Maxfield    male  38.00      1      0              19943   90.0000              C93        S\n",
            "230          231         1       1                                        Harris, Mrs. Henry Birkhardt (Irene Wallach)  female  35.00      1      0              36973   83.4750              C83        S\n",
            "245          246         0       1                                                         Minahan, Dr. William Edward    male  44.00      2      0              19928   90.0000              C78        Q\n",
            "248          249         1       1                                                       Beckwith, Mr. Richard Leonard    male  37.00      1      1              11751   52.5542              D35        S\n",
            "251          252         0       3                                          Strom, Mrs. Wilhelm (Elna Matilda Persson)  female  29.00      1      1             347054   10.4625               G6        S\n",
            "252          253         0       1                                                           Stead, Mr. William Thomas    male  62.00      0      0             113514   26.5500              C87        S\n",
            "257          258         1       1                                                                Cherry, Miss. Gladys  female  30.00      0      0             110152   86.5000              B77        S\n",
            "262          263         0       1                                                                   Taussig, Mr. Emil    male  52.00      1      1             110413   79.6500              E67        S\n",
            "263          264         0       1                                                               Harrison, Mr. William    male  40.00      0      0             112059    0.0000              B94        S\n",
            "268          269         1       1                                       Graham, Mrs. William Thompson (Edith Junkins)  female  58.00      0      1           PC 17582  153.4625             C125        S\n",
            "269          270         1       1                                                              Bissette, Miss. Amelia  female  35.00      0      0           PC 17760  135.6333              C99        S\n",
            "273          274         0       1                                                               Natsch, Mr. Charles H    male  37.00      0      1           PC 17596   29.7000             C118        C\n",
            "275          276         1       1                                                   Andrews, Miss. Kornelia Theodosia  female  63.00      1      0              13502   77.9583               D7        S\n",
            "291          292         1       1                                             Bishop, Mrs. Dickinson H (Helen Walton)  female  19.00      1      0              11967   91.0792              B49        C\n",
            "292          293         0       2                                                              Levy, Mr. Rene Jacques    male  36.00      0      0      SC/Paris 2163   12.8750                D        C\n",
            "297          298         0       1                                                        Allison, Miss. Helen Loraine  female   2.00      1      2             113781  151.5500          C22 C26        S\n",
            "299          300         1       1                                     Baxter, Mrs. James (Helene DeLaudeniere Chaput)  female  50.00      0      1           PC 17558  247.5208          B58 B60        C\n",
            "305          306         1       1                                                      Allison, Master. Hudson Trevor    male   0.92      1      2             113781  151.5500          C22 C26        S\n",
            "307          308         1       1  Penasco y Castellana, Mrs. Victor de Satode (Maria Josefa Perez de Soto y Vallejo)  female  17.00      1      0           PC 17758  108.9000              C65        C\n",
            "309          310         1       1                                                      Francatelli, Miss. Laura Mabel  female  30.00      0      0           PC 17485   56.9292              E36        C\n",
            "310          311         1       1                                                      Hays, Miss. Margaret Bechstein  female  24.00      0      0              11767   83.1583              C54        C\n",
            "311          312         1       1                                                          Ryerson, Miss. Emily Borie  female  18.00      2      2           PC 17608  262.3750  B57 B59 B63 B66        C\n",
            "318          319         1       1                                                            Wick, Miss. Mary Natalie  female  31.00      0      2              36928  164.8667               C7        S\n",
            "319          320         1       1                            Spedden, Mrs. Frederic Oakley (Margaretta Corning Stone)  female  40.00      1      1              16966  134.5000              E34        C\n",
            "325          326         1       1                                                            Young, Miss. Marie Grice  female  36.00      0      0           PC 17760  135.6333              C32        C\n",
            "327          328         1       2                                                             Ball, Mrs. (Ada E Hall)  female  36.00      0      0              28551   13.0000                D        S\n",
            "329          330         1       1                                                        Hippach, Miss. Jean Gertrude  female  16.00      0      1             111361   57.9792              B18        C\n",
            "331          332         0       1                                                                 Partner, Mr. Austen    male  45.50      0      0             113043   28.5000             C124        S\n",
            "332          333         0       1                                                           Graham, Mr. George Edward    male  38.00      0      1           PC 17582  153.4625              C91        S\n",
            "336          337         0       1                                                           Pears, Mr. Thomas Clinton    male  29.00      1      0             113776   66.6000               C2        S\n",
            "337          338         1       1                                                     Burns, Miss. Elizabeth Margaret  female  41.00      0      0              16966  134.5000              E40        C\n",
            "339          340         0       1                                                        Blackwell, Mr. Stephen Weart    male  45.00      0      0             113784   35.5000                T        S\n",
            "340          341         1       2                                                      Navratil, Master. Edmond Roger    male   2.00      1      1             230080   26.0000               F2        S\n",
            "341          342         1       1                                                      Fortune, Miss. Alice Elizabeth  female  24.00      3      2              19950  263.0000      C23 C25 C27        S\n",
            "345          346         1       2                                                       Brown, Miss. Amelia \"Mildred\"  female  24.00      0      0             248733   13.0000              F33        S\n",
            "356          357         1       1                                                         Bowerman, Miss. Elsie Edith  female  22.00      0      1             113505   55.0000              E33        S\n",
            "366          367         1       1                                    Warren, Mrs. Frank Manley (Anna Sophia Atkinson)  female  60.00      1      0             110813   75.2500              D37        C\n",
            "369          370         1       1                                                       Aubart, Mme. Leontine Pauline  female  24.00      0      0           PC 17477   69.3000              B35        C\n",
            "370          371         1       1                                                         Harder, Mr. George Achilles    male  25.00      1      0              11765   55.4417              E50        C\n",
            "377          378         0       1                                                           Widener, Mr. Harry Elkins    male  27.00      0      2             113503  211.5000              C82        C\n",
            "390          391         1       1                                                          Carter, Mr. William Ernest    male  36.00      1      2             113760  120.0000          B96 B98        S\n",
            "393          394         1       1                                                              Newell, Miss. Marjorie  female  23.00      1      0              35273  113.2750              D36        C\n",
            "394          395         1       3                                 Sandstrom, Mrs. Hjalmar (Agnes Charlotta Bengtsson)  female  24.00      0      2            PP 9549   16.7000               G6        S\n",
            "412          413         1       1                                                              Minahan, Miss. Daisy E  female  33.00      1      0              19928   90.0000              C78        Q\n",
            "429          430         1       3                                                  Pickard, Mr. Berk (Berk Trembisky)    male  32.00      0      0  SOTON/O.Q. 392078    8.0500              E10        S\n",
            "430          431         1       1                                           Bjornstrom-Steffansson, Mr. Mauritz Hakan    male  28.00      0      0             110564   26.5500              C52        S\n",
            "434          435         0       1                                                           Silvey, Mr. William Baird    male  50.00      1      0              13507   55.9000              E44        S\n",
            "435          436         1       1                                                           Carter, Miss. Lucile Polk  female  14.00      1      2             113760  120.0000          B96 B98        S\n",
            "438          439         0       1                                                                   Fortune, Mr. Mark    male  64.00      1      4              19950  263.0000      C23 C25 C27        S\n",
            "445          446         1       1                                                           Dodge, Master. Washington    male   4.00      0      2              33638   81.8583              A34        S\n",
            "449          450         1       1                                                      Peuchen, Major. Arthur Godfrey    male  52.00      0      0             113786   30.5000             C104        S\n",
            "452          453         0       1                                                     Foreman, Mr. Benjamin Laventall    male  30.00      0      0             113051   27.7500             C111        C\n",
            "453          454         1       1                                                            Goldenberg, Mr. Samuel L    male  49.00      1      0              17453   89.1042              C92        C\n",
            "456          457         0       1                                                           Millet, Mr. Francis Davis    male  65.00      0      0              13509   26.5500              E38        S\n",
            "460          461         1       1                                                                 Anderson, Mr. Harry    male  48.00      0      0              19952   26.5500              E12        S\n",
            "462          463         0       1                                                                   Gee, Mr. Arthur H    male  47.00      0      0             111320   38.5000              E63        S\n",
            "473          474         1       2                                        Jerwan, Mrs. Amin S (Marie Marthe Thuillard)  female  23.00      0      0    SC/AH Basle 541   13.7917                D        C\n",
            "484          485         1       1                                                             Bishop, Mr. Dickinson H    male  25.00      1      0              11967   91.0792              B49        C\n",
            "486          487         1       1                                     Hoyt, Mrs. Frederick Maxfield (Jane Anne Forby)  female  35.00      1      0              19943   90.0000              C93        S\n",
            "487          488         0       1                                                             Kent, Mr. Edward Austin    male  58.00      0      0              11771   29.7000              B37        C\n",
            "492          493         0       1                                                          Molson, Mr. Harry Markland    male  55.00      0      0             113787   30.5000              C30        S\n",
            "496          497         1       1                                                      Eustis, Miss. Elizabeth Mussey  female  54.00      1      0              36947   78.2667              D20        C\n",
            "498          499         0       1                                     Allison, Mrs. Hudson J C (Bessie Waldo Daniels)  female  25.00      1      2             113781  151.5500          C22 C26        S\n",
            "504          505         1       1                                                               Maioni, Miss. Roberta  female  16.00      0      0             110152   86.5000              B79        S\n",
            "505          506         0       1                                          Penasco y Castellana, Mr. Victor de Satode    male  18.00      1      0           PC 17758  108.9000              C65        C\n",
            "512          513         1       1                                                           McGough, Mr. James Robert    male  36.00      0      0           PC 17473   26.2875              E25        S\n",
            "515          516         0       1                                                        Walker, Mr. William Anderson    male  47.00      0      0              36967   34.0208              D46        S\n",
            "516          517         1       2                                                        Lemore, Mrs. (Amelia Milley)  female  34.00      0      0         C.A. 34260   10.5000              F33        S\n",
            "520          521         1       1                                                               Perreault, Miss. Anne  female  30.00      0      0              12749   93.5000              B73        S\n",
            "523          524         1       1                                     Hippach, Mrs. Louis Albert (Ida Sophia Fischer)  female  44.00      0      1             111361   57.9792              B18        C\n",
            "536          537         0       1                                                   Butt, Major. Archibald Willingham    male  45.00      0      0             113050   26.5500              B38        S\n",
            "539          540         1       1                                                  Frolicher, Miss. Hedwig Margaritha  female  22.00      0      2              13568   49.5000              B39        C\n",
            "540          541         1       1                                                             Crosby, Miss. Harriet R  female  36.00      0      2          WE/P 5735   71.0000              B22        S\n",
            "544          545         0       1                                                          Douglas, Mr. Walter Donald    male  50.00      1      0           PC 17761  106.4250              C86        C\n",
            "550          551         1       1                                                         Thayer, Mr. John Borland Jr    male  17.00      0      2              17421  110.8833              C70        C\n",
            "556          557         1       1                   Duff Gordon, Lady. (Lucille Christiana Sutherland) (\"Mrs Morgan\")  female  48.00      1      0              11755   39.6000              A16        C\n",
            "558          559         1       1                                              Taussig, Mrs. Emil (Tillie Mandelbaum)  female  39.00      1      1             110413   79.6500              E67        S\n",
            "571          572         1       1                                       Appleton, Mrs. Edward Dale (Charlotte Lamson)  female  53.00      2      0              11769   51.4792             C101        S\n",
            "572          573         1       1                                                    Flynn, Mr. John Irwin (\"Irving\")    male  36.00      0      0           PC 17474   26.3875              E25        S\n",
            "577          578         1       1                                           Silvey, Mrs. William Baird (Alice Munger)  female  39.00      1      0              13507   55.9000              E44        S\n",
            "581          582         1       1                                Thayer, Mrs. John Borland (Marian Longstreth Morris)  female  39.00      1      1              17421  110.8833              C68        C\n",
            "583          584         0       1                                                                 Ross, Mr. John Hugo    male  36.00      0      0              13049   40.1250              A10        C\n",
            "585          586         1       1                                                                 Taussig, Miss. Ruth  female  18.00      0      2             110413   79.6500              E68        S\n",
            "587          588         1       1                                                    Frolicher-Stehli, Mr. Maxmillian    male  60.00      1      1              13567   79.2000              B41        C\n",
            "591          592         1       1                                     Stephenson, Mrs. Walter Bertram (Martha Eustis)  female  52.00      1      0              36947   78.2667              D20        C\n",
            "599          600         1       1                                        Duff Gordon, Sir. Cosmo Edmund (\"Mr Morgan\")    male  49.00      1      0           PC 17485   56.9292              A20        C\n",
            "609          610         1       1                                                           Shutes, Miss. Elizabeth W  female  40.00      0      0           PC 17582  153.4625             C125        S\n",
            "618          619         1       2                                                         Becker, Miss. Marion Louise  female   4.00      2      1             230136   39.0000               F4        S\n",
            "621          622         1       1                                                        Kimball, Mr. Edwin Nelson Jr    male  42.00      1      0              11753   52.5542              D19        S\n",
            "625          626         0       1                                                               Sutton, Mr. Frederick    male  61.00      0      0              36963   32.3208              D50        S\n",
            "627          628         1       1                                                       Longley, Miss. Gretchen Fiske  female  21.00      0      0              13502   77.9583               D9        S\n",
            "630          631         1       1                                                Barkworth, Mr. Algernon Henry Wilson    male  80.00      0      0              27042   30.0000              A23        S\n",
            "632          633         1       1                                                           Stahelin-Maeglin, Dr. Max    male  32.00      0      0              13214   30.5000              B50        C\n",
            "641          642         1       1                                                                Sagesser, Mlle. Emma  female  24.00      0      0           PC 17477   69.3000              B35        C\n",
            "645          646         1       1                                                           Harper, Mr. Henry Sleeper    male  48.00      1      0           PC 17572   76.7292              D33        C\n",
            "647          648         1       1                                                 Simonius-Blumer, Col. Oberst Alfons    male  56.00      0      0              13213   35.5000              A26        C\n",
            "659          660         0       1                                                          Newell, Mr. Arthur Webster    male  58.00      0      2              35273  113.2750              D48        C\n",
            "662          663         0       1                                                          Colley, Mr. Edward Pomeroy    male  47.00      0      0               5727   25.5875              E58        S\n",
            "671          672         0       1                                                              Davidson, Mr. Thornton    male  31.00      1      0         F.C. 12750   52.0000              B71        S\n",
            "679          680         1       1                                                  Cardeza, Mr. Thomas Drake Martinez    male  36.00      0      1           PC 17755  512.3292      B51 B53 B55        C\n",
            "681          682         1       1                                                                  Hassab, Mr. Hammad    male  27.00      0      0           PC 17572   76.7292              D49        C\n",
            "689          690         1       1                                                   Madill, Miss. Georgette Alexandra  female  15.00      0      1              24160  211.3375               B5        S\n",
            "690          691         1       1                                                             Dick, Mr. Albert Adrian    male  31.00      1      0              17474   57.0000              B20        S\n",
            "698          699         0       1                                                            Thayer, Mr. John Borland    male  49.00      1      1              17421  110.8833              C68        C\n",
            "699          700         0       3                                            Humblen, Mr. Adolf Mathias Nicolai Olsen    male  42.00      0      0             348121    7.6500            F G63        S\n",
            "700          701         1       1                                   Astor, Mrs. John Jacob (Madeleine Talmadge Force)  female  18.00      1      0           PC 17757  227.5250          C62 C64        C\n",
            "701          702         1       1                                                    Silverthorne, Mr. Spencer Victor    male  35.00      0      0           PC 17475   26.2875              E24        S\n",
            "707          708         1       1                                                   Calderhead, Mr. Edward Pennington    male  42.00      0      0           PC 17476   26.2875              E24        S\n",
            "710          711         1       1                                    Mayne, Mlle. Berthe Antonine (\"Mrs de Villiers\")  female  24.00      0      0           PC 17482   49.5042              C90        C\n",
            "712          713         1       1                                                            Taylor, Mr. Elmer Zebley    male  48.00      1      0              19996   52.0000             C126        S\n",
            "715          716         0       3                                          Soholt, Mr. Peter Andreas Lauritz Andersen    male  19.00      0      0             348124    7.6500            F G73        S\n",
            "716          717         1       1                                                       Endres, Miss. Caroline Louise  female  38.00      0      0           PC 17757  227.5250              C45        C\n",
            "717          718         1       2                                                 Troutt, Miss. Edwina Celia \"Winnie\"  female  27.00      0      0              34218   10.5000             E101        S\n",
            "724          725         1       1                                                       Chambers, Mr. Norman Campbell    male  27.00      1      0             113806   53.1000               E8        S\n",
            "730          731         1       1                                                       Allen, Miss. Elisabeth Walton  female  29.00      0      0              24160  211.3375               B5        S\n",
            "737          738         1       1                                                              Lesurer, Mr. Gustave J    male  35.00      0      0           PC 17755  512.3292             B101        C\n",
            "741          742         0       1                                                       Cavendish, Mr. Tyrell William    male  36.00      1      0              19877   78.8500              C46        S\n",
            "742          743         1       1                                               Ryerson, Miss. Susan Parker \"Suzette\"  female  21.00      2      2           PC 17608  262.3750  B57 B59 B63 B66        C\n",
            "745          746         0       1                                                        Crosby, Capt. Edward Gifford    male  70.00      1      1          WE/P 5735   71.0000              B22        S\n",
            "748          749         0       1                                                           Marvin, Mr. Daniel Warner    male  19.00      1      0             113773   53.1000              D30        S\n",
            "751          752         1       3                                                                 Moor, Master. Meier    male   6.00      0      1             392096   12.4750             E121        S\n",
            "759          760         1       1                            Rothes, the Countess. of (Lucy Noel Martha Dyer-Edwards)  female  33.00      0      0             110152   86.5000              B77        S\n",
            "763          764         1       1                                           Carter, Mrs. William Ernest (Lucile Polk)  female  36.00      1      2             113760  120.0000          B96 B98        S\n",
            "765          766         1       1                                                Hogeboom, Mrs. John C (Anna Andrews)  female  51.00      1      0              13502   77.9583              D11        S\n",
            "772          773         0       2                                                                   Mack, Mrs. (Mary)  female  57.00      0      0        S.O./P.P. 3   10.5000              E77        S\n",
            "779          780         1       1                               Robert, Mrs. Edward Scott (Elisabeth Walton McMillan)  female  43.00      0      1              24160  211.3375               B3        S\n",
            "781          782         1       1                                           Dick, Mrs. Albert Adrian (Vera Gillespie)  female  17.00      1      0              17474   57.0000              B20        S\n",
            "782          783         0       1                                                              Long, Mr. Milton Clyde    male  29.00      0      0             113501   30.0000               D6        S\n",
            "789          790         0       1                                                            Guggenheim, Mr. Benjamin    male  46.00      0      0           PC 17593   79.2000          B82 B84        C\n",
            "796          797         1       1                                                         Leader, Dr. Alice (Farnham)  female  49.00      0      0              17465   25.9292              D17        S\n",
            "802          803         1       1                                                 Carter, Master. William Thornton II    male  11.00      1      2             113760  120.0000          B96 B98        S\n",
            "806          807         0       1                                                              Andrews, Mr. Thomas Jr    male  39.00      0      0             112050    0.0000              A36        S\n",
            "809          810         1       1                                      Chambers, Mrs. Norman Campbell (Bertha Griggs)  female  33.00      1      0             113806   53.1000               E8        S\n",
            "820          821         1       1                                  Hays, Mrs. Charles Melville (Clara Jennings Gregg)  female  52.00      1      1              12749   93.5000              B69        S\n",
            "823          824         1       3                                                                  Moor, Mrs. (Beila)  female  27.00      0      1             392096   12.4750             E121        S\n",
            "835          836         1       1                                                         Compton, Miss. Sara Rebecca  female  39.00      1      1           PC 17756   83.1583              E49        C\n",
            "853          854         1       1                                                           Lines, Miss. Mary Conover  female  16.00      0      1           PC 17592   39.4000              D28        S\n",
            "857          858         1       1                                                               Daly, Mr. Peter Denis    male  51.00      0      0             113055   26.5500              E17        S\n",
            "862          863         1       1                                 Swift, Mrs. Frederick Joel (Margaret Welles Barron)  female  48.00      0      0              17466   25.9292              D17        S\n",
            "867          868         0       1                                                Roebling, Mr. Washington Augustus II    male  31.00      0      0           PC 17590   50.4958              A24        S\n",
            "871          872         1       1                                    Beckwith, Mrs. Richard Leonard (Sallie Monypeny)  female  47.00      1      1              11751   52.5542              D35        S\n",
            "872          873         0       1                                                            Carlsson, Mr. Frans Olof    male  33.00      0      0                695    5.0000      B51 B53 B55        S\n",
            "879          880         1       1                                       Potter, Mrs. Thomas Jr (Lily Alexenia Wilson)  female  56.00      0      1              11767   83.1583              C50        C\n",
            "887          888         1       1                                                        Graham, Miss. Margaret Edith  female  19.00      0      0             112053   30.0000              B42        S\n",
            "889          890         1       1                                                               Behr, Mr. Karl Howell    male  26.00      0      0             111369   30.0000             C148        C\n"
          ],
          "name": "stdout"
        }
      ]
    },
    {
      "cell_type": "code",
      "metadata": {
        "id": "u7nGr3x9NFnI"
      },
      "source": [
        "df=pd.read_csv(Location+ \"/Titanic.csv\")"
      ],
      "execution_count": null,
      "outputs": []
    },
    {
      "cell_type": "code",
      "metadata": {
        "colab": {
          "base_uri": "https://localhost:8080/"
        },
        "id": "3aBCOKAMNk72",
        "outputId": "d91ebdb7-959c-4929-8aac-5e201cbe6de5"
      },
      "source": [
        "df.isnull().sum()"
      ],
      "execution_count": null,
      "outputs": [
        {
          "output_type": "execute_result",
          "data": {
            "text/plain": [
              "PassengerId      0\n",
              "Survived         0\n",
              "Pclass           0\n",
              "Name             0\n",
              "Sex              0\n",
              "Age            177\n",
              "SibSp            0\n",
              "Parch            0\n",
              "Ticket           0\n",
              "Fare             0\n",
              "Cabin          687\n",
              "Embarked         3\n",
              "dtype: int64"
            ]
          },
          "metadata": {
            "tags": []
          },
          "execution_count": 56
        }
      ]
    },
    {
      "cell_type": "code",
      "metadata": {
        "id": "iE25jvWjNnC-"
      },
      "source": [
        "df['Age'].fillna(25, inplace=True)"
      ],
      "execution_count": null,
      "outputs": []
    },
    {
      "cell_type": "code",
      "metadata": {
        "id": "mI10XNQDOLPu"
      },
      "source": [
        "#replacing the null data using mean, medianand mode\r\n",
        "x=df['Age'].mean()\r\n",
        "df[\"Age\"].fillna(x, inplace=True)"
      ],
      "execution_count": null,
      "outputs": []
    },
    {
      "cell_type": "code",
      "metadata": {
        "id": "dq4Cik6mOmOk"
      },
      "source": [
        "#calculating median and replacing the empty value with it\r\n",
        "x=df['Age'].median()\r\n",
        "df['Age'].fillna(x, inplace=True)"
      ],
      "execution_count": null,
      "outputs": []
    },
    {
      "cell_type": "code",
      "metadata": {
        "id": "8lLb3yj3O_2u"
      },
      "source": [
        "x = df[\"Age\"].mode()[0]\r\n",
        "df['Age'].fillna(x, inplace = True)"
      ],
      "execution_count": null,
      "outputs": []
    },
    {
      "cell_type": "markdown",
      "metadata": {
        "id": "KlN4622fPbRG"
      },
      "source": [
        "##Pandas Corelations\r\n",
        "\r\n",
        "It is used to calculate the relationship between each columns int eh dataset"
      ]
    },
    {
      "cell_type": "code",
      "metadata": {
        "colab": {
          "base_uri": "https://localhost:8080/",
          "height": 266
        },
        "id": "KMMjurPhPNqA",
        "outputId": "d32ba1a4-f6fd-4eac-81fa-de7b64534a73"
      },
      "source": [
        "df.corr()"
      ],
      "execution_count": null,
      "outputs": [
        {
          "output_type": "execute_result",
          "data": {
            "text/html": [
              "<div>\n",
              "<style scoped>\n",
              "    .dataframe tbody tr th:only-of-type {\n",
              "        vertical-align: middle;\n",
              "    }\n",
              "\n",
              "    .dataframe tbody tr th {\n",
              "        vertical-align: top;\n",
              "    }\n",
              "\n",
              "    .dataframe thead th {\n",
              "        text-align: right;\n",
              "    }\n",
              "</style>\n",
              "<table border=\"1\" class=\"dataframe\">\n",
              "  <thead>\n",
              "    <tr style=\"text-align: right;\">\n",
              "      <th></th>\n",
              "      <th>PassengerId</th>\n",
              "      <th>Survived</th>\n",
              "      <th>Pclass</th>\n",
              "      <th>Age</th>\n",
              "      <th>SibSp</th>\n",
              "      <th>Parch</th>\n",
              "      <th>Fare</th>\n",
              "    </tr>\n",
              "  </thead>\n",
              "  <tbody>\n",
              "    <tr>\n",
              "      <th>PassengerId</th>\n",
              "      <td>1.000000</td>\n",
              "      <td>-0.005007</td>\n",
              "      <td>-0.035144</td>\n",
              "      <td>0.035746</td>\n",
              "      <td>-0.057527</td>\n",
              "      <td>-0.001652</td>\n",
              "      <td>0.012658</td>\n",
              "    </tr>\n",
              "    <tr>\n",
              "      <th>Survived</th>\n",
              "      <td>-0.005007</td>\n",
              "      <td>1.000000</td>\n",
              "      <td>-0.338481</td>\n",
              "      <td>-0.055927</td>\n",
              "      <td>-0.035322</td>\n",
              "      <td>0.081629</td>\n",
              "      <td>0.257307</td>\n",
              "    </tr>\n",
              "    <tr>\n",
              "      <th>Pclass</th>\n",
              "      <td>-0.035144</td>\n",
              "      <td>-0.338481</td>\n",
              "      <td>1.000000</td>\n",
              "      <td>-0.352638</td>\n",
              "      <td>0.083081</td>\n",
              "      <td>0.018443</td>\n",
              "      <td>-0.549500</td>\n",
              "    </tr>\n",
              "    <tr>\n",
              "      <th>Age</th>\n",
              "      <td>0.035746</td>\n",
              "      <td>-0.055927</td>\n",
              "      <td>-0.352638</td>\n",
              "      <td>1.000000</td>\n",
              "      <td>-0.232948</td>\n",
              "      <td>-0.159632</td>\n",
              "      <td>0.105009</td>\n",
              "    </tr>\n",
              "    <tr>\n",
              "      <th>SibSp</th>\n",
              "      <td>-0.057527</td>\n",
              "      <td>-0.035322</td>\n",
              "      <td>0.083081</td>\n",
              "      <td>-0.232948</td>\n",
              "      <td>1.000000</td>\n",
              "      <td>0.414838</td>\n",
              "      <td>0.159651</td>\n",
              "    </tr>\n",
              "    <tr>\n",
              "      <th>Parch</th>\n",
              "      <td>-0.001652</td>\n",
              "      <td>0.081629</td>\n",
              "      <td>0.018443</td>\n",
              "      <td>-0.159632</td>\n",
              "      <td>0.414838</td>\n",
              "      <td>1.000000</td>\n",
              "      <td>0.216225</td>\n",
              "    </tr>\n",
              "    <tr>\n",
              "      <th>Fare</th>\n",
              "      <td>0.012658</td>\n",
              "      <td>0.257307</td>\n",
              "      <td>-0.549500</td>\n",
              "      <td>0.105009</td>\n",
              "      <td>0.159651</td>\n",
              "      <td>0.216225</td>\n",
              "      <td>1.000000</td>\n",
              "    </tr>\n",
              "  </tbody>\n",
              "</table>\n",
              "</div>"
            ],
            "text/plain": [
              "             PassengerId  Survived    Pclass  ...     SibSp     Parch      Fare\n",
              "PassengerId     1.000000 -0.005007 -0.035144  ... -0.057527 -0.001652  0.012658\n",
              "Survived       -0.005007  1.000000 -0.338481  ... -0.035322  0.081629  0.257307\n",
              "Pclass         -0.035144 -0.338481  1.000000  ...  0.083081  0.018443 -0.549500\n",
              "Age             0.035746 -0.055927 -0.352638  ... -0.232948 -0.159632  0.105009\n",
              "SibSp          -0.057527 -0.035322  0.083081  ...  1.000000  0.414838  0.159651\n",
              "Parch          -0.001652  0.081629  0.018443  ...  0.414838  1.000000  0.216225\n",
              "Fare            0.012658  0.257307 -0.549500  ...  0.159651  0.216225  1.000000\n",
              "\n",
              "[7 rows x 7 columns]"
            ]
          },
          "metadata": {
            "tags": []
          },
          "execution_count": 63
        }
      ]
    },
    {
      "cell_type": "markdown",
      "metadata": {
        "id": "uUcLxgY2P1xp"
      },
      "source": [
        "##Pandas Plotting\r\n",
        "\r\n",
        "Pandas uses the plot() method to create diagrams.\r\n",
        "\r\n",
        "Pythons uses Pyplot, a submodule of the Matplotlib library to visualize the diagram on the screen."
      ]
    },
    {
      "cell_type": "code",
      "metadata": {
        "id": "5NFsPhr6PfcX"
      },
      "source": [
        "import pandas as pd\r\n",
        "import matplotlib.pyplot as plt\r\n",
        "df=pd.read_csv(Location+ \"/Titanic.csv\")"
      ],
      "execution_count": null,
      "outputs": []
    },
    {
      "cell_type": "code",
      "metadata": {
        "colab": {
          "base_uri": "https://localhost:8080/",
          "height": 265
        },
        "id": "eQ_Q8o_OQWRk",
        "outputId": "ed42cb88-e33c-4317-f6ce-41198994ccda"
      },
      "source": [
        "df.plot()\r\n",
        "plt.show()"
      ],
      "execution_count": null,
      "outputs": [
        {
          "output_type": "display_data",
          "data": {
            "image/png": "[encoded data removed]",
            "text/plain": [
              "<Figure size 432x288 with 1 Axes>"
            ]
          },
          "metadata": {
            "tags": [],
            "needs_background": "light"
          }
        }
      ]
    },
    {
      "cell_type": "markdown",
      "metadata": {
        "id": "x_t-ufniQmN9"
      },
      "source": [
        "Scatter Plot\r\n",
        "\r\n",
        "Specify that you want a scatter plot with the kind argument:\r\n",
        "\r\n",
        "kind = 'scatter'\r\n",
        "\r\n",
        "A scatter plot needs an x- and a y-axis."
      ]
    },
    {
      "cell_type": "code",
      "metadata": {
        "colab": {
          "base_uri": "https://localhost:8080/",
          "height": 279
        },
        "id": "9o9S9DD7QYNh",
        "outputId": "493418ac-6aeb-4233-e7b5-c188b5aae942"
      },
      "source": [
        "df.plot(kind = 'scatter', x = 'Age', y = 'Survived')\r\n",
        "\r\n",
        "plt.show()"
      ],
      "execution_count": null,
      "outputs": [
        {
          "output_type": "display_data",
          "data": {
            "image/png": "[encoded data removed]",
            "text/plain": [
              "<Figure size 432x288 with 1 Axes>"
            ]
          },
          "metadata": {
            "tags": [],
            "needs_background": "light"
          }
        }
      ]
    },
    {
      "cell_type": "code",
      "metadata": {
        "colab": {
          "base_uri": "https://localhost:8080/",
          "height": 279
        },
        "id": "0gOFodEWQ65f",
        "outputId": "90b5e312-cbaf-4faa-a01d-bd7e3cb0b63f"
      },
      "source": [
        "df.plot(kind = 'scatter', x = 'Age', y = 'Fare')\r\n",
        "\r\n",
        "plt.show()"
      ],
      "execution_count": null,
      "outputs": [
        {
          "output_type": "display_data",
          "data": {
            "image/png": "[encoded data removed]",
            "text/plain": [
              "<Figure size 432x288 with 1 Axes>"
            ]
          },
          "metadata": {
            "tags": [],
            "needs_background": "light"
          }
        }
      ]
    },
    {
      "cell_type": "markdown",
      "metadata": {
        "id": "ZxLsOSDrROb4"
      },
      "source": [
        "Histogram\r\n",
        "\r\n",
        "Use the kind argument to specify that you want a histogram:\r\n",
        "\r\n",
        "kind = 'hist'\r\n",
        "\r\n",
        "A histogram needs only one column.\r\n",
        "\r\n",
        "A histogram shows us the frequency of each interval, e.g. how many workouts lasted between 50 and 60 minutes?"
      ]
    },
    {
      "cell_type": "code",
      "metadata": {
        "colab": {
          "base_uri": "https://localhost:8080/",
          "height": 282
        },
        "id": "HO-qJcw0RHwl",
        "outputId": "416f0711-2f25-4556-eabf-6e345e1cbea9"
      },
      "source": [
        "df[\"Age\"].plot(kind = 'hist')"
      ],
      "execution_count": null,
      "outputs": [
        {
          "output_type": "execute_result",
          "data": {
            "text/plain": [
              "<matplotlib.axes._subplots.AxesSubplot at 0x7fbe99444490>"
            ]
          },
          "metadata": {
            "tags": []
          },
          "execution_count": 69
        },
        {
          "output_type": "display_data",
          "data": {
            "image/png": "[encoded data removed]",
            "text/plain": [
              "<Figure size 432x288 with 1 Axes>"
            ]
          },
          "metadata": {
            "tags": [],
            "needs_background": "light"
          }
        }
      ]
    },
    {
      "cell_type": "code",
      "metadata": {
        "colab": {
          "base_uri": "https://localhost:8080/",
          "height": 282
        },
        "id": "r5elpQBORapG",
        "outputId": "c1836ac9-5375-426c-f8c8-e0e7caee973d"
      },
      "source": [
        "df[\"Survived\"].plot(kind = 'hist')"
      ],
      "execution_count": null,
      "outputs": [
        {
          "output_type": "execute_result",
          "data": {
            "text/plain": [
              "<matplotlib.axes._subplots.AxesSubplot at 0x7fbe99431a10>"
            ]
          },
          "metadata": {
            "tags": []
          },
          "execution_count": 70
        },
        {
          "output_type": "display_data",
          "data": {
            "image/png": "[encoded data removed]",
            "text/plain": [
              "<Figure size 432x288 with 1 Axes>"
            ]
          },
          "metadata": {
            "tags": [],
            "needs_background": "light"
          }
        }
      ]
    },
    {
      "cell_type": "code",
      "metadata": {
        "id": "W_XfWE8CRemC"
      },
      "source": [
        ""
      ],
      "execution_count": null,
      "outputs": []
    }
  ]
}
