{
  "nbformat": 4,
  "nbformat_minor": 0,
  "metadata": {
    "colab": {
      "name": "numpybasics.ipynb",
      "provenance": [],
      "collapsed_sections": [],
      "authorship_tag": "ABX9TyN8UkSe2uEvpsGw7+wDwAjh",
      "include_colab_link": true
    },
    "kernelspec": {
      "name": "python3",
      "display_name": "Python 3"
    }
  },
  "cells": [
    {
      "cell_type": "markdown",
      "metadata": {
        "id": "view-in-github",
        "colab_type": "text"
      },
      "source": [
        "<a href=\"https://colab.research.google.com/github/simrran-sharma/MSC-IT-PART1-SEM1/blob/main/FDS/numpybasics.ipynb\" target=\"_parent\"><img src=\"https://colab.research.google.com/assets/colab-badge.svg\" alt=\"Open In Colab\"/></a>"
      ]
    },
    {
      "cell_type": "markdown",
      "metadata": {
        "id": "7WvhkeGvFwPJ"
      },
      "source": [
        "##**What is NumPy?**\r\n",
        "NumPy is a Python library used for working with arrays.\r\n",
        "\r\n",
        "It also has functions for working in domain of linear algebra, fourier transform, and matrices.\r\n",
        "\r\n",
        "NumPy was created in 2005 by Travis Oliphant. It is an open source project and you can use it freely.\r\n",
        "\r\n",
        "NumPy stands for Numerical Python."
      ]
    },
    {
      "cell_type": "markdown",
      "metadata": {
        "id": "FEEeO08_F649"
      },
      "source": [
        "##**Create a NumPy ndarray Object**\r\n",
        "NumPy is used to work with arrays. The array object in NumPy is called ndarray.\r\n",
        "\r\n",
        "We can create a NumPy ndarray object by using the array() function."
      ]
    },
    {
      "cell_type": "code",
      "metadata": {
        "colab": {
          "base_uri": "https://localhost:8080/"
        },
        "id": "dK3TgMQsFkWl",
        "outputId": "d23afb75-4378-4f76-a9bd-765a342b69c0"
      },
      "source": [
        "import numpy as np\r\n",
        "\r\n",
        "arr = np.array([1, 2, 3, 4, 5])\r\n",
        "\r\n",
        "print(arr)\r\n",
        "\r\n",
        "print(type(arr))"
      ],
      "execution_count": null,
      "outputs": [
        {
          "output_type": "stream",
          "text": [
            "[1 2 3 4 5]\n",
            "<class 'numpy.ndarray'>\n"
          ],
          "name": "stdout"
        }
      ]
    },
    {
      "cell_type": "markdown",
      "metadata": {
        "id": "GvkpMwEnGU41"
      },
      "source": [
        "##**Access Array Elements**\r\n",
        "Array indexing is the same as accessing an array element.\r\n",
        "\r\n",
        "You can access an array element by referring to its index number."
      ]
    },
    {
      "cell_type": "code",
      "metadata": {
        "colab": {
          "base_uri": "https://localhost:8080/"
        },
        "id": "pbm9mu5wGX-T",
        "outputId": "96dc5f54-c976-468b-bcb4-b039bcf399d5"
      },
      "source": [
        "import numpy as np\r\n",
        "\r\n",
        "arr = np.array([1, 2, 3, 4])\r\n",
        "\r\n",
        "print(arr[0])"
      ],
      "execution_count": null,
      "outputs": [
        {
          "output_type": "stream",
          "text": [
            "1\n"
          ],
          "name": "stdout"
        }
      ]
    },
    {
      "cell_type": "markdown",
      "metadata": {
        "id": "YNvWzbwrGeh-"
      },
      "source": [
        "##**Slicing arrays**\r\n",
        "Slicing in python means taking elements from one given index to another given index.\r\n",
        "\r\n",
        "We pass slice instead of index like this: [start:end].\r\n",
        "\r\n",
        "We can also define the step, like this: [start:end:step]."
      ]
    },
    {
      "cell_type": "code",
      "metadata": {
        "colab": {
          "base_uri": "https://localhost:8080/"
        },
        "id": "Cvl3ezovGiT7",
        "outputId": "79feb5c1-234e-4857-bcd3-bc6c29a0fb3a"
      },
      "source": [
        "import numpy as np\r\n",
        "\r\n",
        "arr = np.array([1, 2, 3, 4, 5, 6, 7])\r\n",
        "\r\n",
        "print(arr[1:5])\r\n",
        "print(arr[-3:-1])\r\n",
        "print(arr[1:5:2])"
      ],
      "execution_count": null,
      "outputs": [
        {
          "output_type": "stream",
          "text": [
            "[2 3 4 5]\n",
            "[5 6]\n",
            "[2 4]\n"
          ],
          "name": "stdout"
        }
      ]
    },
    {
      "cell_type": "markdown",
      "metadata": {
        "id": "gmaEO89FGxu7"
      },
      "source": [
        "##**Shape of an Array**\r\n",
        "The shape of an array is the number of elements in each dimension.\r\n",
        "\r\n",
        "###**Get the Shape of an Array**\r\n",
        "NumPy arrays have an attribute called shape that returns a tuple with each index having the number of corresponding elements."
      ]
    },
    {
      "cell_type": "code",
      "metadata": {
        "colab": {
          "base_uri": "https://localhost:8080/"
        },
        "id": "x-yeHmncG2WS",
        "outputId": "d9ee5cae-2433-4e73-c4e4-ea6ce26b06f4"
      },
      "source": [
        "import numpy as np\r\n",
        "\r\n",
        "arr1 = np.array([[1, 2, 3, 4], [5, 6, 7, 8]])\r\n",
        "\r\n",
        "print(arr1.shape)\r\n",
        "arr = np.array([1, 2, 3, 4], ndmin=5)\r\n",
        "\r\n",
        "print(arr)\r\n",
        "print('shape of array :', arr.shape)"
      ],
      "execution_count": null,
      "outputs": [
        {
          "output_type": "stream",
          "text": [
            "(2, 4)\n",
            "[[[[[1 2 3 4]]]]]\n",
            "shape of array : (1, 1, 1, 1, 4)\n"
          ],
          "name": "stdout"
        }
      ]
    },
    {
      "cell_type": "markdown",
      "metadata": {
        "id": "TxB-otjFHDDC"
      },
      "source": [
        "##**Reshaping arrays**\r\n",
        "Reshaping means changing the shape of an array.\r\n",
        "\r\n",
        "The shape of an array is the number of elements in each dimension.\r\n",
        "\r\n",
        "By reshaping we can add or remove dimensions or change number of elements in each dimension.\r\n",
        "\r\n"
      ]
    },
    {
      "cell_type": "code",
      "metadata": {
        "colab": {
          "base_uri": "https://localhost:8080/"
        },
        "id": "IYeLyaSSHJrt",
        "outputId": "c69ac8bf-5de1-46f6-eab1-29ce0362e655"
      },
      "source": [
        "import numpy as np\r\n",
        "\r\n",
        "arr = np.array([1, 2, 3, 4, 5, 6, 7, 8, 9, 10, 11, 12])\r\n",
        "\r\n",
        "newarr = arr.reshape(4, 3)\r\n",
        "\r\n",
        "print(newarr)"
      ],
      "execution_count": null,
      "outputs": [
        {
          "output_type": "stream",
          "text": [
            "[[ 1  2  3]\n",
            " [ 4  5  6]\n",
            " [ 7  8  9]\n",
            " [10 11 12]]\n"
          ],
          "name": "stdout"
        }
      ]
    },
    {
      "cell_type": "markdown",
      "metadata": {
        "id": "q_5C9wM8HSTS"
      },
      "source": [
        "##**Iterating Arrays**\r\n",
        "Iterating means going through elements one by one.\r\n",
        "\r\n",
        "As we deal with multi-dimensional arrays in numpy, we can do this using basic for loop of python."
      ]
    },
    {
      "cell_type": "code",
      "metadata": {
        "colab": {
          "base_uri": "https://localhost:8080/"
        },
        "id": "HSiffLfuHXKf",
        "outputId": "6818d805-1a81-4657-d1f3-a2e32c295f43"
      },
      "source": [
        "import numpy as np\r\n",
        "\r\n",
        "arr = np.array([1, 2, 3])\r\n",
        "\r\n",
        "for x in arr:\r\n",
        "  print(x)"
      ],
      "execution_count": null,
      "outputs": [
        {
          "output_type": "stream",
          "text": [
            "1\n",
            "2\n",
            "3\n"
          ],
          "name": "stdout"
        }
      ]
    },
    {
      "cell_type": "markdown",
      "metadata": {
        "id": "O0e-c0RLHc_e"
      },
      "source": [
        "##**Joining NumPy Arrays**\r\n",
        "Joining means putting contents of two or more arrays in a single array.\r\n",
        "\r\n",
        "In SQL we join tables based on a key, whereas in NumPy we join arrays by axes.\r\n",
        "\r\n",
        "We pass a sequence of arrays that we want to join to the concatenate() function, along with the axis. If axis is not explicitly passed, it is taken as 0."
      ]
    },
    {
      "cell_type": "code",
      "metadata": {
        "colab": {
          "base_uri": "https://localhost:8080/"
        },
        "id": "w-TNP8yzHfic",
        "outputId": "659ba27e-f0d4-4b45-d9c5-269645178a7f"
      },
      "source": [
        "import numpy as np\r\n",
        "\r\n",
        "arr1 = np.array([1, 2, 3])\r\n",
        "\r\n",
        "arr2 = np.array([4, 5, 6])\r\n",
        "\r\n",
        "arr = np.concatenate((arr1, arr2))\r\n",
        "\r\n",
        "print(arr)"
      ],
      "execution_count": null,
      "outputs": [
        {
          "output_type": "stream",
          "text": [
            "[1 2 3 4 5 6]\n"
          ],
          "name": "stdout"
        }
      ]
    },
    {
      "cell_type": "markdown",
      "metadata": {
        "id": "Q7C1Rte-Hmke"
      },
      "source": [
        "##**Splitting NumPy Arrays**\r\n",
        "Splitting is reverse operation of Joining.\r\n",
        "\r\n",
        "Joining merges multiple arrays into one and Splitting breaks one array into multiple.\r\n",
        "\r\n",
        "We use array_split() for splitting arrays, we pass it the array we want to split and the number of splits."
      ]
    },
    {
      "cell_type": "code",
      "metadata": {
        "colab": {
          "base_uri": "https://localhost:8080/"
        },
        "id": "Y0GlCg63HpXR",
        "outputId": "d094455e-94b9-4ed0-8e84-d73a74de532d"
      },
      "source": [
        "import numpy as np\r\n",
        "\r\n",
        "arr = np.array([1, 2, 3, 4, 5, 6])\r\n",
        "\r\n",
        "newarr = np.array_split(arr, 3)\r\n",
        "\r\n",
        "print(newarr)"
      ],
      "execution_count": null,
      "outputs": [
        {
          "output_type": "stream",
          "text": [
            "[array([1, 2]), array([3, 4]), array([5, 6])]\n"
          ],
          "name": "stdout"
        }
      ]
    },
    {
      "cell_type": "markdown",
      "metadata": {
        "id": "pf9Z55I4IDyW"
      },
      "source": [
        "##**Searching Arrays**\r\n",
        "You can search an array for a certain value, and return the indexes that get a match.\r\n",
        "\r\n",
        "To search an array, use the where() method."
      ]
    },
    {
      "cell_type": "code",
      "metadata": {
        "colab": {
          "base_uri": "https://localhost:8080/"
        },
        "id": "wKUrJdFbIIcQ",
        "outputId": "fe2d128e-cde7-4662-bfa3-02f834637791"
      },
      "source": [
        "import numpy as np\r\n",
        "\r\n",
        "arr = np.array([1, 2, 3, 4, 5, 6, 7, 8])\r\n",
        "\r\n",
        "x = np.where(arr%2 == 0)\r\n",
        "\r\n",
        "print(x)\r\n"
      ],
      "execution_count": null,
      "outputs": [
        {
          "output_type": "stream",
          "text": [
            "(array([1, 3, 5, 7]),)\n"
          ],
          "name": "stdout"
        }
      ]
    },
    {
      "cell_type": "markdown",
      "metadata": {
        "id": "_UAKbf5RIMi6"
      },
      "source": [
        "##**Sorting Arrays**\r\n",
        "Sorting means putting elements in an ordered sequence.\r\n",
        "\r\n",
        "Ordered sequence is any sequence that has an order corresponding to elements, like numeric or alphabetical, ascending or descending.\r\n",
        "\r\n",
        "The NumPy ndarray object has a function called sort(), that will sort a specified array."
      ]
    },
    {
      "cell_type": "code",
      "metadata": {
        "colab": {
          "base_uri": "https://localhost:8080/"
        },
        "id": "MQe0vieVIPAX",
        "outputId": "f0543a74-923b-4d68-ea39-dfdba7370bed"
      },
      "source": [
        "import numpy as np\r\n",
        "\r\n",
        "arr = np.array([3, 2, 0, 1])\r\n",
        "\r\n",
        "print(np.sort(arr))\r\n",
        "arr1 = np.array(['banana', 'cherry', 'apple'])\r\n",
        "\r\n",
        "print(np.sort(arr1))"
      ],
      "execution_count": null,
      "outputs": [
        {
          "output_type": "stream",
          "text": [
            "[0 1 2 3]\n",
            "['apple' 'banana' 'cherry']\n"
          ],
          "name": "stdout"
        }
      ]
    }
  ]
}
