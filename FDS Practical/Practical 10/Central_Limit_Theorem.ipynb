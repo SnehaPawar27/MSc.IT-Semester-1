{
  "nbformat": 4,
  "nbformat_minor": 0,
  "metadata": {
    "colab": {
      "name": "Central_Limit_Theorem.ipynb",
      "provenance": [],
      "collapsed_sections": [],
      "include_colab_link": true
    },
    "kernelspec": {
      "name": "python3",
      "display_name": "Python 3"
    }
  },
  "cells": [
    {
      "cell_type": "markdown",
      "metadata": {
        "id": "view-in-github",
        "colab_type": "text"
      },
      "source": [
        "<a href=\"https://colab.research.google.com/github/simrran-sharma/MSC-IT-PART1-SEM1/blob/main/FDS/Central_Limit_Theorem.ipynb\" target=\"_parent\"><img src=\"https://colab.research.google.com/assets/colab-badge.svg\" alt=\"Open In Colab\"/></a>"
      ]
    },
    {
      "cell_type": "markdown",
      "metadata": {
        "id": "xJydpSMPnmYS"
      },
      "source": [
        "CENTRAL LIMIT THEOREM"
      ]
    },
    {
      "cell_type": "code",
      "metadata": {
        "colab": {
          "base_uri": "https://localhost:8080/",
          "height": 499
        },
        "id": "yDuzC36mb4y7",
        "outputId": "925c1479-a028-40ad-c715-aba3082fcf58"
      },
      "source": [
        "import numpy \r\n",
        "import matplotlib.pyplot as plt \r\n",
        "\r\n",
        "# number of sample \r\n",
        "num = [1, 10, 50, 100] \r\n",
        "# list of sample means \r\n",
        "means = [] \r\n",
        "\r\n",
        "# Generating 1, 10, 30, 100 random numbers from -40 to 40 \r\n",
        "# taking their mean and appending it to list means. \r\n",
        "for j in num: \r\n",
        "\t# Generating seed so that we can get same result \r\n",
        "\t# every time the loop is run... \r\n",
        "\tnumpy.random.seed(1) \r\n",
        "\tx = [numpy.mean( \r\n",
        "\t\tnumpy.random.randint( \r\n",
        "\t\t\t-40, 40, j)) for _i in range(1000)] \r\n",
        "\tmeans.append(x) \r\n",
        "k = 0\r\n",
        "\r\n",
        "# plotting all the means in one figure \r\n",
        "fig, ax = plt.subplots(2, 2, figsize =(8, 8)) \r\n",
        "for i in range(0, 2): \r\n",
        "\tfor j in range(0, 2): \r\n",
        "\t\t# Histogram for each x stored in means \r\n",
        "\t\tax[i, j].hist(means[k], 10, density = True) \r\n",
        "\t\tax[i, j].set_title(label = num[k]) \r\n",
        "\t\tk = k + 1\r\n"
      ],
      "execution_count": null,
      "outputs": [
        {
          "output_type": "display_data",
          "data": {
            "image/png": "[encoded data removed]",
            "text/plain": [
              "<Figure size 576x576 with 4 Axes>"
            ]
          },
          "metadata": {
            "tags": [],
            "needs_background": "light"
          }
        }
      ]
    },
    {
      "cell_type": "markdown",
      "metadata": {
        "id": "3EAkoeGmnqJF"
      },
      "source": [
        "EXAMPLE 2"
      ]
    },
    {
      "cell_type": "code",
      "metadata": {
        "colab": {
          "base_uri": "https://localhost:8080/"
        },
        "id": "ch2kLfUanqjs",
        "outputId": "69cc5e11-e6cd-4d68-fdb2-756f65dfc6ed"
      },
      "source": [
        "from numpy.random import seed\r\n",
        "from numpy.random import randint\r\n",
        "from numpy import mean\r\n",
        "# seed the random number generator, so that the experiment is #replicable\r\n",
        "seed(1)\r\n",
        "# generate a sample of men's weights\r\n",
        "weights = randint(60, 90, 50)\r\n",
        "print(weights)\r\n",
        "print('The average weight is {} kg'.format(mean(weights)))"
      ],
      "execution_count": null,
      "outputs": [
        {
          "output_type": "stream",
          "text": [
            "[65 71 72 68 69 71 65 75 60 76 61 72 67 73 88 66 85 78 80 65 78 80 71 88\n",
            " 70 88 89 74 78 64 83 83 69 77 83 60 82 73 69 69 67 89 82 85 61 60 88 77\n",
            " 68 84]\n",
            "The average weight is 74.32 kg\n"
          ],
          "name": "stdout"
        }
      ]
    },
    {
      "cell_type": "markdown",
      "metadata": {
        "id": "RaiQ9JSNn6I3"
      },
      "source": [
        "Now let’s repeat the sampling simulation for 1000 times:"
      ]
    },
    {
      "cell_type": "code",
      "metadata": {
        "colab": {
          "base_uri": "https://localhost:8080/",
          "height": 283
        },
        "id": "ozu7akCPn92l",
        "outputId": "15f31f78-215f-4d8d-bb12-99a8c9968ce5"
      },
      "source": [
        "import matplotlib.pyplot as plt\r\n",
        "# seed the random number generator, so that the experiment is replicable\r\n",
        "seed(1)\r\n",
        "# calculate the mean of 50 men's weights 1000 times\r\n",
        "means = [mean(randint(60, 90, 50)) for _i in range(1000)]\r\n",
        "# plot the distribution of sample means\r\n",
        "plt.hist(means)\r\n",
        "plt.show()\r\n",
        "print('The mean of the sample means is {}'.format(mean(means)))"
      ],
      "execution_count": null,
      "outputs": [
        {
          "output_type": "display_data",
          "data": {
            "image/png": "[encoded data removed]",
            "text/plain": [
              "<Figure size 432x288 with 1 Axes>"
            ]
          },
          "metadata": {
            "tags": [],
            "needs_background": "light"
          }
        },
        {
          "output_type": "stream",
          "text": [
            "The mean of the sample means is 74.54001999999998\n"
          ],
          "name": "stdout"
        }
      ]
    }
  ]
}
