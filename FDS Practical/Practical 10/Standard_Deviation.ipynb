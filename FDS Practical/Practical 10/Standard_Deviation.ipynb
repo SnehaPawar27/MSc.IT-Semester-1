{
  "nbformat": 4,
  "nbformat_minor": 0,
  "metadata": {
    "colab": {
      "name": " Standard_Deviation.ipynb",
      "provenance": [],
      "include_colab_link": true
    },
    "kernelspec": {
      "name": "python3",
      "display_name": "Python 3"
    }
  },
  "cells": [
    {
      "cell_type": "markdown",
      "metadata": {
        "id": "view-in-github",
        "colab_type": "text"
      },
      "source": [
        "<a href=\"https://colab.research.google.com/github/simrran-sharma/MSC-IT-PART1-SEM1/blob/main/FDS/Standard_Deviation.ipynb\" target=\"_parent\"><img src=\"https://colab.research.google.com/assets/colab-badge.svg\" alt=\"Open In Colab\"/></a>"
      ]
    },
    {
      "cell_type": "code",
      "metadata": {
        "colab": {
          "base_uri": "https://localhost:8080/"
        },
        "id": "cZXcIO7WDAG-",
        "outputId": "f87e81b1-9c6e-4188-a0ec-192e337d8644"
      },
      "source": [
        "# Import the necessary libraries to read \r\n",
        "# dataset and work on that \r\n",
        "import pandas as pd \r\n",
        "import numpy as np \r\n",
        "import matplotlib.pyplot as plt \r\n",
        "\r\n",
        "# Make the dataframe for evaluation on Errorbars \r\n",
        "df = pd.DataFrame({ \r\n",
        "\t'insert': [0.0, 0.1, 0.3, 0.5, 1.0], \r\n",
        "\t'mean': [0.009905, 0.45019, 0.376818, 0.801856, 0.643859], \r\n",
        "\t'quality': ['good', 'good', 'poor', 'good', 'poor'], \r\n",
        "\t'std': [0.003662, 0.281895, 0.306806, 0.243288, 0.322378]}) \r\n",
        "\r\n",
        "print(df)\r\n"
      ],
      "execution_count": null,
      "outputs": [
        {
          "output_type": "stream",
          "text": [
            "   insert      mean quality       std\n",
            "0     0.0  0.009905    good  0.003662\n",
            "1     0.1  0.450190    good  0.281895\n",
            "2     0.3  0.376818    poor  0.306806\n",
            "3     0.5  0.801856    good  0.243288\n",
            "4     1.0  0.643859    poor  0.322378\n"
          ],
          "name": "stdout"
        }
      ]
    },
    {
      "cell_type": "code",
      "metadata": {
        "colab": {
          "base_uri": "https://localhost:8080/",
          "height": 279
        },
        "id": "U_MbKrRlJboX",
        "outputId": "72d28939-7644-4faa-86ef-fbeeb8ee8a6e"
      },
      "source": [
        "# Subplots as having two types of quality \r\n",
        "fig, ax = plt.subplots() \r\n",
        "\r\n",
        "for key, group in df.groupby('quality'): \r\n",
        "\tgroup.plot('insert', 'mean', yerr='std', \r\n",
        "\t\t\tlabel=key, ax=ax) \r\n",
        "\r\n",
        "plt.show()\r\n"
      ],
      "execution_count": null,
      "outputs": [
        {
          "output_type": "display_data",
          "data": {
            "image/png": "[encoded data removed]",
            "text/plain": [
              "<Figure size 432x288 with 1 Axes>"
            ]
          },
          "metadata": {
            "tags": [],
            "needs_background": "light"
          }
        }
      ]
    },
    {
      "cell_type": "code",
      "metadata": {
        "colab": {
          "base_uri": "https://localhost:8080/",
          "height": 299
        },
        "id": "6g4lHVuVJgVH",
        "outputId": "f6d9d4e0-83b8-4918-b2e8-048231df4488"
      },
      "source": [
        "# Groupby the quality column using aggreate \r\n",
        "# value of mean and std \r\n",
        "qual = df.groupby(\"quality\").agg([np.mean, np.std]) \r\n",
        "qual = qual['insert'] \r\n",
        "qual.plot(kind = \"barh\", y = \"mean\", legend = False, \r\n",
        "\t\txerr = \"std\", title = \"Quality\", color='green')\r\n"
      ],
      "execution_count": null,
      "outputs": [
        {
          "output_type": "execute_result",
          "data": {
            "text/plain": [
              "<matplotlib.axes._subplots.AxesSubplot at 0x7f88e5cf1b10>"
            ]
          },
          "metadata": {
            "tags": []
          },
          "execution_count": 5
        },
        {
          "output_type": "display_data",
          "data": {
            "image/png": "[encoded data removed]",
            "text/plain": [
              "<Figure size 432x288 with 1 Axes>"
            ]
          },
          "metadata": {
            "tags": [],
            "needs_background": "light"
          }
        }
      ]
    }
  ]
}
