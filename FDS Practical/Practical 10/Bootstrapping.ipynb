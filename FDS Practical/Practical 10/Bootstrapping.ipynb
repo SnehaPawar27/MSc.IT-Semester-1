{
  "nbformat": 4,
  "nbformat_minor": 0,
  "metadata": {
    "colab": {
      "name": " Bootstrapping.ipynb",
      "provenance": [],
      "include_colab_link": true
    },
    "kernelspec": {
      "name": "python3",
      "display_name": "Python 3"
    }
  },
  "cells": [
    {
      "cell_type": "markdown",
      "metadata": {
        "id": "view-in-github",
        "colab_type": "text"
      },
      "source": [
        "<a href=\"https://colab.research.google.com/github/simrran-sharma/MSC-IT-PART1-SEM1/blob/main/FDS/Bootstrapping.ipynb\" target=\"_parent\"><img src=\"https://colab.research.google.com/assets/colab-badge.svg\" alt=\"Open In Colab\"/></a>"
      ]
    },
    {
      "cell_type": "markdown",
      "metadata": {
        "id": "te2SP60Fhaa5"
      },
      "source": [
        "Bootstrapping"
      ]
    },
    {
      "cell_type": "code",
      "metadata": {
        "id": "BqARkueubXD5",
        "colab": {
          "base_uri": "https://localhost:8080/"
        },
        "outputId": "9d18961b-418b-42ed-e49c-4d31d9a09e68"
      },
      "source": [
        "import numpy as np\r\n",
        "import random\r\n",
        " \r\n",
        "x = np.random.normal(loc= 300.0, size=1000)\r\n",
        "print(np.mean(x))\r\n",
        " \r\n",
        "sample_mean = []\r\n",
        "for i in range(50):\r\n",
        "  y = random.sample(x.tolist(), 4)\r\n",
        "  avg = np.mean(y)\r\n",
        "  sample_mean.append(avg)\r\n",
        " \r\n",
        "print(np.mean(sample_mean))"
      ],
      "execution_count": null,
      "outputs": [
        {
          "output_type": "stream",
          "text": [
            "300.03143036061476\n",
            "299.91668754950246\n"
          ],
          "name": "stdout"
        }
      ]
    },
    {
      "cell_type": "code",
      "metadata": {
        "id": "Eisp3UZrfkY4"
      },
      "source": [
        "EXAMPLE 2"
      ],
      "execution_count": null,
      "outputs": []
    },
    {
      "cell_type": "code",
      "metadata": {
        "colab": {
          "base_uri": "https://localhost:8080/"
        },
        "id": "zGdWhca5fiRu",
        "outputId": "8eb2ad07-cd27-4081-91db-4cf07ab33a40"
      },
      "source": [
        "import numpy as np\r\n",
        "import seaborn as sns\r\n",
        "import random\r\n",
        "\r\n",
        "# Normal Distribution \r\n",
        "\r\n",
        "x=np.random.normal(loc=500.0 ,scale=1.0,size=100000)\r\n",
        "np.mean(x)"
      ],
      "execution_count": null,
      "outputs": [
        {
          "output_type": "execute_result",
          "data": {
            "text/plain": [
              "500.0010295096174"
            ]
          },
          "metadata": {
            "tags": []
          },
          "execution_count": 1
        }
      ]
    },
    {
      "cell_type": "code",
      "metadata": {
        "id": "seAIM26egShD"
      },
      "source": [
        "Now we will draw 40 samples of size 5 from the distribution (poopulation) and complete the mean for every sample"
      ],
      "execution_count": null,
      "outputs": []
    },
    {
      "cell_type": "code",
      "metadata": {
        "colab": {
          "base_uri": "https://localhost:8080/"
        },
        "id": "1azY3_BmgpUn",
        "outputId": "3c1b9d40-e22b-4950-bc39-b01b9cf5cdb5"
      },
      "source": [
        "sample_mean =[]\r\n",
        "\r\n",
        "# Bootstrap Sampling\r\n",
        "for i in range(40):\r\n",
        "  y=random.sample(x.tolist(),5)\r\n",
        "  avg=np.mean(y)\r\n",
        "  sample_mean.append(avg)\r\n",
        "  y=np.mean(sample_mean)\r\n",
        "  print(y)"
      ],
      "execution_count": null,
      "outputs": [
        {
          "output_type": "stream",
          "text": [
            "499.48504117878326\n",
            "499.71882907913886\n",
            "499.81524830365976\n",
            "499.7635064624176\n",
            "499.8745766826828\n",
            "499.94884658464645\n",
            "499.8763371785035\n",
            "499.88253811655557\n",
            "499.91085191598165\n",
            "499.99716659932017\n",
            "500.06103783220055\n",
            "499.9584812372777\n",
            "499.9664717824269\n",
            "499.9912335484748\n",
            "499.97332398446235\n",
            "499.96991750651716\n",
            "499.93300261900924\n",
            "499.91843212017204\n",
            "499.901202981436\n",
            "499.8849742417051\n",
            "499.8556360613767\n",
            "499.8194607776046\n",
            "499.7951807164565\n",
            "499.79752469559156\n",
            "499.81178725208935\n",
            "499.8299663840827\n",
            "499.8239458946559\n",
            "499.8331732179119\n",
            "499.8328950829727\n",
            "499.82973787434173\n",
            "499.82981294097374\n",
            "499.84402859196774\n",
            "499.8503419774248\n",
            "499.8216297689962\n",
            "499.81490469701436\n",
            "499.8243901179679\n",
            "499.82312059987146\n",
            "499.8245144811206\n",
            "499.83586991720205\n",
            "499.8334862360851\n"
          ],
          "name": "stdout"
        }
      ]
    }
  ]
}
