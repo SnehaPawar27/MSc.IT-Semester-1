{
  "nbformat": 4,
  "nbformat_minor": 0,
  "metadata": {
    "colab": {
      "name": " Law_of_large_No.ipynb",
      "provenance": [],
      "collapsed_sections": [],
      "include_colab_link": true
    },
    "kernelspec": {
      "name": "python3",
      "display_name": "Python 3"
    }
  },
  "cells": [
    {
      "cell_type": "markdown",
      "metadata": {
        "id": "view-in-github",
        "colab_type": "text"
      },
      "source": [
        "<a href=\"https://colab.research.google.com/github/simrran-sharma/MSC-IT-PART1-SEM1/blob/main/FDS/Law_of_large_No.ipynb\" target=\"_parent\"><img src=\"https://colab.research.google.com/assets/colab-badge.svg\" alt=\"Open In Colab\"/></a>"
      ]
    },
    {
      "cell_type": "markdown",
      "metadata": {
        "id": "N5IxPO9qh3D3"
      },
      "source": [
        "Law of Large Numbers"
      ]
    },
    {
      "cell_type": "code",
      "metadata": {
        "colab": {
          "base_uri": "https://localhost:8080/",
          "height": 265
        },
        "id": "-SkVOzkA8Rqj",
        "outputId": "fa8de491-63ed-4dfd-f0fe-9b993d74a7a4"
      },
      "source": [
        "import numpy as np\r\n",
        "import matplotlib.pyplot as plt\r\n",
        "% matplotlib inline\r\n",
        "np.random.seed(42)\r\n",
        "\r\n",
        "pop_data=np.random.gamma(1,100,3000)\r\n",
        "plt.hist(pop_data);\r\n"
      ],
      "execution_count": null,
      "outputs": [
        {
          "output_type": "display_data",
          "data": {
            "image/png": "[encoded data removed]",
            "text/plain": [
              "<Figure size 432x288 with 1 Axes>"
            ]
          },
          "metadata": {
            "tags": [],
            "needs_background": "light"
          }
        }
      ]
    },
    {
      "cell_type": "code",
      "metadata": {
        "colab": {
          "base_uri": "https://localhost:8080/"
        },
        "id": "vi1R9d0S8jkC",
        "outputId": "24902d94-8bed-404f-d5a9-e55dc6e80553"
      },
      "source": [
        "pop_data.mean()"
      ],
      "execution_count": null,
      "outputs": [
        {
          "output_type": "execute_result",
          "data": {
            "text/plain": [
              "100.35978700795846"
            ]
          },
          "metadata": {
            "tags": []
          },
          "execution_count": 12
        }
      ]
    },
    {
      "cell_type": "code",
      "metadata": {
        "colab": {
          "base_uri": "https://localhost:8080/"
        },
        "id": "a4MmIVCe8kTA",
        "outputId": "6bfc6dd2-8c51-4ecc-8499-fd7042a3c220"
      },
      "source": [
        "sample=np.random.choice(pop_data,5)\r\n",
        "np.mean(sample)"
      ],
      "execution_count": null,
      "outputs": [
        {
          "output_type": "execute_result",
          "data": {
            "text/plain": [
              "179.26530134867892"
            ]
          },
          "metadata": {
            "tags": []
          },
          "execution_count": 14
        }
      ]
    },
    {
      "cell_type": "code",
      "metadata": {
        "colab": {
          "base_uri": "https://localhost:8080/"
        },
        "id": "liXHhHVmAjO9",
        "outputId": "699edcde-4fdc-4803-f3d0-1171c873aa5c"
      },
      "source": [
        "sample=np.random.choice(pop_data,20)\r\n",
        "np.mean(sample)"
      ],
      "execution_count": null,
      "outputs": [
        {
          "output_type": "execute_result",
          "data": {
            "text/plain": [
              "143.10974179021264"
            ]
          },
          "metadata": {
            "tags": []
          },
          "execution_count": 15
        }
      ]
    },
    {
      "cell_type": "code",
      "metadata": {
        "colab": {
          "base_uri": "https://localhost:8080/"
        },
        "id": "RpNvHScrAoZQ",
        "outputId": "eb4bd344-13e8-499a-82b2-281ef5bc4af2"
      },
      "source": [
        "sample=np.random.choice(pop_data,100)\r\n",
        "np.mean(sample)"
      ],
      "execution_count": null,
      "outputs": [
        {
          "output_type": "execute_result",
          "data": {
            "text/plain": [
              "117.0757073569392"
            ]
          },
          "metadata": {
            "tags": []
          },
          "execution_count": 16
        }
      ]
    },
    {
      "cell_type": "code",
      "metadata": {
        "colab": {
          "base_uri": "https://localhost:8080/"
        },
        "id": "kDlLD98BAr3s",
        "outputId": "8a0fe73e-67ee-41f2-b6ab-08b1aa45cc11"
      },
      "source": [
        "sample=np.random.choice(pop_data,1000)\r\n",
        "np.mean(sample)"
      ],
      "execution_count": null,
      "outputs": [
        {
          "output_type": "execute_result",
          "data": {
            "text/plain": [
              "104.95234210554668"
            ]
          },
          "metadata": {
            "tags": []
          },
          "execution_count": 17
        }
      ]
    },
    {
      "cell_type": "markdown",
      "metadata": {
        "id": "F8PNIHbkh59O"
      },
      "source": [
        "Example 2"
      ]
    },
    {
      "cell_type": "code",
      "metadata": {
        "colab": {
          "base_uri": "https://localhost:8080/"
        },
        "id": "zrpWXt-kh7qs",
        "outputId": "6f567b15-892c-4e26-a15c-a08ac564bdc6"
      },
      "source": [
        "import random\r\n",
        "H=0\r\n",
        "T=0\r\n",
        "print (\"H    T\")\r\n",
        "for n in range (0,10):\r\n",
        "  num=random.randint(0,1)\r\n",
        "  if num==0:\r\n",
        "    print(\"|\")\r\n",
        "    H= H+1\r\n",
        "  else:\r\n",
        "    print(\"     |\")\r\n",
        "    T= T+1\r\n",
        "print(H,\"  \",T)"
      ],
      "execution_count": null,
      "outputs": [
        {
          "output_type": "stream",
          "text": [
            "H    T\n",
            "     |\n",
            "     |\n",
            "     |\n",
            "|\n",
            "     |\n",
            "     |\n",
            "|\n",
            "     |\n",
            "     |\n",
            "     |\n",
            "2    8\n"
          ],
          "name": "stdout"
        }
      ]
    }
  ]
}
