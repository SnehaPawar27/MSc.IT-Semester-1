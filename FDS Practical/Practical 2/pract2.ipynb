{
  "nbformat": 4,
  "nbformat_minor": 0,
  "metadata": {
    "colab": {
      "name": "pract2.ipynb",
      "provenance": [],
      "collapsed_sections": [],
      "authorship_tag": "ABX9TyO4En0T0aOZgnWj4TcNB1Du",
      "include_colab_link": true
    },
    "kernelspec": {
      "name": "python3",
      "display_name": "Python 3"
    }
  },
  "cells": [
    {
      "cell_type": "markdown",
      "metadata": {
        "id": "view-in-github",
        "colab_type": "text"
      },
      "source": [
        "<a href=\"https://colab.research.google.com/github/simrran-sharma/MSC-IT-PART1-SEM1/blob/main/FDS/pract2.ipynb\" target=\"_parent\"><img src=\"https://colab.research.google.com/assets/colab-badge.svg\" alt=\"Open In Colab\"/></a>"
      ]
    },
    {
      "cell_type": "markdown",
      "metadata": {
        "id": "n4AgEcgWvsjB"
      },
      "source": [
        "###**Create the csv ,excel and sql database and table for storing the following data. Also load and display the data from all these sources into Google colab notebook.**\r\n"
      ]
    },
    {
      "cell_type": "code",
      "metadata": {
        "colab": {
          "base_uri": "https://localhost:8080/"
        },
        "id": "HCmpp5kBGJQ6",
        "outputId": "a2df173f-31a7-4309-d10b-87151a9aa66a"
      },
      "source": [
        "%cd ..\n",
        "from google.colab import drive\n",
        "drive.mount('/content/gdrive')\n"
      ],
      "execution_count": null,
      "outputs": [
        {
          "output_type": "stream",
          "text": [
            "/\n",
            "Mounted at /content/gdrive\n"
          ],
          "name": "stdout"
        }
      ]
    },
    {
      "cell_type": "markdown",
      "metadata": {
        "id": "LhvbxkDNGkZA"
      },
      "source": [
        "###**Unzip dataset.zip and extract all files**"
      ]
    },
    {
      "cell_type": "code",
      "metadata": {
        "id": "MUcsV7KbGqBX"
      },
      "source": [
        "#Unzipping dataset\n",
        "dir=\"\"\n",
        "import zipfile\n",
        "zip_ref=zipfile.ZipFile(\"/content/gdrive/MyDrive/datasets.zip\",\"r\")\n",
        "zip_ref.extractall(dir)\n",
        "zip_ref.close()\n"
      ],
      "execution_count": null,
      "outputs": []
    },
    {
      "cell_type": "markdown",
      "metadata": {
        "id": "7kAbHrGEH3dr"
      },
      "source": [
        "**TASK 1-Loading data from csv file**\n"
      ]
    },
    {
      "cell_type": "code",
      "metadata": {
        "id": "h4sXfCCbH_0l"
      },
      "source": [
        "import numpy"
      ],
      "execution_count": null,
      "outputs": []
    },
    {
      "cell_type": "markdown",
      "metadata": {
        "id": "ADRdflq0IDJw"
      },
      "source": [
        "**Pandas**"
      ]
    },
    {
      "cell_type": "code",
      "metadata": {
        "colab": {
          "base_uri": "https://localhost:8080/",
          "height": 120
        },
        "id": "vVTeLRaXIF9x",
        "outputId": "ef723e08-d708-4894-c6be-0f3fc9dc8084"
      },
      "source": [
        "#import pandas library\n",
        "import pandas as pd\n",
        "#Define path of csv file\n",
        "location=\"/datasets/smallgradesh.csv\"\n",
        "open(location).read()"
      ],
      "execution_count": null,
      "outputs": [
        {
          "output_type": "execute_result",
          "data": {
            "application/vnd.google.colaboratory.intrinsic+json": {
              "type": "string"
            },
            "text/plain": [
              "'Name,Grade\\nMarcia,82.4\\nKadeem,78.2\\nNash,79.3\\nNoelani,83.2\\nNoelani,87.4\\nNeil,88.7\\nNelle,80.2\\nArmando,95.1\\nIlliana,76.5\\nNeil,89.7\\nDaquan,85.2\\nNola,75.3\\nQuinn,80.7\\nFrances,84.2\\nLareina,87.6\\nMedge,75.8\\nKibo,88.2\\nLibby,100.0\\nShelly,84.3\\nLane,84.2\\nIsadora,79.1\\nMaggy,90.5\\nElton,71.0\\nLance,90.3\\nKyle,82.4\\nColin,83.8\\nSolomon,94.5\\nUlla,83.5\\nTyler,69.7\\nEmma,91.1\\nIsaiah,91.9\\nCarol,85.0\\nGeorgia,99.0\\nDoris,93.2\\nEric,71.9\\nCain,85.3\\nIvor,100.0\\nDevin,98.1\\nRebekah,68.9\\nCameran,75.4\\nNorman,76.8\\nLenore,74.0\\nKeelie,81.0\\nHilel,95.2\\nDolan,64.2\\nRhea,95.0\\nFulton,71.2\\nKiayada,74.9\\nAurelia,72.1\\nNero,87.8\\nAladdin,82.6\\nBeau,85.1\\nOctavius,81.3\\nAllen,89.4\\nBasil,86.4\\nReese,83.5\\nTate,67.7\\nJonah,89.9\\nIngrid,72.6\\nTanner,89.1\\nOleg,71.3\\nPiper,61.4\\nGenevieve,67.3\\nLilah,85.9\\nIlliana,86.0\\nWarren,76.3\\nRegan,77.4\\nJustin,77.5\\nIsaiah,65.3\\nDaryl,93.8\\nBarbara,82.7\\nChristine,91.9\\nIola,88.4\\nLars,67.9\\nJaden,84.5\\nSigne,76.7\\nDeanna,83.2\\nQuemby,100.0\\nShafira,85.3\\nAriana,70.9\\nHoyt,71.3\\nJustin,83.5\\nPhelan,74.9\\nHonorato,73.3\\nHashim,77.9\\nPorter,90.4\\nJoan,96.6\\nAlexa,81.2\\nSean,67.7\\nLucius,88.0\\nSydnee,99.4\\nAllistair,67.0\\nAlyssa,93.0\\nCody,69.0\\nBernard,78.3\\nJonah,74.9\\nYen,87.9\\nCassidy,92.0\\nGisela,68.0\\nYetta,89.2\\nGabriel,91.3\\nSage,100.0\\nShannon,83.7\\nSigourney,82.5\\nAdrienne,77.3\\nChaney,93.6\\nFritz,93.2\\nClinton,88.4\\nLara,95.6\\nSophia,100.0\\nKaye,94.9\\nQuinlan,73.3\\nXanthus,95.5\\nHamilton,96.6\\nZeus,88.8\\nValentine,92.2\\nZahir,92.0\\nDebra,66.3\\nClio,65.3\\nCathleen,73.4\\nYolanda,94.0\\nGuinevere,84.2\\nKeelie,88.4\\nBethany,73.1\\nSalvador,84.2\\nViolet,62.6\\nLewis,92.6\\nLunea,91.6\\nShaeleigh,92.4\\nNathan,79.1\\nStella,76.2\\nKelly,90.9\\nYael,85.2\\nZena,80.1\\nChaney,89.3\\nConan,66.8\\nJamalia,77.8\\nShana,95.0\\nMerrill,76.3\\nGregory,86.8\\nRebecca,82.5\\nSheila,97.1\\nDane,87.4\\nConnor,90.7\\nBaxter,75.1\\nJorden,90.2\\nHu,84.2\\nMaite,74.0\\nAlfreda,71.6\\nDexter,68.9\\nSawyer,69.4\\nMaggie,77.3\\nHashim,71.8\\nDarius,86.3\\nRosalyn,88.3\\nJordan,72.1\\nChase,81.1\\nJane,93.7\\nGrant,79.0\\nDarius,93.3\\nArthur,96.9\\nHedda,82.3\\nFarrah,91.3\\nBree,83.3\\nElton,97.8\\nCiaran,100.0\\nMiranda,80.6\\nGeraldine,84.9\\nCallie,71.9\\nJelani,94.1\\nSolomon,91.1\\nCallie,77.0\\nCarson,75.4\\nJoseph,81.8\\nBritanni,89.7\\nRaja,82.5\\nQuail,68.0\\nDana,82.7\\nEvangeline,88.9\\nSlade,93.1\\nLatifah,81.0\\nBeverly,89.7\\nSolomon,90.3\\nNyssa,80.2\\nLars,84.3\\nHalla,80.5\\nGay,75.0\\nAriana,99.1\\nVictor,76.4\\nJocelyn,72.7\\nHoyt,89.9\\nMohammad,99.6\\nRussell,73.4\\nChava,91.5\\nDanielle,64.3\\nHector,68.8\\nOcean,88.0\\nJescie,77.0\\nCiara,88.0\\nNigel,77.0\\nMichelle,90.3\\nMaris,68.2\\nJarrod,79.6\\nHanna,90.8\\nTimon,98.0\\nGinger,84.6\\nNathan,74.3\\nMadaline,78.2\\nDante,87.3\\nColette,81.1\\nKeith,86.0\\nChanning,65.3\\nDexter,75.2\\nKermit,90.8\\nAnthony,61.6\\nKeaton,72.7\\nAdam,74.9\\nTaShya,87.5\\nBreanna,86.0\\nXanthus,88.9\\nAudrey,90.5\\nMarshall,86.3\\nDestiny,91.9\\nConan,85.2\\nVenus,77.0\\nNaida,70.3\\nUriah,100.0\\nBarry,69.3\\nHall,71.9\\nHarriet,76.1\\nChristopher,77.9\\nRegina,94.7\\nNicole,80.5\\nDevin,88.5\\nNatalie,90.8\\nRahim,76.1\\nTeagan,91.3\\nJenette,81.0\\nBrenna,89.0\\nHayley,87.3\\nAllistair,80.8\\nJackson,79.5\\nSylvia,73.2\\nDante,63.4\\nWynne,71.4\\nLester,82.0\\nSage,77.4\\nRaja,90.6\\nCiara,86.8\\nPhyllis,100.0\\nKennedy,83.0\\nShaeleigh,81.7\\nRose,100.0\\nPortia,80.9\\nKasper,71.9\\nLamar,95.0\\nRylee,88.4\\nKasimir,75.0\\nXyla,87.9\\nGavin,77.9\\nShellie,84.4\\nLydia,78.1\\nCain,83.6\\nMegan,90.4\\nNoah,84.3\\nWynne,76.0\\nCaldwell,95.3\\nKeith,84.2\\nAlma,99.3\\nJosephine,99.2\\nForrest,87.2\\nPerry,87.5\\nCody,75.3\\nCamden,82.7\\nEve,83.7\\nLeslie,90.3\\nDeclan,76.5\\nRoth,90.4\\nNathan,71.2\\nElvis,80.7\\nGermaine,95.2\\nAudra,78.5\\nLavinia,74.6\\nKadeem,73.3\\nRoth,77.6\\nChava,93.0\\nMary,74.0\\nDylan,74.1\\nHaley,71.1\\nThomas,84.0\\nJayme,78.4\\nHall,92.2\\nAmanda,88.5\\nRia,76.5\\nIlliana,69.8\\nVanna,76.5\\nNathan,77.1\\nJane,74.5\\nChristopher,84.5\\nFiona,77.5\\nJemima,74.9\\nRaven,87.0\\nQuintessa,69.4\\nKamal,100.0\\nCassandra,79.5\\nHayes,74.0\\nJana,82.6\\nJanna,77.0\\nBritanni,80.7\\nHanna,96.6\\nHonorato,90.1\\nJane,72.5\\nNita,80.4\\nZena,89.0\\nCally,84.7\\nNissim,94.7\\nNicole,94.2\\nTodd,81.4\\nRina,84.2\\nPrice,74.1\\nShad,78.7\\nLysandra,100.0\\nRhiannon,88.9\\nJackson,75.3\\nLeigh,74.5\\nThor,100.0\\nReese,71.2\\nRay,73.2\\nTasha,99.2\\nYoko,96.5\\nCurran,72.9\\nGarrison,81.2\\nJudith,93.1\\nHammett,78.8\\nFlynn,84.9\\nSteven,79.3\\nLucy,79.6\\nOrlando,69.3\\nMicah,83.2\\nLunea,92.3\\nAbbot,58.9\\nZia,88.4\\nCharissa,69.9\\nAthena,71.3\\nFuller,82.0\\nShelley,88.1\\nHamish,75.6\\nJayme,77.1\\nIsaiah,75.8\\nRudyard,77.5\\nGeorgia,87.4\\nNehru,93.3\\nCiara,73.1\\nKeelie,99.5\\nEvan,80.7\\nKadeem,100.0\\nLuke,75.0\\nSara,72.4\\nRhiannon,82.5\\nMargaret,94.9\\nNomlanga,80.0\\nJescie,83.4\\nClaire,90.4\\nMadeson,98.0\\nPrescott,96.3\\nKaitlin,66.4\\nYardley,79.6\\nHasad,95.9\\nTana,96.6\\nMufutau,99.9\\nPaul,84.2\\nBryar,93.4\\nArthur,80.2\\nInga,74.1\\nSteel,87.3\\nBrianna,82.6\\nNoah,88.1\\nKelsie,93.9\\nJacob,87.1\\nBaker,89.8\\nJael,83.7\\nNorman,88.0\\nJacob,100.0\\nCynthia,81.0\\nElijah,88.4\\nIsaiah,82.3\\nMiriam,77.8\\nHiroko,90.4\\nColton,60.3\\nCaldwell,79.1\\nPandora,70.5\\nThomas,89.9\\nPhelan,98.0\\nGabriel,62.0\\nKamal,77.6\\nHolmes,98.7\\nPreston,66.1\\nChester,89.4\\nQuamar,91.3\\nAmery,84.2\\nVance,65.1\\nLee,86.5\\nMalik,72.3\\nDana,67.3\\nKelly,80.6\\nRyan,81.3\\nBrett,76.0\\nVeda,82.5\\nEzekiel,81.5\\nUlla,81.0\\nLinda,59.0\\nUlysses,66.6\\nTana,81.2\\nKaye,66.6\\nMarshall,83.0\\nHedley,78.3\\nGillian,82.9\\nNadine,75.5\\nNathan,77.5\\nAmethyst,80.4\\nNigel,90.0\\nNigel,77.6\\nDara,85.7\\nNeil,91.4\\nMollie,97.2\\nYolanda,94.3\\nSonia,88.2\\nDustin,94.7\\nBerk,88.1\\nScott,77.2\\nNicole,76.7\\nMyra,86.2\\nShoshana,87.4\\nAsher,70.2\\nKaden,100.0\\nAaron,88.7\\nChester,65.3\\nQuin,92.4\\nJared,89.0\\nSeptember,82.8\\nMaxwell,81.8\\nMiranda,63.7\\nShaine,90.3\\nCraig,88.1\\nClaudia,80.4\\nAdria,76.8\\nAlfonso,88.8\\nHenry,94.6\\nZachery,85.5\\nBarclay,86.9\\nAudra,85.1\\nIla,93.8\\nFelix,76.5\\nRoanna,94.2\\nAudra,74.2\\nIsaac,81.0\\nLaura,82.4\\nMyra,100.0\\nIola,81.6\\nInez,100.0\\nKyra,93.0\\nEmery,89.0\\nSade,61.1\\nAline,68.2\\nCyrus,81.8\\nPatrick,85.0\\nKuame,83.5\\nYvette,89.8\\nRonan,68.0\\nCourtney,88.3\\nTate,87.2\\nPascale,96.4\\nMorgan,73.0\\nDeclan,100.0\\nDana,88.7\\nOrlando,84.4\\nGiselle,65.9\\nRyan,60.9\\nKylee,90.3\\nLaith,67.4\\nSarah,71.3\\nHiroko,95.4\\nJohn,86.5\\nInez,93.4\\nCiaran,62.5\\nElvis,85.1\\nElton,70.1\\nBertha,80.5\\nCameron,76.7\\nGriffin,92.5\\nSavannah,87.3\\nSydnee,75.3\\nClarke,77.8\\nAileen,85.4\\nMichael,64.1\\nIvana,87.4\\nKerry,67.0\\nKasimir,68.2\\nCeleste,73.2\\nNyssa,76.1\\nJolene,79.3\\nBo,82.8\\nSummer,85.8\\nGloria,88.0\\nBethany,88.2\\nSonia,83.6\\nNoah,82.6\\nTravis,85.1\\nDai,100.0\\nRebekah,81.7\\nZorita,93.1\\nTara,71.0\\nKaitlin,71.0\\nPreston,67.8\\nKirk,77.0\\nZeph,88.3\\nRahim,92.9\\nLinus,88.4\\nVladimir,70.9\\nWang,93.7\\nKaseem,67.1\\nYetta,77.3\\nLacey,87.5\\nJames,71.0\\nInga,75.9\\nEagan,86.6\\nOrson,96.6\\nNoelani,75.4\\nChester,60.1\\nStuart,64.1\\nRobert,73.8\\nZephania,98.1\\nRobin,68.0\\nKamal,86.3\\nWilliam,84.0\\nMerritt,83.1\\nOrla,75.8\\nByron,92.9\\nAimee,87.0\\nDaphne,82.2\\nClarke,83.1\\nKameko,86.6\\nKamal,84.1\\nKuame,92.6\\nErasmus,87.3\\nMufutau,86.0\\nDaria,87.1\\nHamilton,82.0\\nBelle,85.7\\nHonorato,77.6\\nJosephine,89.0\\nQuentin,77.7\\nLars,71.0\\nWade,92.6\\nFaith,99.8\\nBruno,76.8\\nLacey,57.9\\nOdette,82.8\\nDavis,87.7\\nWang,76.3\\nTodd,89.8\\nOren,80.8\\nSharon,79.0\\nKareem,98.6\\nUnity,86.8\\nElla,96.5\\nHanna,81.5\\nCody,79.2\\nLatifah,66.7\\nAileen,96.5\\nBrittany,91.5\\nMarny,69.0\\nDieter,67.9\\nRaja,82.6\\nIrma,66.2\\nGray,87.5\\nPamela,61.8\\nConan,70.0\\nStella,66.1\\nXenos,91.4\\nJustin,92.0\\nKareem,81.4\\nAli,89.5\\nBethany,79.4\\nAmaya,99.2\\nWyatt,74.7\\nCarol,91.1\\nKiona,84.0\\nJocelyn,73.4\\nShellie,85.3\\nTalon,98.1\\nAlana,87.5\\nSteel,80.7\\nElvis,81.1\\nSilas,94.2\\nYasir,73.5\\nBreanna,82.5\\nNasim,83.8\\nKaitlin,95.4\\nCassidy,76.9\\nEbony,90.5\\nLeila,71.4\\nTroy,80.3\\nBuckminster,95.2\\nKessie,86.4\\nAriel,74.7\\nCailin,75.5\\nCalvin,82.7\\nConnor,84.9\\nLibby,65.1\\nKiara,100.0\\nDante,79.9\\nDalton,90.4\\nBruce,95.8\\nCara,66.1\\nCarla,95.2\\nAli,100.0\\nCadman,67.8\\nHolmes,92.2\\nLee,83.7\\nVirginia,75.0\\nGwendolyn,100.0\\nAlthea,79.4\\nMicah,76.1\\nJordan,89.4\\nWalker,85.4\\nLunea,88.7\\nOdessa,84.3\\nRisa,98.6\\nJuliet,94.6\\nFlavia,66.6\\nNoble,91.7\\nCatherine,81.9\\nCarissa,76.8\\nAiko,95.5\\nNora,85.5\\nArmando,76.5\\nKendall,81.2\\nVirginia,81.6\\nHashim,66.8\\nHedley,78.2\\nQuamar,80.2\\nTatum,71.9\\nAbraham,73.7\\nDrake,100.0\\nStella,65.5\\nLawrence,75.2\\nRylee,76.8\\nTate,68.6\\nGavin,70.4\\nBlossom,81.1\\nCarolyn,85.2\\nZia,88.2\\nFitzgerald,85.9\\nBruno,90.4\\nSilas,85.6\\nXantha,74.0\\nMaxine,77.0\\nLevi,68.1\\nJudah,93.8\\nTanya,74.6\\nCamille,100.0\\nSarah,75.4\\nColton,80.1\\nAlika,32.0\\nIfeoma,79.0\\nHakeem,74.7\\nReese,75.3\\nLance,92.2\\nAdrienne,73.4\\nAretha,83.2\\nJeremy,83.4\\nCiaran,59.3\\nNero,87.6\\nTyrone,91.4\\nAshton,80.1\\nSamantha,87.4\\nKatell,74.0\\nCallum,80.2\\nMiriam,80.9\\nDavid,75.7\\nKalia,84.5\\nQuon,71.4\\nCyrus,80.4\\nKeane,67.5\\nHammett,86.2\\nArthur,80.5\\nMary,70.6\\nPatience,87.4\\nHadassah,76.3\\nSylvester,100.0\\nPenelope,73.0\\nCamilla,70.2\\nHamish,71.1\\nWylie,82.0\\nSerena,80.4\\nTasha,73.0\\nGretchen,77.2\\nRuth,100.0\\nEric,93.2\\nSteven,60.0\\nJanna,100.0\\nJonas,85.6\\nSteven,88.7\\nPascale,76.5\\nDominic,85.2\\nMason,84.3\\nIfeoma,83.3\\nAmela,78.6\\nEve,71.7\\nLeilani,89.9\\nYoshio,76.5\\nJin,78.4\\nGay,88.9\\nSolomon,81.6\\nAmery,83.3\\nHyacinth,81.6\\nEvan,76.5\\nMerritt,74.0\\nRebekah,84.1\\nJesse,73.8\\nAaron,86.7\\nNoble,79.1\\nBeverly,88.1\\nFerdinand,89.5\\nRegina,84.8\\nQuamar,97.4\\nErasmus,75.2\\nGarth,76.0\\nEdward,79.5\\nMaryam,79.2\\nLen,83.3\\nOscar,88.9\\nFerdinand,95.6\\nAquila,71.0\\nLydia,87.3\\nCamilla,79.3\\nWalter,84.9\\nDakota,85.3\\nStuart,97.6\\nTimothy,86.7\\nAllistair,88.0\\nWing,80.6\\nCasey,87.4\\nQuintessa,74.0\\nArmando,75.0\\nChase,90.8\\nMalcolm,79.2\\nShellie,87.0\\nUta,78.2\\nLynn,84.5\\nTeegan,84.0\\nCade,98.0\\nScott,73.8\\nRafael,91.5\\nCarol,79.7\\nSawyer,71.3\\nErich,100.0\\nIliana,69.3\\nMinerva,80.2\\nAnastasia,76.4\\nNell,83.1\\nRhiannon,72.7\\nDemetria,98.6\\nDolan,82.5\\nTanek,74.4\\nCameron,87.8\\nLila,100.0\\nCleo,70.0\\nPandora,87.3\\nQuail,69.1\\nAbigail,81.5\\nKellie,71.5\\nDorian,72.5\\nLester,82.4\\nBrody,93.1\\nAlea,82.2\\nSimon,74.7\\nOscar,90.4\\nAllen,80.0\\nOctavius,84.4\\nGriffith,84.1\\nCullen,70.7\\nJerome,77.8\\nOrson,94.4\\nAdam,68.3\\nKathleen,89.1\\nJosephine,100.0\\nIndia,89.0\\nSamuel,98.2\\nLen,84.3\\nShad,84.4\\nKevyn,93.7\\nThor,90.1\\nClark,76.3\\nYetta,87.5\\nAlexandra,72.1\\nMagee,76.8\\nEzra,88.2\\nSolomon,81.6\\nZenia,86.9\\nCade,84.9\\nErica,86.4\\nConstance,71.8\\nJamal,100.0\\nFelix,82.1\\nTheodore,84.0\\nForrest,83.3\\nCassidy,75.7\\nViolet,73.7\\nBo,77.0\\nMalcolm,82.6\\nKato,78.6\\nActon,70.8\\nPorter,77.9\\nLucy,73.9\\nRama,85.7\\nAbbot,82.3\\nColette,73.3\\nAthena,90.0\\nFerris,70.4\\nTamara,92.3\\nRinah,80.8\\nTyler,94.2\\nFredericka,88.3\\nKevin,100.0\\nHayes,76.0\\nKevin,96.1\\nCiara,69.0\\nMerrill,80.9\\nScott,90.3\\nNoah,74.8\\nNathan,90.3\\nGwendolyn,82.7\\nLavinia,64.2\\nHedley,94.5\\nAbel,68.2\\nAddison,76.0\\nDora,65.4\\nRiley,100.0\\nNaida,90.8\\nGarth,90.6\\nPhilip,77.4\\nAlec,70.3\\nAretha,82.2\\nLysandra,79.2\\nKirestin,95.9\\nRebekah,79.5\\nSamson,81.9\\nMira,91.8\\nBranden,84.4\\nKasper,73.8\\nChester,79.3\\nAmir,77.6\\nElijah,84.6\\nAdena,80.2\\nSandra,97.5\\nDennis,76.3\\nBrenden,89.7\\nCadman,86.8\\nNoel,77.0\\nPaula,69.2\\nCoby,79.2\\nCally,88.2\\nSlade,68.0\\nBeau,75.0\\nZane,83.0\\nZephr,67.0\\nCraig,100.0\\nTanek,60.5\\nJaquelyn,87.1\\nLucas,83.8\\nCourtney,96.1\\nMarny,76.4\\nZelda,89.2\\nSteven,76.4\\nAlma,72.8\\nCameran,82.4\\nCaleb,93.3\\nConan,86.2\\nAudrey,69.3\\nAstra,68.2\\nDara,88.4\\nSharon,96.3\\nPaul,97.9\\nWendy,88.1\\nCharles,79.1\\nChancellor,91.1\\nCarter,92.4\\nStephanie,100.0\\nLesley,94.8\\nMufutau,82.9\\nTalon,71.2\\nIgnacia,86.1\\nSeth,100.0\\nFlavia,77.0\\nKenyon,93.1\\nInga,93.9\\nLyle,89.7\\nCarson,94.9\\nAva,93.0\\nWang,77.3\\nSteven,95.1\\nLee,62.3\\nLatifah,78.6\\nGavin,80.1\\nIndira,72.3\\nOri,89.5\\nMona,89.5\\nBrett,92.3\\nFrancesca,79.2\\nPhyllis,71.9\\nDora,80.1\\nBo,94.6\\nSonia,100.0\\nPetra,81.2\\nKarina,88.9\\nBrielle,95.9\\nTamekah,85.4\\nKyra,70.8\\nNichole,70.4\\nJoseph,89.2\\nCheryl,88.9\\nEugenia,68.1\\nScarlet,76.5\\nDaryl,88.0\\nEbony,81.6\\nHarper,67.6\\nCadman,84.7\\nBriar,87.9\\nMartena,82.2\\nElaine,84.9\\nChantale,90.5\\nDexter,69.9\\nAurelia,81.3\\nWilliam,75.7\\nHiram,93.1\\nLisandra,97.4\\nRogan,83.4\\nWendy,69.5\\nRose,69.1\\nHedy,81.3\\nZahir,86.0\\nKato,72.6\\nVielka,74.5\\nRussell,78.9\\nMaggy,91.1\\nYvonne,81.4\\nAshton,75.8\\nPreston,89.0\\nClio,85.1\\nMarshall,62.6\\nLane,79.9\\nLaura,69.2\\nAthena,100.0\\nDorian,83.7\\nGinger,72.2\\nIona,80.3\\nArsenio,81.5\\nEvelyn,81.2\\nAinsley,94.4\\nHamilton,80.2\\nChanda,92.0\\nHayley,85.8\\nChristen,78.5\\nDawn,73.2\\nSummer,99.1\\nMelissa,93.9\\nClaire,85.2\\nUrsula,84.5\\nBlaze,92.8\\nHiram,86.2\\nKeegan,43.0\\nWyatt,72.3\\nKeegan,66.7\\nRudyard,85.7\\nDaphne,85.1\\nImogene,81.3\\nUrsula,86.7\\nFitzgerald,69.6\\nDai,85.5\\nMari,81.8\\nSylvester,78.4\\nBenjamin,94.2\\nDrew,88.2\\nFleur,84.8\\nDarius,85.9\\nCedric,72.7\\nLydia,86.4\\nKeelie,74.5\\nMaxwell,85.9\\nLysandra,91.7\\nIona,79.2\\nHarriet,89.5\\nGretchen,79.4\\nHunter,89.9\\nLester,100.0\\nUpton,84.4\\nRalph,72.2\\nSusan,77.7\\nHanna,88.8\\nXena,79.2\\nFulton,96.4\\nBasil,78.1\\nCheyenne,74.6\\nSawyer,89.6\\nWilliam,89.2\\nAnthony,96.6\\nLaurel,77.3\\nIrene,79.4\\nThaddeus,98.9\\nAlfreda,72.1\\nAlec,88.3\\nHoyt,75.8\\nDolan,95.3\\nBlaine,89.6\\nCaryn,80.8\\nTanisha,75.1\\nBurton,80.3\\nNoah,81.0\\nMadaline,92.0\\nCassidy,100.0\\nCathleen,78.3\\nDesiree,79.2\\nBruno,99.9\\nLaurel,75.2\\nBethany,93.2\\nCora,99.9\\nGiacomo,71.2\\nClare,94.2\\nSteven,85.7\\nBrianna,86.8\\nFrances,83.0\\nAmela,72.1\\nLibby,84.1\\nUma,67.3\\nJacob,88.1\\nNyssa,64.9\\nTate,87.6\\nLaura,67.6\\nKareem,83.1\\nDexter,88.8\\nKibo,83.2\\nMadaline,82.5\\nMay,100.0\\nShad,86.5\\nRana,91.8\\nTobias,76.2\\nErica,83.0\\nBruce,89.7\\nBo,75.3\\nLucius,80.6\\nLee,98.3\\nMatthew,88.2\\nMari,76.1\\nPlato,76.1\\nConstance,100.0\\nCastor,91.1\\nSolomon,83.3\\nCalvin,67.6\\nLinda,82.0\\nMay,79.5\\nTobias,73.8\\nDexter,88.3\\nAmos,95.0\\nNichole,84.3\\nAmber,77.8\\nBruno,89.8\\nIsaiah,58.9\\nSamuel,86.5\\nDominic,92.9\\nClark,100.0\\nDestiny,100.0\\nGiacomo,92.1\\nHamish,86.0\\nLeigh,80.1\\nKylan,74.0\\nMalcolm,62.6\\nDai,99.0\\nMaisie,81.4\\nJillian,66.6\\nGarth,81.1\\nCharissa,86.2\\nMorgan,85.2\\nTobias,87.1\\nPhelan,87.4\\nKeaton,73.9\\nVictoria,80.4\\nAugust,80.2\\nLaurel,91.0\\nCameron,76.5\\nNolan,86.6\\nDolan,95.8\\nZenia,92.0\\nMia,65.8\\nMona,73.6\\nHayley,96.0\\nAlexandra,98.2\\nRia,100.0\\nTara,63.4\\nHadley,83.5\\nMohammad,87.2\\nBarrett,88.6\\nLester,62.7\\nMyles,100.0\\nKatelyn,82.1\\nVivien,87.9\\nNina,92.4\\nHillary,75.2\\nSamson,80.4\\nXerxes,70.4\\nPorter,61.2\\nAnn,92.3\\nBryar,73.3\\nThane,76.8\\nYoko,84.2\\nPerry,71.8\\nAdam,70.1\\nClare,74.0\\nEvangeline,94.3\\nEric,90.9\\nSloane,96.5\\nKnox,100.0\\nSimon,68.8\\nGareth,80.8\\nLinda,86.3\\nArsenio,64.0\\nDebra,74.7\\nAndrew,77.6\\nNasim,72.4\\nTiger,85.3\\nForrest,65.9\\nReese,92.2\\nAbraham,62.6\\nMalcolm,99.2\\nHerman,65.9\\nJayme,65.1\\nDuncan,84.1\\nQuamar,74.2\\nMara,73.0\\nBrian,97.8\\nNerea,90.1\\nIndia,80.1\\nTara,84.2\\nGuinevere,92.2\\nAlexander,82.8\\nLogan,73.1\\nAriana,90.8\\nRhea,81.3\\nQuon,79.2\\nSonya,80.3\\nReece,76.1\\nSlade,89.5\\nKelly,92.4\\nHayes,84.9\\nKieran,60.8\\nLaura,78.4\\nChancellor,83.4\\nBrett,71.4\\nAbra,80.1\\nJohn,77.4\\nMadonna,85.2\\nCedric,91.8\\nRudyard,75.4\\nGabriel,86.3\\nTanek,79.8\\nDane,94.9\\nWhoopi,89.7\\nKaren,88.7\\nAddison,81.8\\nEliana,74.8\\nEvan,91.1\\nJaquelyn,66.8\\nDoris,82.5\\nActon,79.5\\nNyssa,73.1\\nPhillip,74.6\\nEdan,74.1\\nHanna,91.3\\nShad,86.7\\nRahim,76.2\\nKitra,92.3\\nIllana,77.5\\nLinda,83.7\\nIlliana,93.6\\nRogan,89.2\\nTucker,74.7\\nBrock,83.4\\nLane,76.0\\nIla,79.5\\nAristotle,77.3\\nTodd,69.8\\nBlythe,100.0\\nLunea,74.8\\nAzalia,91.2\\nYael,91.4\\nKaren,83.5\\nValentine,89.7\\nBrock,82.9\\nRay,89.4\\nRay,91.8\\nHayfa,91.6\\nOrlando,86.1\\nJaden,94.8\\nJordan,86.9\\nAmber,78.0\\nXanthus,72.2\\nSelma,59.4\\nFleur,97.3\\nCarl,95.2\\nKeegan,66.2\\nRudyard,82.7\\nLance,70.6\\nArthur,76.8\\nIsaiah,69.9\\nJustine,72.8\\nLevi,72.8\\nJakeem,78.8\\nOlivia,60.6\\nDylan,64.3\\nEmerson,76.1\\nEcho,76.5\\nDevin,83.4\\nGeorgia,78.4\\nDarryl,64.3\\nLeo,75.8\\nMagee,91.1\\nClare,74.1\\nChaney,75.8\\nKyla,70.9\\nLeroy,71.2\\nMarshall,77.8\\nLogan,81.7\\nHamish,65.9\\nIlliana,84.8\\nBrenda,73.0\\nElmo,78.4\\nWilla,59.2\\nNaida,75.9\\nSydney,75.7\\nBrandon,78.6\\nMalik,87.5\\nDai,84.5\\nThane,76.9\\nClark,66.9\\nBevis,94.8\\nPascale,89.2\\nZorita,80.4\\nJerry,78.2\\nHyatt,82.3\\nPerry,81.8\\nLance,98.5\\nDeclan,83.2\\nGeraldine,79.0\\nAdara,98.5\\nWhoopi,94.8\\nLara,86.0\\nRigel,82.1\\nRaja,89.7\\nKiona,84.3\\nJade,75.1\\nTana,92.1\\nLuke,88.0\\nRegan,97.2\\nMufutau,75.3\\nJustina,73.6\\nRuby,79.4\\nTucker,95.6\\nKylan,84.0\\nValentine,100.0\\nCheyenne,81.8\\nCleo,93.9\\nTarik,92.5\\nSylvester,81.0\\nSamuel,85.6\\nGary,73.9\\nWhoopi,80.2\\nMelyssa,71.3\\nBarclay,66.3\\nGeorgia,75.3\\nDara,99.6\\nLacy,82.2\\nCameron,84.5\\nCaldwell,91.2\\nOliver,91.1\\nSamuel,90.6\\nShana,81.5\\nDexter,97.7\\nGriffith,78.5\\nChava,91.6\\nOprah,69.7\\nBrian,69.7\\nShannon,78.1\\nMartin,76.7\\nKaitlin,79.5\\nLinus,73.4\\nYoko,83.1\\nGregory,88.0\\nErica,100.0\\nUriah,74.4\\nFlynn,81.6\\nCecilia,68.2\\nDevin,99.7\\nAstra,69.5\\nCairo,85.9\\nRiley,79.0\\nNero,95.5\\nHyatt,87.8\\nArthur,81.1\\nOdette,88.3\\nIvory,75.4\\nLeonard,89.7\\nVeda,88.5\\nLenore,76.4\\nOri,77.2\\nOdette,96.2\\nDarryl,94.0\\nKessie,62.2\\nKylie,88.2\\nFulton,72.0\\nGretchen,99.4\\nNoah,74.9\\nMagee,100.0\\nCaldwell,71.9\\nCiaran,73.3\\nChase,95.0\\nAbraham,73.3\\nTimothy,89.1\\nIgnacia,100.0\\nOctavia,78.4\\nQuinn,100.0\\nChristian,89.4\\nJacob,74.3\\nUlla,83.9\\nZelenia,97.1\\nGeraldine,84.5\\nMorgan,92.3\\nMorgan,73.0\\nVladimir,83.5\\nMichael,80.0\\nOlympia,84.2\\nRichard,85.9\\nPetra,63.3\\nKirestin,88.1\\nAdam,82.7\\nMoana,72.3\\nVielka,98.0\\nIndigo,93.1\\nAutumn,78.1\\nJamal,86.9\\nKimberley,93.0\\nAshton,74.0\\nUma,78.5\\nHaley,97.7\\nRegan,81.1\\nGannon,99.6\\nGray,100.0\\nInez,93.0\\nChester,64.2\\nJin,77.0\\nBrooke,79.0\\nKeefe,77.7\\nHarrison,95.8\\nFerris,78.4\\nOlympia,89.4\\nJane,82.4\\nColin,71.7\\nCalvin,82.5\\nKermit,89.0\\nDolan,100.0\\nKendall,99.5\\nIsadora,95.2\\nKathleen,79.5\\nAmanda,75.7\\nQuinn,78.7\\nHoward,100.0\\nMerrill,68.1\\nMollie,91.3\\nAllistair,77.1\\nClaire,67.1\\nUlla,84.7\\nOcean,79.3\\nAnthony,74.2\\nMason,100.0\\nCooper,95.6\\nPandora,88.4\\nGeorge,75.0\\nKermit,68.6\\nHarlan,85.1\\nMariko,91.1\\nRafael,71.2\\nXavier,79.4\\nDorothy,77.7\\nCamden,88.1\\nGil,83.8\\nRyan,88.1\\nMikayla,67.3\\nBeatrice,61.1\\nHalla,100.0\\nIngrid,72.1\\nCeleste,88.6\\nShelly,74.8\\nSusan,76.4\\nAurelia,72.2\\nIvy,83.1\\nWesley,86.6\\nArmand,95.5\\nHamish,71.2\\nSloane,76.4\\nDenise,71.7\\nMaxwell,77.9\\nElmo,74.8\\nIsabelle,67.9\\nCassidy,98.5\\nAddison,91.1\\nClayton,84.1\\nDillon,80.6\\nGarth,80.3\\nVanna,77.3\\nOctavia,81.0\\nMelvin,95.9\\nHarriet,100.0\\nKendall,87.2\\nYoshio,94.7\\nGregory,77.5\\nWylie,88.2\\nShaine,100.0\\nSonya,85.1\\nLacy,76.5\\nAmanda,78.6\\nPerry,86.0\\nMelanie,81.5\\nLev,77.2\\nVladimir,83.0\\nBlossom,72.7\\nNeville,90.8\\nActon,67.0\\nMariko,77.0\\nRafael,75.3\\nLevi,63.0\\nDeclan,89.7\\nRaven,86.1\\nBarbara,88.7\\nSierra,65.7\\nTeegan,81.5\\nDolan,84.1\\nIdola,70.0\\nZorita,85.0\\nBeck,80.1\\nGillian,63.4\\nIona,77.5\\nZachery,72.2\\nKiona,85.8\\nScott,89.2\\nVivian,86.5\\nJermaine,99.1\\nGraiden,66.6\\nKeegan,86.3\\nCedric,98.8\\nMechelle,72.0\\nJackson,82.4\\nLinus,91.3\\nZenaida,87.4\\nLarissa,79.7\\nLilah,93.5\\nChastity,83.6\\nDustin,90.6\\nJuliet,85.5\\nDaphne,89.7\\nOrli,68.0\\nGisela,89.1\\nMacey,94.7\\nJeremy,92.3\\nDuncan,91.8\\nTamara,74.2\\nHannah,79.8\\nAlan,76.4\\nCalvin,77.6\\nMerritt,68.4\\nLysandra,81.3\\nOra,75.4\\nSeptember,100.0\\nDamian,71.3\\nMercedes,82.4\\nMara,85.0\\nTucker,83.9\\nDominic,75.5\\nKaren,77.4\\nFletcher,71.6\\nValentine,89.1\\nLarissa,82.7\\nSacha,78.5\\nOliver,86.4\\nLeonard,79.7\\nJenna,56.3\\nEmily,89.4\\nMarny,86.8\\nHanae,83.7\\nSharon,87.8\\nErin,98.5\\nJoel,93.0\\nEmmanuel,86.1\\nDamon,88.5\\nErasmus,73.4\\nSierra,95.8\\nKennan,80.6\\nTimothy,96.7\\nFerris,74.2\\nOwen,81.8\\nBuffy,79.9\\nMalachi,88.3\\nDavid,76.8\\nJermaine,60.5\\nLisandra,80.9\\nColin,63.8\\nZane,70.3\\nAiko,83.1\\nAkeem,89.9\\nJaden,88.2\\nBrody,76.4\\nVelma,74.9\\nWayne,88.8\\nLevi,72.0\\nJack,92.0\\nCarter,84.2\\nRandall,87.8\\nKaitlin,74.3\\nZachary,80.6\\nAhmed,80.0\\nLunea,87.5\\nRoanna,81.6\\nLaurel,72.1\\nAudrey,88.3\\nGrant,95.5\\nIdona,90.2\\nHarlan,96.5\\nIndira,80.3\\nAli,72.7\\nHedy,79.2\\nIsadora,75.0\\nNoah,91.2\\nNathaniel,71.8\\nChaney,87.9\\nAngela,66.0\\nShea,92.9\\nAsher,100.0\\nKirsten,78.0\\nMason,74.1\\nLeonard,69.9\\nRiley,70.8\\nShoshana,82.5\\nMegan,74.2\\nVelma,85.3\\nTaylor,94.1\\nHarding,66.2\\nBrenna,71.4\\nLucas,87.8\\nVladimir,71.8\\nCasey,80.4\\nQuon,69.2\\nBaxter,76.4\\nTiger,98.2\\nMaia,87.3\\nMaia,78.4\\nMalachi,78.9\\nClementine,90.3\\nZephr,97.3\\nGay,88.7\\nLeila,72.9\\nDavid,91.3\\nTravis,86.1\\nKevin,74.1\\nBryar,80.8\\nLinda,61.7\\nAkeem,85.1\\nLeandra,67.1\\nFlavia,71.1\\nAllegra,80.9\\nGeoffrey,82.5\\nWyoming,87.0\\nUlric,81.9\\nAdara,68.2\\nMacKenzie,77.4\\nBrenden,82.2\\nLewis,86.6\\nRenee,68.4\\nBurke,65.8\\nKirby,97.3\\nKatelyn,77.0\\nJaime,77.9\\nDillon,60.3\\nHarper,85.6\\nAlden,80.5\\nJane,95.0\\nGray,76.0\\nColt,94.1\\nMatthew,85.7\\nAbra,71.7\\nXander,68.6\\nBrody,93.8\\nPhillip,87.9\\nBarbara,93.7\\nPetra,92.5\\nBlaze,85.7\\nDylan,90.0\\nClio,100.0\\nWynne,95.1\\nShelly,74.0\\nMacon,88.2\\nRae,89.8\\nIsaiah,82.3\\nGarrett,78.1\\nCarson,96.4\\nWarren,82.3\\nYolanda,71.1\\nCallum,76.9\\nLydia,83.0\\nGalena,92.1\\nMarshall,78.8\\nSasha,73.9\\nTanner,97.9\\nGisela,92.8\\nHoward,97.1\\nKenneth,86.1\\nHalee,93.8\\nAvye,84.4\\nTanisha,75.3\\nDora,89.9\\nFreya,89.4\\nCassady,100.0\\nCullen,84.3\\nKim,90.2\\nWarren,79.5\\nAlan,87.3\\nBlossom,100.0\\nVelma,76.4\\nKaitlin,86.4\\nGriffin,83.0\\nConstance,75.3\\nColorado,100.0\\nNolan,71.5\\nHadassah,79.2\\nFitzgerald,80.4\\nMadeline,80.3\\nNicholas,85.2\\nMarvin,72.8\\nKeiko,69.5\\nGray,71.2\\nOdessa,76.7\\nIgor,100.0\\nDenise,100.0\\nRhona,90.3\\nDesiree,98.1\\nXavier,66.0\\nIvor,68.9\\nElvis,82.5\\nLester,83.9\\nRashad,84.5\\nRhoda,72.8\\nHonorato,100.0\\nAnjolie,80.8\\nAlvin,83.7\\nGarrison,87.2\\nHunter,95.2\\nShafira,85.5\\nAvram,100.0\\nMacey,84.0\\nPenelope,83.1\\nKane,70.6\\nAlvin,91.5\\nTanner,80.7\\nKelsie,83.7\\nCheyenne,61.3\\nHermione,79.9\\nHanae,83.1\\nVladimir,84.1\\nPlato,71.8\\nAriana,78.1\\nNevada,81.3\\nCarter,71.4\\nClayton,100.0\\nGabriel,94.4\\nAurora,81.0\\nPandora,90.3\\nJocelyn,86.9\\nAmos,69.3\\nMay,77.3\\nCara,81.3\\nDolan,86.0\\nFelix,89.7\\nAbbot,81.0\\nFlavia,82.5\\nInez,60.9\\nNigel,77.3\\nRoss,71.1\\nVirginia,92.0\\nGloria,88.4\\nLyle,81.9\\nOscar,79.2\\nChandler,81.9\\nKaren,71.8\\nDemetria,77.2\\nKarly,89.3\\nLucius,93.1\\nShafira,98.1\\nSonia,83.1\\nRhona,78.7\\nTimothy,64.0\\nColin,86.0\\nKatelyn,82.6\\nJorden,87.6\\nJosiah,83.6\\nYuri,60.8\\nCarolyn,72.5\\nRaja,98.6\\nBrenden,72.8\\nHector,88.2\\nWang,79.1\\nNita,92.1\\nGay,100.0\\nKelsie,73.8\\nLysandra,92.2\\nBrynn,75.0\\nHarrison,91.5\\nCarol,100.0\\nLeonard,95.6\\nHyatt,89.1\\nKirk,77.0\\nLee,99.7\\nAdam,88.2\\nHenry,75.7\\nHop,68.3\\nDolan,76.9\\nNaomi,100.0\\nMarcia,79.4\\nXenos,85.5\\nOscar,90.3\\nMiriam,95.0\\nChiquita,74.6\\nChadwick,90.3\\nWarren,62.6\\nGriffin,73.2\\nKeegan,70.7\\nSkyler,66.3\\nMaggy,85.1\\nLeandra,89.5\\nUnity,91.6\\nMufutau,66.0\\nJaden,61.2\\nRaya,83.1\\nMontana,88.9\\nAstra,75.3\\nChandler,87.5\\nGalena,72.1\\nDarrel,91.5\\nAli,76.9\\nColorado,76.2\\nGannon,93.3\\nOmar,66.6\\nHoyt,90.2\\nCameron,79.3\\nUta,83.9\\nGavin,87.9\\nKay,83.5\\nJoan,89.8\\nMercedes,79.0\\nBrynn,87.5\\nJustina,90.2\\nCamden,88.2\\nAngela,73.3\\nLeandra,94.4\\nWilliam,64.2\\nOdette,68.2\\nAva,75.0\\nXavier,69.0\\nAmethyst,66.1\\nUlric,80.9\\nBrandon,83.1\\nDolan,72.3\\nAspen,96.8\\nSigne,71.8\\nLunea,85.3\\nAlvin,90.1\\nHerman,88.4\\nKeane,97.3\\nPeter,83.2\\nNeil,79.1\\nCairo,88.0\\nCaryn,83.5\\nAspen,77.2\\nJosiah,86.1\\nGareth,83.0\\nGermaine,85.3\\nLev,71.8\\nJackson,91.2\\nMartin,77.0\\nDrake,96.0\\nArmando,97.5\\nClark,89.2\\nWanda,84.7\\nShay,77.7\\nQuentin,85.5\\nKarleigh,97.3\\nXaviera,92.5\\nClayton,86.9\\nOprah,78.7\\nKatelyn,74.0\\nAmal,66.3\\nAkeem,76.2\\nAubrey,87.1\\nCandice,68.9\\nColby,82.8\\nCooper,80.1\\nWhoopi,76.1\\nMona,78.8\\nJocelyn,61.1\\nReece,83.5\\nVera,83.6\\nCaleb,76.8\\nBuckminster,79.6\\nDexter,72.0\\nGage,77.7\\nKendall,85.7\\nCharles,74.3\\nBrynn,64.7\\nAlec,90.1\\nRogan,71.9\\nHashim,79.9\\nQuintessa,73.5\\nOdette,85.0\\nXander,71.0\\nJenna,81.7\\nKylan,81.7\\nDahlia,82.3\\nPhillip,100.0\\nMaxwell,100.0\\nLouis,100.0\\nSophia,82.0\\nVera,100.0\\nAnn,93.1\\nCalista,91.5\\nLen,90.1\\nBo,79.9\\nWilma,80.7\\nYael,100.0\\nSalvador,99.9\\nRoary,85.4\\nChristen,73.9\\nGraham,99.3\\nJudah,95.2\\nGeoffrey,86.6\\nSlade,83.2\\nDanielle,89.0\\nMurphy,100.0\\nKareem,82.5\\nHenry,78.4\\nKeely,84.3\\nHonorato,93.9\\nChaim,77.1\\nTodd,88.7\\nTara,77.1\\nIndia,85.5\\nAlfreda,76.8\\nPaki,90.6\\nHarper,73.3\\nCharles,87.3\\nMichelle,95.1\\nPorter,81.0\\nClayton,86.4\\nInez,74.3\\nLevi,55.9\\nLyle,88.8\\nMariko,69.5\\nJames,82.7\\nTatum,91.1\\nLyle,76.6\\nIsabella,92.5\\nGage,77.2\\nGraham,88.2\\nHelen,94.5\\nChanda,64.9\\nKarly,86.6\\nFitzgerald,59.8\\nJayme,90.7\\nAngela,81.5\\nDana,93.7\\nIfeoma,75.1\\nCairo,87.2\\nFitzgerald,93.4\\nCarlos,92.4\\nMacy,84.1\\nHalla,68.4\\nIlliana,82.0\\nJuliet,100.0\\nTamekah,70.9\\nLucian,64.9\\nIsaac,80.9\\nHakeem,90.6\\nBasil,84.1\\nNora,98.9\\nMalik,86.8\\nAbbot,87.5\\nTanek,89.5\\nPhyllis,92.4\\nVance,91.5\\nSandra,86.4\\nCarol,87.3\\nZenaida,95.6\\nEzekiel,62.8\\nReece,84.6\\nGail,56.1\\nNeil,94.9\\nPiper,73.4\\nMaxwell,68.7\\nIris,79.2\\nZoe,83.7\\nKevin,60.1\\nOrson,85.1\\nLionel,84.9\\nMari,97.5\\nStewart,80.7\\nLevi,85.5\\nPhelan,100.0\\nJeanette,85.0\\nXanthus,59.8\\nKeelie,84.2\\nLillith,92.4\\nSandra,71.9\\nJarrod,76.1\\nYolanda,80.3\\nFelix,87.3\\nLuke,70.1\\nRana,88.5\\nAdena,100.0\\nBert,84.9\\nJada,74.6\\nOrla,91.3\\nHayden,83.5\\nDemetria,92.5\\nCastor,82.7\\nAlisa,80.3\\nMaxine,87.4\\nWilma,67.0\\nKirk,83.7\\nNadine,70.1\\nBrianna,100.0\\nThane,82.4\\nYvette,72.8\\nEzekiel,74.5\\nArmando,93.8\\nKaseem,97.1\\nLydia,71.7\\nTatum,75.0\\nErin,71.4\\nBeatrice,82.5\\nCarlos,98.7\\nNeve,79.8\\nAileen,91.4\\nCraig,66.4\\nChelsea,91.4\\nEmerald,78.4\\nNero,88.3\\nAugust,87.2\\nColleen,70.2\\nZenaida,91.3\\nLavinia,62.2\\nStone,87.4\\nAurora,90.3\\nCarlos,82.2\\nRandall,83.1\\nArmando,93.2\\nHaley,90.4\\nFritz,79.5\\nAllistair,74.2\\nElla,68.0\\nFelix,75.2\\nDean,74.5\\nQuinlan,85.6\\nKiara,82.7\\nKai,100.0\\nMaxine,91.9\\nLeah,100.0\\nKalia,61.4\\nAnthony,93.1\\nJoshua,72.7\\nAkeem,74.4\\nIndigo,91.3\\nPrice,78.6\\nQuinn,78.0\\nJohn,91.2\\nAdena,70.2\\nCraig,64.9\\nIsabelle,78.5\\nRisa,74.3\\nEmerson,67.5\\nCody,80.1\\nGeraldine,100.0\\nMercedes,84.9\\nLucius,69.1\\nLinus,79.6\\n'"
            ]
          },
          "metadata": {
            "tags": []
          },
          "execution_count": 4
        }
      ]
    },
    {
      "cell_type": "code",
      "metadata": {
        "colab": {
          "base_uri": "https://localhost:8080/",
          "height": 402
        },
        "id": "6E8ILFQkIaAf",
        "outputId": "5c70c2fa-cb9f-4bc2-c532-852a0adaffe5"
      },
      "source": [
        "#Display data of .csv file without header\n",
        "df=pd.read_csv(location,header=None)\n",
        "df"
      ],
      "execution_count": null,
      "outputs": [
        {
          "output_type": "execute_result",
          "data": {
            "text/html": [
              "<div>\n",
              "<style scoped>\n",
              "    .dataframe tbody tr th:only-of-type {\n",
              "        vertical-align: middle;\n",
              "    }\n",
              "\n",
              "    .dataframe tbody tr th {\n",
              "        vertical-align: top;\n",
              "    }\n",
              "\n",
              "    .dataframe thead th {\n",
              "        text-align: right;\n",
              "    }\n",
              "</style>\n",
              "<table border=\"1\" class=\"dataframe\">\n",
              "  <thead>\n",
              "    <tr style=\"text-align: right;\">\n",
              "      <th></th>\n",
              "      <th>0</th>\n",
              "      <th>1</th>\n",
              "    </tr>\n",
              "  </thead>\n",
              "  <tbody>\n",
              "    <tr>\n",
              "      <th>0</th>\n",
              "      <td>Name</td>\n",
              "      <td>Grade</td>\n",
              "    </tr>\n",
              "    <tr>\n",
              "      <th>1</th>\n",
              "      <td>Marcia</td>\n",
              "      <td>82.4</td>\n",
              "    </tr>\n",
              "    <tr>\n",
              "      <th>2</th>\n",
              "      <td>Kadeem</td>\n",
              "      <td>78.2</td>\n",
              "    </tr>\n",
              "    <tr>\n",
              "      <th>3</th>\n",
              "      <td>Nash</td>\n",
              "      <td>79.3</td>\n",
              "    </tr>\n",
              "    <tr>\n",
              "      <th>4</th>\n",
              "      <td>Noelani</td>\n",
              "      <td>83.2</td>\n",
              "    </tr>\n",
              "    <tr>\n",
              "      <th>...</th>\n",
              "      <td>...</td>\n",
              "      <td>...</td>\n",
              "    </tr>\n",
              "    <tr>\n",
              "      <th>1996</th>\n",
              "      <td>Cody</td>\n",
              "      <td>80.1</td>\n",
              "    </tr>\n",
              "    <tr>\n",
              "      <th>1997</th>\n",
              "      <td>Geraldine</td>\n",
              "      <td>100.0</td>\n",
              "    </tr>\n",
              "    <tr>\n",
              "      <th>1998</th>\n",
              "      <td>Mercedes</td>\n",
              "      <td>84.9</td>\n",
              "    </tr>\n",
              "    <tr>\n",
              "      <th>1999</th>\n",
              "      <td>Lucius</td>\n",
              "      <td>69.1</td>\n",
              "    </tr>\n",
              "    <tr>\n",
              "      <th>2000</th>\n",
              "      <td>Linus</td>\n",
              "      <td>79.6</td>\n",
              "    </tr>\n",
              "  </tbody>\n",
              "</table>\n",
              "<p>2001 rows × 2 columns</p>\n",
              "</div>"
            ],
            "text/plain": [
              "              0      1\n",
              "0          Name  Grade\n",
              "1        Marcia   82.4\n",
              "2        Kadeem   78.2\n",
              "3          Nash   79.3\n",
              "4       Noelani   83.2\n",
              "...         ...    ...\n",
              "1996       Cody   80.1\n",
              "1997  Geraldine  100.0\n",
              "1998   Mercedes   84.9\n",
              "1999     Lucius   69.1\n",
              "2000      Linus   79.6\n",
              "\n",
              "[2001 rows x 2 columns]"
            ]
          },
          "metadata": {
            "tags": []
          },
          "execution_count": 5
        }
      ]
    },
    {
      "cell_type": "code",
      "metadata": {
        "colab": {
          "base_uri": "https://localhost:8080/",
          "height": 195
        },
        "id": "HNyCMAXBJEiL",
        "outputId": "ba8510d3-6b58-4510-81be-ff33af53d3d9"
      },
      "source": [
        "#Display first five lines of data\n",
        "df.head()"
      ],
      "execution_count": null,
      "outputs": [
        {
          "output_type": "execute_result",
          "data": {
            "text/html": [
              "<div>\n",
              "<style scoped>\n",
              "    .dataframe tbody tr th:only-of-type {\n",
              "        vertical-align: middle;\n",
              "    }\n",
              "\n",
              "    .dataframe tbody tr th {\n",
              "        vertical-align: top;\n",
              "    }\n",
              "\n",
              "    .dataframe thead th {\n",
              "        text-align: right;\n",
              "    }\n",
              "</style>\n",
              "<table border=\"1\" class=\"dataframe\">\n",
              "  <thead>\n",
              "    <tr style=\"text-align: right;\">\n",
              "      <th></th>\n",
              "      <th>0</th>\n",
              "      <th>1</th>\n",
              "    </tr>\n",
              "  </thead>\n",
              "  <tbody>\n",
              "    <tr>\n",
              "      <th>0</th>\n",
              "      <td>Name</td>\n",
              "      <td>Grade</td>\n",
              "    </tr>\n",
              "    <tr>\n",
              "      <th>1</th>\n",
              "      <td>Marcia</td>\n",
              "      <td>82.4</td>\n",
              "    </tr>\n",
              "    <tr>\n",
              "      <th>2</th>\n",
              "      <td>Kadeem</td>\n",
              "      <td>78.2</td>\n",
              "    </tr>\n",
              "    <tr>\n",
              "      <th>3</th>\n",
              "      <td>Nash</td>\n",
              "      <td>79.3</td>\n",
              "    </tr>\n",
              "    <tr>\n",
              "      <th>4</th>\n",
              "      <td>Noelani</td>\n",
              "      <td>83.2</td>\n",
              "    </tr>\n",
              "  </tbody>\n",
              "</table>\n",
              "</div>"
            ],
            "text/plain": [
              "         0      1\n",
              "0     Name  Grade\n",
              "1   Marcia   82.4\n",
              "2   Kadeem   78.2\n",
              "3     Nash   79.3\n",
              "4  Noelani   83.2"
            ]
          },
          "metadata": {
            "tags": []
          },
          "execution_count": 6
        }
      ]
    },
    {
      "cell_type": "code",
      "metadata": {
        "colab": {
          "base_uri": "https://localhost:8080/",
          "height": 195
        },
        "id": "SHDlWGqmJLr3",
        "outputId": "952aaa41-a57a-49b7-c5eb-fa2eb6400efd"
      },
      "source": [
        "#loading data from CSV file and adding header\n",
        "location=\"/datasets/smallgradesh.csv\"\n",
        "\n",
        "#To add headers as we load\n",
        "df=pd.read_csv(location,names=['Names','Grades'])\n",
        "#To add headers to dataframe\n",
        "df.columns=['Names','Grades']\n",
        "df.head()"
      ],
      "execution_count": null,
      "outputs": [
        {
          "output_type": "execute_result",
          "data": {
            "text/html": [
              "<div>\n",
              "<style scoped>\n",
              "    .dataframe tbody tr th:only-of-type {\n",
              "        vertical-align: middle;\n",
              "    }\n",
              "\n",
              "    .dataframe tbody tr th {\n",
              "        vertical-align: top;\n",
              "    }\n",
              "\n",
              "    .dataframe thead th {\n",
              "        text-align: right;\n",
              "    }\n",
              "</style>\n",
              "<table border=\"1\" class=\"dataframe\">\n",
              "  <thead>\n",
              "    <tr style=\"text-align: right;\">\n",
              "      <th></th>\n",
              "      <th>Names</th>\n",
              "      <th>Grades</th>\n",
              "    </tr>\n",
              "  </thead>\n",
              "  <tbody>\n",
              "    <tr>\n",
              "      <th>0</th>\n",
              "      <td>Name</td>\n",
              "      <td>Grade</td>\n",
              "    </tr>\n",
              "    <tr>\n",
              "      <th>1</th>\n",
              "      <td>Marcia</td>\n",
              "      <td>82.4</td>\n",
              "    </tr>\n",
              "    <tr>\n",
              "      <th>2</th>\n",
              "      <td>Kadeem</td>\n",
              "      <td>78.2</td>\n",
              "    </tr>\n",
              "    <tr>\n",
              "      <th>3</th>\n",
              "      <td>Nash</td>\n",
              "      <td>79.3</td>\n",
              "    </tr>\n",
              "    <tr>\n",
              "      <th>4</th>\n",
              "      <td>Noelani</td>\n",
              "      <td>83.2</td>\n",
              "    </tr>\n",
              "  </tbody>\n",
              "</table>\n",
              "</div>"
            ],
            "text/plain": [
              "     Names Grades\n",
              "0     Name  Grade\n",
              "1   Marcia   82.4\n",
              "2   Kadeem   78.2\n",
              "3     Nash   79.3\n",
              "4  Noelani   83.2"
            ]
          },
          "metadata": {
            "tags": []
          },
          "execution_count": 7
        }
      ]
    },
    {
      "cell_type": "markdown",
      "metadata": {
        "id": "1W_aN63KJyAh"
      },
      "source": [
        "# **`TASK 2-SAVING DATA TO CSV`**\n",
        "While doing analysis, you can save your progress into a file."
      ]
    },
    {
      "cell_type": "code",
      "metadata": {
        "colab": {
          "base_uri": "https://localhost:8080/",
          "height": 195
        },
        "id": "b7lPi3NLKUed",
        "outputId": "f9f17bff-219d-4a78-c515-40e13e0cfc73"
      },
      "source": [
        "#Exporting a dataset to CSV\n",
        "import pandas as pd\n",
        "names=['Bob','Jessica','Mary','John','Mel']\n",
        "grades=[76,95,77,78,99]\n",
        "GradeList=zip(names,grades)\n",
        "df=pd.DataFrame(data=GradeList,columns=['Names','Grades'])\n",
        "df.to_csv('studentgrades.csv',index=False,header=False)\n",
        "df  "
      ],
      "execution_count": null,
      "outputs": [
        {
          "output_type": "execute_result",
          "data": {
            "text/html": [
              "<div>\n",
              "<style scoped>\n",
              "    .dataframe tbody tr th:only-of-type {\n",
              "        vertical-align: middle;\n",
              "    }\n",
              "\n",
              "    .dataframe tbody tr th {\n",
              "        vertical-align: top;\n",
              "    }\n",
              "\n",
              "    .dataframe thead th {\n",
              "        text-align: right;\n",
              "    }\n",
              "</style>\n",
              "<table border=\"1\" class=\"dataframe\">\n",
              "  <thead>\n",
              "    <tr style=\"text-align: right;\">\n",
              "      <th></th>\n",
              "      <th>Names</th>\n",
              "      <th>Grades</th>\n",
              "    </tr>\n",
              "  </thead>\n",
              "  <tbody>\n",
              "    <tr>\n",
              "      <th>0</th>\n",
              "      <td>Bob</td>\n",
              "      <td>76</td>\n",
              "    </tr>\n",
              "    <tr>\n",
              "      <th>1</th>\n",
              "      <td>Jessica</td>\n",
              "      <td>95</td>\n",
              "    </tr>\n",
              "    <tr>\n",
              "      <th>2</th>\n",
              "      <td>Mary</td>\n",
              "      <td>77</td>\n",
              "    </tr>\n",
              "    <tr>\n",
              "      <th>3</th>\n",
              "      <td>John</td>\n",
              "      <td>78</td>\n",
              "    </tr>\n",
              "    <tr>\n",
              "      <th>4</th>\n",
              "      <td>Mel</td>\n",
              "      <td>99</td>\n",
              "    </tr>\n",
              "  </tbody>\n",
              "</table>\n",
              "</div>"
            ],
            "text/plain": [
              "     Names  Grades\n",
              "0      Bob      76\n",
              "1  Jessica      95\n",
              "2     Mary      77\n",
              "3     John      78\n",
              "4      Mel      99"
            ]
          },
          "metadata": {
            "tags": []
          },
          "execution_count": 8
        }
      ]
    },
    {
      "cell_type": "code",
      "metadata": {
        "colab": {
          "base_uri": "https://localhost:8080/",
          "height": 195
        },
        "id": "cwVnDCvj5dpM",
        "outputId": "bfea0d10-fc31-4970-85f7-a687e8838696"
      },
      "source": [
        "import pandas as pd\n",
        "names=['Bob','Jessica','Mary','John','Mel']\n",
        "grades=[76,95,77,78,99]\n",
        "bsdeg=[1,1,0,0,1]\n",
        "msdeg=[2,1,0,0,0]\n",
        "phd=[0,1,0,0,0]\n",
        "GradeList=zip(names,grades,bsdeg,msdeg,phd)\n",
        "df=pd.DataFrame(data=GradeList,columns=['Names','Grades','BS','MS','Phd'])\n",
        "df.to_csv('studentgrades.csv',index=False,header=False)\n",
        "df  "
      ],
      "execution_count": null,
      "outputs": [
        {
          "output_type": "execute_result",
          "data": {
            "text/html": [
              "<div>\n",
              "<style scoped>\n",
              "    .dataframe tbody tr th:only-of-type {\n",
              "        vertical-align: middle;\n",
              "    }\n",
              "\n",
              "    .dataframe tbody tr th {\n",
              "        vertical-align: top;\n",
              "    }\n",
              "\n",
              "    .dataframe thead th {\n",
              "        text-align: right;\n",
              "    }\n",
              "</style>\n",
              "<table border=\"1\" class=\"dataframe\">\n",
              "  <thead>\n",
              "    <tr style=\"text-align: right;\">\n",
              "      <th></th>\n",
              "      <th>Names</th>\n",
              "      <th>Grades</th>\n",
              "      <th>BS</th>\n",
              "      <th>MS</th>\n",
              "      <th>Phd</th>\n",
              "    </tr>\n",
              "  </thead>\n",
              "  <tbody>\n",
              "    <tr>\n",
              "      <th>0</th>\n",
              "      <td>Bob</td>\n",
              "      <td>76</td>\n",
              "      <td>1</td>\n",
              "      <td>2</td>\n",
              "      <td>0</td>\n",
              "    </tr>\n",
              "    <tr>\n",
              "      <th>1</th>\n",
              "      <td>Jessica</td>\n",
              "      <td>95</td>\n",
              "      <td>1</td>\n",
              "      <td>1</td>\n",
              "      <td>1</td>\n",
              "    </tr>\n",
              "    <tr>\n",
              "      <th>2</th>\n",
              "      <td>Mary</td>\n",
              "      <td>77</td>\n",
              "      <td>0</td>\n",
              "      <td>0</td>\n",
              "      <td>0</td>\n",
              "    </tr>\n",
              "    <tr>\n",
              "      <th>3</th>\n",
              "      <td>John</td>\n",
              "      <td>78</td>\n",
              "      <td>0</td>\n",
              "      <td>0</td>\n",
              "      <td>0</td>\n",
              "    </tr>\n",
              "    <tr>\n",
              "      <th>4</th>\n",
              "      <td>Mel</td>\n",
              "      <td>99</td>\n",
              "      <td>1</td>\n",
              "      <td>0</td>\n",
              "      <td>0</td>\n",
              "    </tr>\n",
              "  </tbody>\n",
              "</table>\n",
              "</div>"
            ],
            "text/plain": [
              "     Names  Grades  BS  MS  Phd\n",
              "0      Bob      76   1   2    0\n",
              "1  Jessica      95   1   1    1\n",
              "2     Mary      77   0   0    0\n",
              "3     John      78   0   0    0\n",
              "4      Mel      99   1   0    0"
            ]
          },
          "metadata": {
            "tags": []
          },
          "execution_count": 9
        }
      ]
    },
    {
      "cell_type": "markdown",
      "metadata": {
        "id": "wx30lKZ556bi"
      },
      "source": [
        "##**Loading data from excel files**"
      ]
    },
    {
      "cell_type": "code",
      "metadata": {
        "colab": {
          "base_uri": "https://localhost:8080/",
          "height": 195
        },
        "id": "CogHRsBW6AkY",
        "outputId": "b9bd50d0-4306-43e2-f3cf-f92d6460981d"
      },
      "source": [
        "#Loading data from excel\n",
        "import pandas as pd\n",
        "location=\"/datasets/gradedata.xlsx\"\n",
        "df= pd.read_excel(location)\n",
        "\n",
        "#Changing column name\n",
        "df.columns=['first','last','sex','age','exer','hrs','grd','addr']\n",
        "df.head()"
      ],
      "execution_count": null,
      "outputs": [
        {
          "output_type": "execute_result",
          "data": {
            "text/html": [
              "<div>\n",
              "<style scoped>\n",
              "    .dataframe tbody tr th:only-of-type {\n",
              "        vertical-align: middle;\n",
              "    }\n",
              "\n",
              "    .dataframe tbody tr th {\n",
              "        vertical-align: top;\n",
              "    }\n",
              "\n",
              "    .dataframe thead th {\n",
              "        text-align: right;\n",
              "    }\n",
              "</style>\n",
              "<table border=\"1\" class=\"dataframe\">\n",
              "  <thead>\n",
              "    <tr style=\"text-align: right;\">\n",
              "      <th></th>\n",
              "      <th>first</th>\n",
              "      <th>last</th>\n",
              "      <th>sex</th>\n",
              "      <th>age</th>\n",
              "      <th>exer</th>\n",
              "      <th>hrs</th>\n",
              "      <th>grd</th>\n",
              "      <th>addr</th>\n",
              "    </tr>\n",
              "  </thead>\n",
              "  <tbody>\n",
              "    <tr>\n",
              "      <th>0</th>\n",
              "      <td>Marcia</td>\n",
              "      <td>Pugh</td>\n",
              "      <td>female</td>\n",
              "      <td>17</td>\n",
              "      <td>3</td>\n",
              "      <td>10</td>\n",
              "      <td>82.4</td>\n",
              "      <td>7379 Highland Rd. , Dublin, GA 31021</td>\n",
              "    </tr>\n",
              "    <tr>\n",
              "      <th>1</th>\n",
              "      <td>Kadeem</td>\n",
              "      <td>Morrison</td>\n",
              "      <td>male</td>\n",
              "      <td>18</td>\n",
              "      <td>4</td>\n",
              "      <td>4</td>\n",
              "      <td>78.2</td>\n",
              "      <td>8 Bayport St. , Honolulu, HI 96815</td>\n",
              "    </tr>\n",
              "    <tr>\n",
              "      <th>2</th>\n",
              "      <td>Nash</td>\n",
              "      <td>Powell</td>\n",
              "      <td>male</td>\n",
              "      <td>18</td>\n",
              "      <td>5</td>\n",
              "      <td>9</td>\n",
              "      <td>79.3</td>\n",
              "      <td>Encino, CA 91316, 3 Lilac Street</td>\n",
              "    </tr>\n",
              "    <tr>\n",
              "      <th>3</th>\n",
              "      <td>Noelani</td>\n",
              "      <td>Wagner</td>\n",
              "      <td>female</td>\n",
              "      <td>14</td>\n",
              "      <td>2</td>\n",
              "      <td>7</td>\n",
              "      <td>83.2</td>\n",
              "      <td>Riverview, FL 33569, 9998 North Smith Dr.</td>\n",
              "    </tr>\n",
              "    <tr>\n",
              "      <th>4</th>\n",
              "      <td>Noelani</td>\n",
              "      <td>Cherry</td>\n",
              "      <td>female</td>\n",
              "      <td>18</td>\n",
              "      <td>4</td>\n",
              "      <td>15</td>\n",
              "      <td>87.4</td>\n",
              "      <td>97 SE. Ocean Street , Bethlehem, PA 18015</td>\n",
              "    </tr>\n",
              "  </tbody>\n",
              "</table>\n",
              "</div>"
            ],
            "text/plain": [
              "     first      last  ...   grd                                        addr\n",
              "0   Marcia      Pugh  ...  82.4        7379 Highland Rd. , Dublin, GA 31021\n",
              "1   Kadeem  Morrison  ...  78.2          8 Bayport St. , Honolulu, HI 96815\n",
              "2     Nash    Powell  ...  79.3           Encino, CA 91316, 3 Lilac Street \n",
              "3  Noelani    Wagner  ...  83.2  Riverview, FL 33569, 9998 North Smith Dr. \n",
              "4  Noelani    Cherry  ...  87.4   97 SE. Ocean Street , Bethlehem, PA 18015\n",
              "\n",
              "[5 rows x 8 columns]"
            ]
          },
          "metadata": {
            "tags": []
          },
          "execution_count": 10
        }
      ]
    },
    {
      "cell_type": "markdown",
      "metadata": {
        "id": "0Adc-Q9V7WrB"
      },
      "source": [
        "##**Saving data to excel file**"
      ]
    },
    {
      "cell_type": "code",
      "metadata": {
        "colab": {
          "base_uri": "https://localhost:8080/"
        },
        "id": "C_SNb4-Q7b-W",
        "outputId": "76c9da36-61df-4c01-b7c6-17cb8ec6db00"
      },
      "source": [
        "pip install xlsxwriter"
      ],
      "execution_count": null,
      "outputs": [
        {
          "output_type": "stream",
          "text": [
            "Collecting xlsxwriter\n",
            "\u001b[?25l  Downloading https://files.pythonhosted.org/packages/6b/41/bf1aae04932d1eaffee1fc5f8b38ca47bbbf07d765129539bc4bcce1ce0c/XlsxWriter-1.3.7-py2.py3-none-any.whl (144kB)\n",
            "\r\u001b[K     |██▎                             | 10kB 12.1MB/s eta 0:00:01\r\u001b[K     |████▌                           | 20kB 12.4MB/s eta 0:00:01\r\u001b[K     |██████▉                         | 30kB 9.3MB/s eta 0:00:01\r\u001b[K     |█████████                       | 40kB 7.8MB/s eta 0:00:01\r\u001b[K     |███████████▎                    | 51kB 4.4MB/s eta 0:00:01\r\u001b[K     |█████████████▋                  | 61kB 5.0MB/s eta 0:00:01\r\u001b[K     |███████████████▉                | 71kB 5.0MB/s eta 0:00:01\r\u001b[K     |██████████████████▏             | 81kB 5.4MB/s eta 0:00:01\r\u001b[K     |████████████████████▍           | 92kB 5.8MB/s eta 0:00:01\r\u001b[K     |██████████████████████▋         | 102kB 5.8MB/s eta 0:00:01\r\u001b[K     |█████████████████████████       | 112kB 5.8MB/s eta 0:00:01\r\u001b[K     |███████████████████████████▏    | 122kB 5.8MB/s eta 0:00:01\r\u001b[K     |█████████████████████████████▌  | 133kB 5.8MB/s eta 0:00:01\r\u001b[K     |███████████████████████████████▊| 143kB 5.8MB/s eta 0:00:01\r\u001b[K     |████████████████████████████████| 153kB 5.8MB/s \n",
            "\u001b[?25hInstalling collected packages: xlsxwriter\n",
            "Successfully installed xlsxwriter-1.3.7\n"
          ],
          "name": "stdout"
        }
      ]
    },
    {
      "cell_type": "code",
      "metadata": {
        "colab": {
          "base_uri": "https://localhost:8080/",
          "height": 195
        },
        "id": "N9K74aJE7oa-",
        "outputId": "d460522f-eca3-4027-82ad-89828571a524"
      },
      "source": [
        "import pandas as pd\n",
        "names=['Bob','Jessica','Mary','John','Mel']\n",
        "grades=[76,95,77,78,99]\n",
        "GradeList=zip(names,grades)\n",
        "df=pd.DataFrame(data=GradeList,columns=['Names','Grades'])\n",
        "writer=pd.ExcelWriter('dataframe.xlsx',engine='xlsxwriter')\n",
        "df.to_excel(writer,sheet_name='Sheet1')\n",
        "writer.save()\n",
        "Location=\"datasets/gradedata.xlsx\"\n",
        "df=pd.read_excel(Location)\n",
        "df.head()"
      ],
      "execution_count": null,
      "outputs": [
        {
          "output_type": "execute_result",
          "data": {
            "text/html": [
              "<div>\n",
              "<style scoped>\n",
              "    .dataframe tbody tr th:only-of-type {\n",
              "        vertical-align: middle;\n",
              "    }\n",
              "\n",
              "    .dataframe tbody tr th {\n",
              "        vertical-align: top;\n",
              "    }\n",
              "\n",
              "    .dataframe thead th {\n",
              "        text-align: right;\n",
              "    }\n",
              "</style>\n",
              "<table border=\"1\" class=\"dataframe\">\n",
              "  <thead>\n",
              "    <tr style=\"text-align: right;\">\n",
              "      <th></th>\n",
              "      <th>fname</th>\n",
              "      <th>lname</th>\n",
              "      <th>gender</th>\n",
              "      <th>age</th>\n",
              "      <th>exercise</th>\n",
              "      <th>hours</th>\n",
              "      <th>grade</th>\n",
              "      <th>address</th>\n",
              "    </tr>\n",
              "  </thead>\n",
              "  <tbody>\n",
              "    <tr>\n",
              "      <th>0</th>\n",
              "      <td>Marcia</td>\n",
              "      <td>Pugh</td>\n",
              "      <td>female</td>\n",
              "      <td>17</td>\n",
              "      <td>3</td>\n",
              "      <td>10</td>\n",
              "      <td>82.4</td>\n",
              "      <td>7379 Highland Rd. , Dublin, GA 31021</td>\n",
              "    </tr>\n",
              "    <tr>\n",
              "      <th>1</th>\n",
              "      <td>Kadeem</td>\n",
              "      <td>Morrison</td>\n",
              "      <td>male</td>\n",
              "      <td>18</td>\n",
              "      <td>4</td>\n",
              "      <td>4</td>\n",
              "      <td>78.2</td>\n",
              "      <td>8 Bayport St. , Honolulu, HI 96815</td>\n",
              "    </tr>\n",
              "    <tr>\n",
              "      <th>2</th>\n",
              "      <td>Nash</td>\n",
              "      <td>Powell</td>\n",
              "      <td>male</td>\n",
              "      <td>18</td>\n",
              "      <td>5</td>\n",
              "      <td>9</td>\n",
              "      <td>79.3</td>\n",
              "      <td>Encino, CA 91316, 3 Lilac Street</td>\n",
              "    </tr>\n",
              "    <tr>\n",
              "      <th>3</th>\n",
              "      <td>Noelani</td>\n",
              "      <td>Wagner</td>\n",
              "      <td>female</td>\n",
              "      <td>14</td>\n",
              "      <td>2</td>\n",
              "      <td>7</td>\n",
              "      <td>83.2</td>\n",
              "      <td>Riverview, FL 33569, 9998 North Smith Dr.</td>\n",
              "    </tr>\n",
              "    <tr>\n",
              "      <th>4</th>\n",
              "      <td>Noelani</td>\n",
              "      <td>Cherry</td>\n",
              "      <td>female</td>\n",
              "      <td>18</td>\n",
              "      <td>4</td>\n",
              "      <td>15</td>\n",
              "      <td>87.4</td>\n",
              "      <td>97 SE. Ocean Street , Bethlehem, PA 18015</td>\n",
              "    </tr>\n",
              "  </tbody>\n",
              "</table>\n",
              "</div>"
            ],
            "text/plain": [
              "     fname     lname  ... grade                                     address\n",
              "0   Marcia      Pugh  ...  82.4        7379 Highland Rd. , Dublin, GA 31021\n",
              "1   Kadeem  Morrison  ...  78.2          8 Bayport St. , Honolulu, HI 96815\n",
              "2     Nash    Powell  ...  79.3           Encino, CA 91316, 3 Lilac Street \n",
              "3  Noelani    Wagner  ...  83.2  Riverview, FL 33569, 9998 North Smith Dr. \n",
              "4  Noelani    Cherry  ...  87.4   97 SE. Ocean Street , Bethlehem, PA 18015\n",
              "\n",
              "[5 rows x 8 columns]"
            ]
          },
          "metadata": {
            "tags": []
          },
          "execution_count": 12
        }
      ]
    },
    {
      "cell_type": "markdown",
      "metadata": {
        "id": "QB-7Mcsha9VS"
      },
      "source": [
        "# **Loading data from SQL**\n",
        "\n",
        "\n",
        "\n"
      ]
    },
    {
      "cell_type": "code",
      "metadata": {
        "colab": {
          "base_uri": "https://localhost:8080/",
          "height": 136
        },
        "id": "575i95iKbDS_",
        "outputId": "98cfc9cc-3658-4ab5-f0f7-2344ac5400cb"
      },
      "source": [
        "import pandas as pd\n",
        "from sqlalchemy import create_engine\n",
        "#Connect to sqlite db\n",
        "db_file=r'datasets/gradedata.db'\n",
        "engine=create_engine(r\"sqlite:///{}\".format(db_file))\n",
        "sql='SELECT * from test where Grades in (76,77,78)'\n",
        "sales_data_df = pd.read_sql(sql,engine)\n",
        "sales_data_df"
      ],
      "execution_count": null,
      "outputs": [
        {
          "output_type": "execute_result",
          "data": {
            "text/html": [
              "<div>\n",
              "<style scoped>\n",
              "    .dataframe tbody tr th:only-of-type {\n",
              "        vertical-align: middle;\n",
              "    }\n",
              "\n",
              "    .dataframe tbody tr th {\n",
              "        vertical-align: top;\n",
              "    }\n",
              "\n",
              "    .dataframe thead th {\n",
              "        text-align: right;\n",
              "    }\n",
              "</style>\n",
              "<table border=\"1\" class=\"dataframe\">\n",
              "  <thead>\n",
              "    <tr style=\"text-align: right;\">\n",
              "      <th></th>\n",
              "      <th>index</th>\n",
              "      <th>Names</th>\n",
              "      <th>Grades</th>\n",
              "    </tr>\n",
              "  </thead>\n",
              "  <tbody>\n",
              "    <tr>\n",
              "      <th>0</th>\n",
              "      <td>0</td>\n",
              "      <td>Bob</td>\n",
              "      <td>76</td>\n",
              "    </tr>\n",
              "    <tr>\n",
              "      <th>1</th>\n",
              "      <td>2</td>\n",
              "      <td>Mary</td>\n",
              "      <td>77</td>\n",
              "    </tr>\n",
              "    <tr>\n",
              "      <th>2</th>\n",
              "      <td>3</td>\n",
              "      <td>John</td>\n",
              "      <td>78</td>\n",
              "    </tr>\n",
              "  </tbody>\n",
              "</table>\n",
              "</div>"
            ],
            "text/plain": [
              "   index Names  Grades\n",
              "0      0   Bob      76\n",
              "1      2  Mary      77\n",
              "2      3  John      78"
            ]
          },
          "metadata": {
            "tags": []
          },
          "execution_count": 13
        }
      ]
    },
    {
      "cell_type": "markdown",
      "metadata": {
        "id": "B3w4e89pcPVP"
      },
      "source": [
        "##**Saving data to SQL**"
      ]
    },
    {
      "cell_type": "code",
      "metadata": {
        "colab": {
          "base_uri": "https://localhost:8080/",
          "height": 195
        },
        "id": "fDRRwOPTcSt3",
        "outputId": "65a6041d-1350-455b-c6f3-7c80226942d7"
      },
      "source": [
        "names=['Bob','Jessica','Mary','John','Mel']\n",
        "grades=[76,95,77,78,99]\n",
        "GradeList=zip(names,grades)\n",
        "df=pd.DataFrame(data=GradeList,columns=['names','Grades'])\n",
        "df"
      ],
      "execution_count": null,
      "outputs": [
        {
          "output_type": "execute_result",
          "data": {
            "text/html": [
              "<div>\n",
              "<style scoped>\n",
              "    .dataframe tbody tr th:only-of-type {\n",
              "        vertical-align: middle;\n",
              "    }\n",
              "\n",
              "    .dataframe tbody tr th {\n",
              "        vertical-align: top;\n",
              "    }\n",
              "\n",
              "    .dataframe thead th {\n",
              "        text-align: right;\n",
              "    }\n",
              "</style>\n",
              "<table border=\"1\" class=\"dataframe\">\n",
              "  <thead>\n",
              "    <tr style=\"text-align: right;\">\n",
              "      <th></th>\n",
              "      <th>names</th>\n",
              "      <th>Grades</th>\n",
              "    </tr>\n",
              "  </thead>\n",
              "  <tbody>\n",
              "    <tr>\n",
              "      <th>0</th>\n",
              "      <td>Bob</td>\n",
              "      <td>76</td>\n",
              "    </tr>\n",
              "    <tr>\n",
              "      <th>1</th>\n",
              "      <td>Jessica</td>\n",
              "      <td>95</td>\n",
              "    </tr>\n",
              "    <tr>\n",
              "      <th>2</th>\n",
              "      <td>Mary</td>\n",
              "      <td>77</td>\n",
              "    </tr>\n",
              "    <tr>\n",
              "      <th>3</th>\n",
              "      <td>John</td>\n",
              "      <td>78</td>\n",
              "    </tr>\n",
              "    <tr>\n",
              "      <th>4</th>\n",
              "      <td>Mel</td>\n",
              "      <td>99</td>\n",
              "    </tr>\n",
              "  </tbody>\n",
              "</table>\n",
              "</div>"
            ],
            "text/plain": [
              "     names  Grades\n",
              "0      Bob      76\n",
              "1  Jessica      95\n",
              "2     Mary      77\n",
              "3     John      78\n",
              "4      Mel      99"
            ]
          },
          "metadata": {
            "tags": []
          },
          "execution_count": 14
        }
      ]
    },
    {
      "cell_type": "code",
      "metadata": {
        "id": "sBKfjoPuckFO"
      },
      "source": [
        "import os\n",
        "import sqlite3 as lite\n",
        "db_filename=r'mydb.db'\n",
        "con=lite.connect(db_filename)\n",
        "df.to_sql('mytable',\n",
        "          con,\n",
        "          schema=None,\n",
        "          if_exists='replace',\n",
        "          index=True,\n",
        "          index_label=None,\n",
        "          chunksize=None,\n",
        "          dtype=None\n",
        "          )\n",
        "con.close()"
      ],
      "execution_count": null,
      "outputs": []
    },
    {
      "cell_type": "markdown",
      "metadata": {
        "id": "UvPcqu99dWab"
      },
      "source": [
        "**------**"
      ]
    },
    {
      "cell_type": "code",
      "metadata": {
        "colab": {
          "base_uri": "https://localhost:8080/"
        },
        "id": "vk9-SME1dYzL",
        "outputId": "d30e5473-cd0e-4991-9724-80c49b343a77"
      },
      "source": [
        "from pandas import DataFrame\n",
        "Cars={'Brand':['Honda Civic','Toyota Corolla','Ford Focus','Audi A4'],\n",
        "      'Price':[22000,25000,27000,35000]\n",
        "      }\n",
        "df=DataFrame(Cars,columns=['Brand','Price'])\n",
        "print(df)\n"
      ],
      "execution_count": null,
      "outputs": [
        {
          "output_type": "stream",
          "text": [
            "            Brand  Price\n",
            "0     Honda Civic  22000\n",
            "1  Toyota Corolla  25000\n",
            "2      Ford Focus  27000\n",
            "3         Audi A4  35000\n"
          ],
          "name": "stdout"
        }
      ]
    },
    {
      "cell_type": "code",
      "metadata": {
        "id": "pgLvHRCQeMsz"
      },
      "source": [
        "import sqlite3"
      ],
      "execution_count": null,
      "outputs": []
    },
    {
      "cell_type": "markdown",
      "metadata": {
        "id": "c70M_0GqeRS9"
      },
      "source": [
        "###**Create db named 'TestDB1.db'**"
      ]
    },
    {
      "cell_type": "code",
      "metadata": {
        "id": "ZlQZJ33jeVvP"
      },
      "source": [
        "conn=sqlite3.connect('TestDB1.db')\n",
        "c=conn.cursor()"
      ],
      "execution_count": null,
      "outputs": []
    },
    {
      "cell_type": "markdown",
      "metadata": {
        "id": "ilGMo-C4ehEf"
      },
      "source": [
        "###**Create the 'CARS' table**"
      ]
    },
    {
      "cell_type": "code",
      "metadata": {
        "id": "fFuFOVeHejfV"
      },
      "source": [
        "c.execute('CREATE TABLE CARS (Brand text, Price number)')\n",
        "conn.commit()"
      ],
      "execution_count": null,
      "outputs": []
    },
    {
      "cell_type": "markdown",
      "metadata": {
        "id": "guRKjaPUez1b"
      },
      "source": [
        "###**use the following syantx to get from pands DataFrame to SQl**"
      ]
    },
    {
      "cell_type": "code",
      "metadata": {
        "id": "apRilePGe58Y"
      },
      "source": [
        "df.to_sql('CARS',conn,if_exists='replace',index=False)\n"
      ],
      "execution_count": null,
      "outputs": []
    },
    {
      "cell_type": "markdown",
      "metadata": {
        "id": "MrtXd5-bfHHD"
      },
      "source": [
        "###**create db named 'TESTDB2.db**"
      ]
    },
    {
      "cell_type": "code",
      "metadata": {
        "id": "4vCtd8irfGE3"
      },
      "source": [
        "conn=sqlite3.connect('TestDB2.db')\n",
        "c=conn.cursor()\n",
        "c.execute('CREATE TABLE CARS (Brand text, Price number)')\n",
        "conn.commit()"
      ],
      "execution_count": null,
      "outputs": []
    },
    {
      "cell_type": "code",
      "metadata": {
        "colab": {
          "base_uri": "https://localhost:8080/"
        },
        "id": "8bOTtqnBfdyD",
        "outputId": "dc7d10b7-c081-4023-9f7b-3a95453257de"
      },
      "source": [
        "Cars={'Brand':['Honda Civic','Toyota Corolla','Ford Focus','Audi A4'],\n",
        "      'Price':[22000,25000,27000,35000]\n",
        "      }\n",
        "df=DataFrame(Cars,columns=['Brand','Price'])\n",
        "print(df)"
      ],
      "execution_count": null,
      "outputs": [
        {
          "output_type": "stream",
          "text": [
            "            Brand  Price\n",
            "0     Honda Civic  22000\n",
            "1  Toyota Corolla  25000\n",
            "2      Ford Focus  27000\n",
            "3         Audi A4  35000\n"
          ],
          "name": "stdout"
        }
      ]
    },
    {
      "cell_type": "code",
      "metadata": {
        "id": "J8AUNM-xfhyN"
      },
      "source": [
        "df.to_sql('CARS',conn,if_exists='replace',index=False)"
      ],
      "execution_count": null,
      "outputs": []
    },
    {
      "cell_type": "markdown",
      "metadata": {
        "id": "ITzGCXEyfk4K"
      },
      "source": [
        "###**find the maximum price among all the brands**"
      ]
    },
    {
      "cell_type": "code",
      "metadata": {
        "colab": {
          "base_uri": "https://localhost:8080/"
        },
        "id": "pyIZCCqjfqJb",
        "outputId": "aebaa3ca-6e36-4b60-c8cd-b7f16534b030"
      },
      "source": [
        "c.execute('''\n",
        "SELECT Brand,max(Price) from CARS\n",
        "''')"
      ],
      "execution_count": null,
      "outputs": [
        {
          "output_type": "execute_result",
          "data": {
            "text/plain": [
              "<sqlite3.Cursor at 0x7fde8e0eadc0>"
            ]
          },
          "metadata": {
            "tags": []
          },
          "execution_count": 33
        }
      ]
    },
    {
      "cell_type": "code",
      "metadata": {
        "colab": {
          "base_uri": "https://localhost:8080/",
          "height": 77
        },
        "id": "_Nef5UAQf1zh",
        "outputId": "8603674d-a02d-41f8-c4c0-bd7565740080"
      },
      "source": [
        "df=DataFrame(c.fetchall(),columns=['Brand','Price'])\n",
        "df"
      ],
      "execution_count": null,
      "outputs": [
        {
          "output_type": "execute_result",
          "data": {
            "text/html": [
              "<div>\n",
              "<style scoped>\n",
              "    .dataframe tbody tr th:only-of-type {\n",
              "        vertical-align: middle;\n",
              "    }\n",
              "\n",
              "    .dataframe tbody tr th {\n",
              "        vertical-align: top;\n",
              "    }\n",
              "\n",
              "    .dataframe thead th {\n",
              "        text-align: right;\n",
              "    }\n",
              "</style>\n",
              "<table border=\"1\" class=\"dataframe\">\n",
              "  <thead>\n",
              "    <tr style=\"text-align: right;\">\n",
              "      <th></th>\n",
              "      <th>Brand</th>\n",
              "      <th>Price</th>\n",
              "    </tr>\n",
              "  </thead>\n",
              "  <tbody>\n",
              "    <tr>\n",
              "      <th>0</th>\n",
              "      <td>Audi A4</td>\n",
              "      <td>35000</td>\n",
              "    </tr>\n",
              "  </tbody>\n",
              "</table>\n",
              "</div>"
            ],
            "text/plain": [
              "     Brand  Price\n",
              "0  Audi A4  35000"
            ]
          },
          "metadata": {
            "tags": []
          },
          "execution_count": 34
        }
      ]
    },
    {
      "cell_type": "markdown",
      "metadata": {
        "id": "0ZGYTTZyEJln"
      },
      "source": [
        "##**Example**"
      ]
    },
    {
      "cell_type": "code",
      "metadata": {
        "colab": {
          "base_uri": "https://localhost:8080/",
          "height": 166
        },
        "id": "tHUwS8Q5ELQD",
        "outputId": "e8315b2e-0def-4d99-c8e3-04d5deff91c0"
      },
      "source": [
        "import pandas as pd\n",
        "import os\n",
        "import sqlite3 as lite\n",
        "from sqlalchemy import create_engine\n",
        "\n",
        "EmpId=[\"E101\",\"E102\",\"E103\",\"E104\"]\n",
        "FName=[\"Shweta\",\"Manisha\",\"Madhu\",\"Anita\"]\n",
        "LName=[\"Subnis\",\"Perdesi\",\"Mali\",\"Rai\"]\n",
        "Designation=[\"ProjectEngineer\",\"Tester\",\"SrSoftwareEngineer\",\"WebDeveloper\"]\n",
        "Basic_Salary=[40000,50000,60000,70000]\n",
        "\n",
        "Empdata = zip(EmpId,FName,LName,Designation,Basic_Salary)\n",
        "df = pd.DataFrame(data =Empdata, columns=['EmpId','FName','LName','Designation','Basic_Salary'])\n",
        "df.to_csv('studentgrades.csv',index=False,header=False)\n",
        "\n",
        "\n",
        "\n",
        "df\n",
        "\n",
        "df1=df.to_csv('employeedata.csv',index=False,header=True)\n",
        "\n",
        "df2=df.to_excel('employeedata2.xlsx',index=False,header=True)\n",
        "\n",
        "db_filename = r'employee.db'\n",
        "con = lite.connect(db_filename)\n",
        "df.to_sql('employee',\n",
        "con,\n",
        "schema=None,\n",
        "if_exists='replace',\n",
        "index=True,\n",
        "index_label=None,\n",
        "chunksize=None,\n",
        "dtype=None)\n",
        "con.close()\n",
        "\n",
        "dfcsv=pd.read_csv(\"employeedata.csv\")\n",
        "\n",
        "dfcsv\n",
        "\n",
        "dfex=pd.read_excel(\"employeedata2.xlsx\")\n",
        "dfex\n",
        "\n",
        "db_file = r'employee.db'\n",
        "engine = create_engine(r\"sqlite:///{}\" .format(db_file))\n",
        "sql = 'SELECT * from employee '\n",
        "'where Basic_Salary in (40000,50000,60000,70000)'\n",
        "empdf = pd.read_sql(sql, engine)\n",
        "empdf"
      ],
      "execution_count": null,
      "outputs": [
        {
          "output_type": "execute_result",
          "data": {
            "text/html": [
              "<div>\n",
              "<style scoped>\n",
              "    .dataframe tbody tr th:only-of-type {\n",
              "        vertical-align: middle;\n",
              "    }\n",
              "\n",
              "    .dataframe tbody tr th {\n",
              "        vertical-align: top;\n",
              "    }\n",
              "\n",
              "    .dataframe thead th {\n",
              "        text-align: right;\n",
              "    }\n",
              "</style>\n",
              "<table border=\"1\" class=\"dataframe\">\n",
              "  <thead>\n",
              "    <tr style=\"text-align: right;\">\n",
              "      <th></th>\n",
              "      <th>index</th>\n",
              "      <th>EmpId</th>\n",
              "      <th>FName</th>\n",
              "      <th>LName</th>\n",
              "      <th>Designation</th>\n",
              "      <th>Basic_Salary</th>\n",
              "    </tr>\n",
              "  </thead>\n",
              "  <tbody>\n",
              "    <tr>\n",
              "      <th>0</th>\n",
              "      <td>0</td>\n",
              "      <td>E101</td>\n",
              "      <td>Shweta</td>\n",
              "      <td>Subnis</td>\n",
              "      <td>ProjectEngineer</td>\n",
              "      <td>40000</td>\n",
              "    </tr>\n",
              "    <tr>\n",
              "      <th>1</th>\n",
              "      <td>1</td>\n",
              "      <td>E102</td>\n",
              "      <td>Manisha</td>\n",
              "      <td>Perdesi</td>\n",
              "      <td>Tester</td>\n",
              "      <td>50000</td>\n",
              "    </tr>\n",
              "    <tr>\n",
              "      <th>2</th>\n",
              "      <td>2</td>\n",
              "      <td>E103</td>\n",
              "      <td>Madhu</td>\n",
              "      <td>Mali</td>\n",
              "      <td>SrSoftwareEngineer</td>\n",
              "      <td>60000</td>\n",
              "    </tr>\n",
              "    <tr>\n",
              "      <th>3</th>\n",
              "      <td>3</td>\n",
              "      <td>E104</td>\n",
              "      <td>Anita</td>\n",
              "      <td>Rai</td>\n",
              "      <td>WebDeveloper</td>\n",
              "      <td>70000</td>\n",
              "    </tr>\n",
              "  </tbody>\n",
              "</table>\n",
              "</div>"
            ],
            "text/plain": [
              "   index EmpId    FName    LName         Designation  Basic_Salary\n",
              "0      0  E101   Shweta   Subnis     ProjectEngineer         40000\n",
              "1      1  E102  Manisha  Perdesi              Tester         50000\n",
              "2      2  E103    Madhu     Mali  SrSoftwareEngineer         60000\n",
              "3      3  E104    Anita      Rai        WebDeveloper         70000"
            ]
          },
          "metadata": {
            "tags": []
          },
          "execution_count": 3
        }
      ]
    }
  ]
}
